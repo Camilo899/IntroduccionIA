{
  "nbformat": 4,
  "nbformat_minor": 0,
  "metadata": {
    "colab": {
      "provenance": [],
      "collapsed_sections": [
        "GIsKwgljb86S",
        "uQnDP4_NsaRi",
        "9vRdJLkixciV",
        "GNcKrYyvrwl-",
        "KRBmX-NYWfHu",
        "IhGu5TbHZ6ux",
        "xew_WlIlp_-V",
        "id9PYmBtXj3z",
        "NYTD7T3cQmC9"
      ],
      "authorship_tag": "ABX9TyMfxBk0vwJyK8eWhL3ncxO4",
      "include_colab_link": true
    },
    "kernelspec": {
      "name": "python3",
      "display_name": "Python 3"
    },
    "language_info": {
      "name": "python"
    }
  },
  "cells": [
    {
      "cell_type": "markdown",
      "metadata": {
        "id": "view-in-github",
        "colab_type": "text"
      },
      "source": [
        "<a href=\"https://colab.research.google.com/github/Camilo899/IntroduccionIA/blob/main/04%20-%20modelos_no_supervisados.ipynb\" target=\"_parent\"><img src=\"https://colab.research.google.com/assets/colab-badge.svg\" alt=\"Open In Colab\"/></a>"
      ]
    },
    {
      "cell_type": "markdown",
      "source": [
        "# **Exploración de Datos**\n",
        "\n",
        "\n",
        "---\n",
        "\n",
        "\n",
        "---\n",
        "\n"
      ],
      "metadata": {
        "id": "GaFnOqh3eyCm"
      }
    },
    {
      "cell_type": "markdown",
      "source": [
        "# **Importando Librearías**\n",
        "\n",
        "---\n",
        "\n"
      ],
      "metadata": {
        "id": "2XBXhvdlH9w-"
      }
    },
    {
      "cell_type": "code",
      "execution_count": 65,
      "metadata": {
        "id": "c0ReK1oSH44D"
      },
      "outputs": [],
      "source": [
        "import numpy as np\n",
        "import pandas as pd\n",
        "import matplotlib.pyplot as plt\n",
        "#from sklearn.cluster import KMeans\n",
        "import seaborn as sns\n",
        "\n",
        "from sklearn.preprocessing import MinMaxScaler\n",
        "from sklearn.preprocessing import LabelEncoder\n",
        "\n",
        "from sklearn.model_selection import train_test_split\n",
        "from sklearn.linear_model import LogisticRegression\n",
        "from sklearn.metrics import accuracy_score, recall_score, precision_score, f1_score, roc_auc_score\n",
        "from sklearn.model_selection import RandomizedSearchCV\n",
        "\n",
        "from sklearn.ensemble import RandomForestClassifier\n",
        "\n",
        "from sklearn.cluster import KMeans\n",
        "\n",
        "from sklearn.decomposition import PCA\n",
        "from sklearn.pipeline import make_pipeline\n",
        "from sklearn.preprocessing import StandardScaler\n",
        "from sklearn.preprocessing import scale"
      ]
    },
    {
      "cell_type": "markdown",
      "source": [
        "# Aq**uisición de Datos**\n",
        "\n",
        "---\n",
        "\n"
      ],
      "metadata": {
        "id": "INWeT9ycIIZy"
      }
    },
    {
      "cell_type": "markdown",
      "source": [
        "## Accediendo al Drive"
      ],
      "metadata": {
        "id": "cizSQKElIPdk"
      }
    },
    {
      "cell_type": "code",
      "source": [
        "from google.colab import drive\n",
        "drive.mount('/content/drive')"
      ],
      "metadata": {
        "colab": {
          "base_uri": "https://localhost:8080/"
        },
        "id": "fk3oqPOvISqC",
        "outputId": "bc13c7f1-e4ba-4ddb-e4cf-2f867af8eea9"
      },
      "execution_count": 2,
      "outputs": [
        {
          "output_type": "stream",
          "name": "stdout",
          "text": [
            "Mounted at /content/drive\n"
          ]
        }
      ]
    },
    {
      "cell_type": "markdown",
      "source": [
        "## Cargando Base de Datos (Drive)"
      ],
      "metadata": {
        "id": "Pl-C9AImIXq9"
      }
    },
    {
      "cell_type": "code",
      "source": [
        "import pandas as pd\n",
        "\n",
        "data = pd.read_excel('/content/drive/MyDrive/UDEA/2023-02/IntroduccionIA/Proyecto/Telco_customer_churn.xlsx')\n"
      ],
      "metadata": {
        "id": "0CLcod0UIdFw"
      },
      "execution_count": 66,
      "outputs": []
    },
    {
      "cell_type": "code",
      "source": [],
      "metadata": {
        "id": "w6HyDwKGLtf_"
      },
      "execution_count": null,
      "outputs": []
    },
    {
      "cell_type": "markdown",
      "source": [
        "## ***Cargando de Forma Local***"
      ],
      "metadata": {
        "id": "QPL2qtFvQGeH"
      }
    },
    {
      "cell_type": "code",
      "source": [
        "import pandas as pd\n",
        "\n",
        "# Cargar el archivo Excel en un data_2Frame\n",
        "data = pd.read_excel('/content/Telco_customer_churn.xlsx')"
      ],
      "metadata": {
        "id": "na0WwcKcLs8H"
      },
      "execution_count": null,
      "outputs": []
    },
    {
      "cell_type": "markdown",
      "source": [
        "- **Nota**: Los datos de la Base de Datos Provienen de : https://www.kaggle.com/datasets/yeanzc/telco-customer-churn-ibm-dataset"
      ],
      "metadata": {
        "id": "2OaSwR5YPz5t"
      }
    },
    {
      "cell_type": "markdown",
      "source": [
        "## **Revisión Inicial**\n",
        "\n",
        "---\n",
        "\n"
      ],
      "metadata": {
        "id": "uAobqiYNIpHG"
      }
    },
    {
      "cell_type": "code",
      "source": [
        "data.head()"
      ],
      "metadata": {
        "colab": {
          "base_uri": "https://localhost:8080/",
          "height": 394
        },
        "id": "rnhOAOnWI1nd",
        "outputId": "a0c7152c-7a2d-4271-c2e8-bd496ac0c713"
      },
      "execution_count": 67,
      "outputs": [
        {
          "output_type": "execute_result",
          "data": {
            "text/plain": [
              "   CustomerID  Count        Country       State         City  Zip Code  \\\n",
              "0  3668-QPYBK      1  United States  California  Los Angeles     90003   \n",
              "1  9237-HQITU      1  United States  California  Los Angeles     90005   \n",
              "2  9305-CDSKC      1  United States  California  Los Angeles     90006   \n",
              "3  7892-POOKP      1  United States  California  Los Angeles     90010   \n",
              "4  0280-XJGEX      1  United States  California  Los Angeles     90015   \n",
              "\n",
              "                 Lat Long   Latitude   Longitude  Gender  ...        Contract  \\\n",
              "0  33.964131, -118.272783  33.964131 -118.272783    Male  ...  Month-to-month   \n",
              "1   34.059281, -118.30742  34.059281 -118.307420  Female  ...  Month-to-month   \n",
              "2  34.048013, -118.293953  34.048013 -118.293953  Female  ...  Month-to-month   \n",
              "3  34.062125, -118.315709  34.062125 -118.315709  Female  ...  Month-to-month   \n",
              "4  34.039224, -118.266293  34.039224 -118.266293    Male  ...  Month-to-month   \n",
              "\n",
              "  Paperless Billing             Payment Method  Monthly Charges Total Charges  \\\n",
              "0               Yes               Mailed check            53.85        108.15   \n",
              "1               Yes           Electronic check            70.70        151.65   \n",
              "2               Yes           Electronic check            99.65         820.5   \n",
              "3               Yes           Electronic check           104.80       3046.05   \n",
              "4               Yes  Bank transfer (automatic)           103.70        5036.3   \n",
              "\n",
              "  Churn Label Churn Value Churn Score  CLTV                   Churn Reason  \n",
              "0         Yes           1          86  3239   Competitor made better offer  \n",
              "1         Yes           1          67  2701                          Moved  \n",
              "2         Yes           1          86  5372                          Moved  \n",
              "3         Yes           1          84  5003                          Moved  \n",
              "4         Yes           1          89  5340  Competitor had better devices  \n",
              "\n",
              "[5 rows x 33 columns]"
            ],
            "text/html": [
              "\n",
              "  <div id=\"df-e0a9893e-d346-4a0e-b2e0-c7533feedacc\" class=\"colab-df-container\">\n",
              "    <div>\n",
              "<style scoped>\n",
              "    .dataframe tbody tr th:only-of-type {\n",
              "        vertical-align: middle;\n",
              "    }\n",
              "\n",
              "    .dataframe tbody tr th {\n",
              "        vertical-align: top;\n",
              "    }\n",
              "\n",
              "    .dataframe thead th {\n",
              "        text-align: right;\n",
              "    }\n",
              "</style>\n",
              "<table border=\"1\" class=\"dataframe\">\n",
              "  <thead>\n",
              "    <tr style=\"text-align: right;\">\n",
              "      <th></th>\n",
              "      <th>CustomerID</th>\n",
              "      <th>Count</th>\n",
              "      <th>Country</th>\n",
              "      <th>State</th>\n",
              "      <th>City</th>\n",
              "      <th>Zip Code</th>\n",
              "      <th>Lat Long</th>\n",
              "      <th>Latitude</th>\n",
              "      <th>Longitude</th>\n",
              "      <th>Gender</th>\n",
              "      <th>...</th>\n",
              "      <th>Contract</th>\n",
              "      <th>Paperless Billing</th>\n",
              "      <th>Payment Method</th>\n",
              "      <th>Monthly Charges</th>\n",
              "      <th>Total Charges</th>\n",
              "      <th>Churn Label</th>\n",
              "      <th>Churn Value</th>\n",
              "      <th>Churn Score</th>\n",
              "      <th>CLTV</th>\n",
              "      <th>Churn Reason</th>\n",
              "    </tr>\n",
              "  </thead>\n",
              "  <tbody>\n",
              "    <tr>\n",
              "      <th>0</th>\n",
              "      <td>3668-QPYBK</td>\n",
              "      <td>1</td>\n",
              "      <td>United States</td>\n",
              "      <td>California</td>\n",
              "      <td>Los Angeles</td>\n",
              "      <td>90003</td>\n",
              "      <td>33.964131, -118.272783</td>\n",
              "      <td>33.964131</td>\n",
              "      <td>-118.272783</td>\n",
              "      <td>Male</td>\n",
              "      <td>...</td>\n",
              "      <td>Month-to-month</td>\n",
              "      <td>Yes</td>\n",
              "      <td>Mailed check</td>\n",
              "      <td>53.85</td>\n",
              "      <td>108.15</td>\n",
              "      <td>Yes</td>\n",
              "      <td>1</td>\n",
              "      <td>86</td>\n",
              "      <td>3239</td>\n",
              "      <td>Competitor made better offer</td>\n",
              "    </tr>\n",
              "    <tr>\n",
              "      <th>1</th>\n",
              "      <td>9237-HQITU</td>\n",
              "      <td>1</td>\n",
              "      <td>United States</td>\n",
              "      <td>California</td>\n",
              "      <td>Los Angeles</td>\n",
              "      <td>90005</td>\n",
              "      <td>34.059281, -118.30742</td>\n",
              "      <td>34.059281</td>\n",
              "      <td>-118.307420</td>\n",
              "      <td>Female</td>\n",
              "      <td>...</td>\n",
              "      <td>Month-to-month</td>\n",
              "      <td>Yes</td>\n",
              "      <td>Electronic check</td>\n",
              "      <td>70.70</td>\n",
              "      <td>151.65</td>\n",
              "      <td>Yes</td>\n",
              "      <td>1</td>\n",
              "      <td>67</td>\n",
              "      <td>2701</td>\n",
              "      <td>Moved</td>\n",
              "    </tr>\n",
              "    <tr>\n",
              "      <th>2</th>\n",
              "      <td>9305-CDSKC</td>\n",
              "      <td>1</td>\n",
              "      <td>United States</td>\n",
              "      <td>California</td>\n",
              "      <td>Los Angeles</td>\n",
              "      <td>90006</td>\n",
              "      <td>34.048013, -118.293953</td>\n",
              "      <td>34.048013</td>\n",
              "      <td>-118.293953</td>\n",
              "      <td>Female</td>\n",
              "      <td>...</td>\n",
              "      <td>Month-to-month</td>\n",
              "      <td>Yes</td>\n",
              "      <td>Electronic check</td>\n",
              "      <td>99.65</td>\n",
              "      <td>820.5</td>\n",
              "      <td>Yes</td>\n",
              "      <td>1</td>\n",
              "      <td>86</td>\n",
              "      <td>5372</td>\n",
              "      <td>Moved</td>\n",
              "    </tr>\n",
              "    <tr>\n",
              "      <th>3</th>\n",
              "      <td>7892-POOKP</td>\n",
              "      <td>1</td>\n",
              "      <td>United States</td>\n",
              "      <td>California</td>\n",
              "      <td>Los Angeles</td>\n",
              "      <td>90010</td>\n",
              "      <td>34.062125, -118.315709</td>\n",
              "      <td>34.062125</td>\n",
              "      <td>-118.315709</td>\n",
              "      <td>Female</td>\n",
              "      <td>...</td>\n",
              "      <td>Month-to-month</td>\n",
              "      <td>Yes</td>\n",
              "      <td>Electronic check</td>\n",
              "      <td>104.80</td>\n",
              "      <td>3046.05</td>\n",
              "      <td>Yes</td>\n",
              "      <td>1</td>\n",
              "      <td>84</td>\n",
              "      <td>5003</td>\n",
              "      <td>Moved</td>\n",
              "    </tr>\n",
              "    <tr>\n",
              "      <th>4</th>\n",
              "      <td>0280-XJGEX</td>\n",
              "      <td>1</td>\n",
              "      <td>United States</td>\n",
              "      <td>California</td>\n",
              "      <td>Los Angeles</td>\n",
              "      <td>90015</td>\n",
              "      <td>34.039224, -118.266293</td>\n",
              "      <td>34.039224</td>\n",
              "      <td>-118.266293</td>\n",
              "      <td>Male</td>\n",
              "      <td>...</td>\n",
              "      <td>Month-to-month</td>\n",
              "      <td>Yes</td>\n",
              "      <td>Bank transfer (automatic)</td>\n",
              "      <td>103.70</td>\n",
              "      <td>5036.3</td>\n",
              "      <td>Yes</td>\n",
              "      <td>1</td>\n",
              "      <td>89</td>\n",
              "      <td>5340</td>\n",
              "      <td>Competitor had better devices</td>\n",
              "    </tr>\n",
              "  </tbody>\n",
              "</table>\n",
              "<p>5 rows × 33 columns</p>\n",
              "</div>\n",
              "    <div class=\"colab-df-buttons\">\n",
              "\n",
              "  <div class=\"colab-df-container\">\n",
              "    <button class=\"colab-df-convert\" onclick=\"convertToInteractive('df-e0a9893e-d346-4a0e-b2e0-c7533feedacc')\"\n",
              "            title=\"Convert this dataframe to an interactive table.\"\n",
              "            style=\"display:none;\">\n",
              "\n",
              "  <svg xmlns=\"http://www.w3.org/2000/svg\" height=\"24px\" viewBox=\"0 -960 960 960\">\n",
              "    <path d=\"M120-120v-720h720v720H120Zm60-500h600v-160H180v160Zm220 220h160v-160H400v160Zm0 220h160v-160H400v160ZM180-400h160v-160H180v160Zm440 0h160v-160H620v160ZM180-180h160v-160H180v160Zm440 0h160v-160H620v160Z\"/>\n",
              "  </svg>\n",
              "    </button>\n",
              "\n",
              "  <style>\n",
              "    .colab-df-container {\n",
              "      display:flex;\n",
              "      gap: 12px;\n",
              "    }\n",
              "\n",
              "    .colab-df-convert {\n",
              "      background-color: #E8F0FE;\n",
              "      border: none;\n",
              "      border-radius: 50%;\n",
              "      cursor: pointer;\n",
              "      display: none;\n",
              "      fill: #1967D2;\n",
              "      height: 32px;\n",
              "      padding: 0 0 0 0;\n",
              "      width: 32px;\n",
              "    }\n",
              "\n",
              "    .colab-df-convert:hover {\n",
              "      background-color: #E2EBFA;\n",
              "      box-shadow: 0px 1px 2px rgba(60, 64, 67, 0.3), 0px 1px 3px 1px rgba(60, 64, 67, 0.15);\n",
              "      fill: #174EA6;\n",
              "    }\n",
              "\n",
              "    .colab-df-buttons div {\n",
              "      margin-bottom: 4px;\n",
              "    }\n",
              "\n",
              "    [theme=dark] .colab-df-convert {\n",
              "      background-color: #3B4455;\n",
              "      fill: #D2E3FC;\n",
              "    }\n",
              "\n",
              "    [theme=dark] .colab-df-convert:hover {\n",
              "      background-color: #434B5C;\n",
              "      box-shadow: 0px 1px 3px 1px rgba(0, 0, 0, 0.15);\n",
              "      filter: drop-shadow(0px 1px 2px rgba(0, 0, 0, 0.3));\n",
              "      fill: #FFFFFF;\n",
              "    }\n",
              "  </style>\n",
              "\n",
              "    <script>\n",
              "      const buttonEl =\n",
              "        document.querySelector('#df-e0a9893e-d346-4a0e-b2e0-c7533feedacc button.colab-df-convert');\n",
              "      buttonEl.style.display =\n",
              "        google.colab.kernel.accessAllowed ? 'block' : 'none';\n",
              "\n",
              "      async function convertToInteractive(key) {\n",
              "        const element = document.querySelector('#df-e0a9893e-d346-4a0e-b2e0-c7533feedacc');\n",
              "        const dataTable =\n",
              "          await google.colab.kernel.invokeFunction('convertToInteractive',\n",
              "                                                    [key], {});\n",
              "        if (!dataTable) return;\n",
              "\n",
              "        const docLinkHtml = 'Like what you see? Visit the ' +\n",
              "          '<a target=\"_blank\" href=https://colab.research.google.com/notebooks/data_table.ipynb>data table notebook</a>'\n",
              "          + ' to learn more about interactive tables.';\n",
              "        element.innerHTML = '';\n",
              "        dataTable['output_type'] = 'display_data';\n",
              "        await google.colab.output.renderOutput(dataTable, element);\n",
              "        const docLink = document.createElement('div');\n",
              "        docLink.innerHTML = docLinkHtml;\n",
              "        element.appendChild(docLink);\n",
              "      }\n",
              "    </script>\n",
              "  </div>\n",
              "\n",
              "\n",
              "<div id=\"df-27903b6d-c9db-4292-8e8d-c2bca570966b\">\n",
              "  <button class=\"colab-df-quickchart\" onclick=\"quickchart('df-27903b6d-c9db-4292-8e8d-c2bca570966b')\"\n",
              "            title=\"Suggest charts\"\n",
              "            style=\"display:none;\">\n",
              "\n",
              "<svg xmlns=\"http://www.w3.org/2000/svg\" height=\"24px\"viewBox=\"0 0 24 24\"\n",
              "     width=\"24px\">\n",
              "    <g>\n",
              "        <path d=\"M19 3H5c-1.1 0-2 .9-2 2v14c0 1.1.9 2 2 2h14c1.1 0 2-.9 2-2V5c0-1.1-.9-2-2-2zM9 17H7v-7h2v7zm4 0h-2V7h2v10zm4 0h-2v-4h2v4z\"/>\n",
              "    </g>\n",
              "</svg>\n",
              "  </button>\n",
              "\n",
              "<style>\n",
              "  .colab-df-quickchart {\n",
              "      --bg-color: #E8F0FE;\n",
              "      --fill-color: #1967D2;\n",
              "      --hover-bg-color: #E2EBFA;\n",
              "      --hover-fill-color: #174EA6;\n",
              "      --disabled-fill-color: #AAA;\n",
              "      --disabled-bg-color: #DDD;\n",
              "  }\n",
              "\n",
              "  [theme=dark] .colab-df-quickchart {\n",
              "      --bg-color: #3B4455;\n",
              "      --fill-color: #D2E3FC;\n",
              "      --hover-bg-color: #434B5C;\n",
              "      --hover-fill-color: #FFFFFF;\n",
              "      --disabled-bg-color: #3B4455;\n",
              "      --disabled-fill-color: #666;\n",
              "  }\n",
              "\n",
              "  .colab-df-quickchart {\n",
              "    background-color: var(--bg-color);\n",
              "    border: none;\n",
              "    border-radius: 50%;\n",
              "    cursor: pointer;\n",
              "    display: none;\n",
              "    fill: var(--fill-color);\n",
              "    height: 32px;\n",
              "    padding: 0;\n",
              "    width: 32px;\n",
              "  }\n",
              "\n",
              "  .colab-df-quickchart:hover {\n",
              "    background-color: var(--hover-bg-color);\n",
              "    box-shadow: 0 1px 2px rgba(60, 64, 67, 0.3), 0 1px 3px 1px rgba(60, 64, 67, 0.15);\n",
              "    fill: var(--button-hover-fill-color);\n",
              "  }\n",
              "\n",
              "  .colab-df-quickchart-complete:disabled,\n",
              "  .colab-df-quickchart-complete:disabled:hover {\n",
              "    background-color: var(--disabled-bg-color);\n",
              "    fill: var(--disabled-fill-color);\n",
              "    box-shadow: none;\n",
              "  }\n",
              "\n",
              "  .colab-df-spinner {\n",
              "    border: 2px solid var(--fill-color);\n",
              "    border-color: transparent;\n",
              "    border-bottom-color: var(--fill-color);\n",
              "    animation:\n",
              "      spin 1s steps(1) infinite;\n",
              "  }\n",
              "\n",
              "  @keyframes spin {\n",
              "    0% {\n",
              "      border-color: transparent;\n",
              "      border-bottom-color: var(--fill-color);\n",
              "      border-left-color: var(--fill-color);\n",
              "    }\n",
              "    20% {\n",
              "      border-color: transparent;\n",
              "      border-left-color: var(--fill-color);\n",
              "      border-top-color: var(--fill-color);\n",
              "    }\n",
              "    30% {\n",
              "      border-color: transparent;\n",
              "      border-left-color: var(--fill-color);\n",
              "      border-top-color: var(--fill-color);\n",
              "      border-right-color: var(--fill-color);\n",
              "    }\n",
              "    40% {\n",
              "      border-color: transparent;\n",
              "      border-right-color: var(--fill-color);\n",
              "      border-top-color: var(--fill-color);\n",
              "    }\n",
              "    60% {\n",
              "      border-color: transparent;\n",
              "      border-right-color: var(--fill-color);\n",
              "    }\n",
              "    80% {\n",
              "      border-color: transparent;\n",
              "      border-right-color: var(--fill-color);\n",
              "      border-bottom-color: var(--fill-color);\n",
              "    }\n",
              "    90% {\n",
              "      border-color: transparent;\n",
              "      border-bottom-color: var(--fill-color);\n",
              "    }\n",
              "  }\n",
              "</style>\n",
              "\n",
              "  <script>\n",
              "    async function quickchart(key) {\n",
              "      const quickchartButtonEl =\n",
              "        document.querySelector('#' + key + ' button');\n",
              "      quickchartButtonEl.disabled = true;  // To prevent multiple clicks.\n",
              "      quickchartButtonEl.classList.add('colab-df-spinner');\n",
              "      try {\n",
              "        const charts = await google.colab.kernel.invokeFunction(\n",
              "            'suggestCharts', [key], {});\n",
              "      } catch (error) {\n",
              "        console.error('Error during call to suggestCharts:', error);\n",
              "      }\n",
              "      quickchartButtonEl.classList.remove('colab-df-spinner');\n",
              "      quickchartButtonEl.classList.add('colab-df-quickchart-complete');\n",
              "    }\n",
              "    (() => {\n",
              "      let quickchartButtonEl =\n",
              "        document.querySelector('#df-27903b6d-c9db-4292-8e8d-c2bca570966b button');\n",
              "      quickchartButtonEl.style.display =\n",
              "        google.colab.kernel.accessAllowed ? 'block' : 'none';\n",
              "    })();\n",
              "  </script>\n",
              "</div>\n",
              "    </div>\n",
              "  </div>\n"
            ]
          },
          "metadata": {},
          "execution_count": 67
        }
      ]
    },
    {
      "cell_type": "code",
      "source": [
        "data.info()"
      ],
      "metadata": {
        "colab": {
          "base_uri": "https://localhost:8080/"
        },
        "id": "HsjfhbeGI3I2",
        "outputId": "5d058f81-78c5-440b-c357-f47792e86644"
      },
      "execution_count": 5,
      "outputs": [
        {
          "output_type": "stream",
          "name": "stdout",
          "text": [
            "<class 'pandas.core.frame.DataFrame'>\n",
            "RangeIndex: 7043 entries, 0 to 7042\n",
            "Data columns (total 33 columns):\n",
            " #   Column             Non-Null Count  Dtype  \n",
            "---  ------             --------------  -----  \n",
            " 0   CustomerID         7043 non-null   object \n",
            " 1   Count              7043 non-null   int64  \n",
            " 2   Country            7043 non-null   object \n",
            " 3   State              7043 non-null   object \n",
            " 4   City               7043 non-null   object \n",
            " 5   Zip Code           7043 non-null   int64  \n",
            " 6   Lat Long           7043 non-null   object \n",
            " 7   Latitude           7043 non-null   float64\n",
            " 8   Longitude          7043 non-null   float64\n",
            " 9   Gender             7043 non-null   object \n",
            " 10  Senior Citizen     7043 non-null   object \n",
            " 11  Partner            7043 non-null   object \n",
            " 12  Dependents         7043 non-null   object \n",
            " 13  Tenure Months      7043 non-null   int64  \n",
            " 14  Phone Service      7043 non-null   object \n",
            " 15  Multiple Lines     7043 non-null   object \n",
            " 16  Internet Service   7043 non-null   object \n",
            " 17  Online Security    7043 non-null   object \n",
            " 18  Online Backup      7043 non-null   object \n",
            " 19  Device Protection  7043 non-null   object \n",
            " 20  Tech Support       7043 non-null   object \n",
            " 21  Streaming TV       7043 non-null   object \n",
            " 22  Streaming Movies   7043 non-null   object \n",
            " 23  Contract           7043 non-null   object \n",
            " 24  Paperless Billing  7043 non-null   object \n",
            " 25  Payment Method     7043 non-null   object \n",
            " 26  Monthly Charges    7043 non-null   float64\n",
            " 27  Total Charges      7043 non-null   object \n",
            " 28  Churn Label        7043 non-null   object \n",
            " 29  Churn Value        7043 non-null   int64  \n",
            " 30  Churn Score        7043 non-null   int64  \n",
            " 31  CLTV               7043 non-null   int64  \n",
            " 32  Churn Reason       1869 non-null   object \n",
            "dtypes: float64(3), int64(6), object(24)\n",
            "memory usage: 1.8+ MB\n"
          ]
        }
      ]
    },
    {
      "cell_type": "markdown",
      "source": [
        "## Desccripción de Columnas"
      ],
      "metadata": {
        "id": "GIsKwgljb86S"
      }
    },
    {
      "cell_type": "code",
      "source": [
        "print(data.columns)\n",
        "print('\\n',data.shape)"
      ],
      "metadata": {
        "colab": {
          "base_uri": "https://localhost:8080/"
        },
        "id": "BhnyxDqhcAi1",
        "outputId": "9d70271f-1b2e-4547-a88c-fdbafeb7f73b"
      },
      "execution_count": null,
      "outputs": [
        {
          "output_type": "stream",
          "name": "stdout",
          "text": [
            "Index(['CustomerID', 'Count', 'Country', 'State', 'City', 'Zip Code',\n",
            "       'Lat Long', 'Latitude', 'Longitude', 'Gender', 'Senior Citizen',\n",
            "       'Partner', 'Dependents', 'Tenure Months', 'Phone Service',\n",
            "       'Multiple Lines', 'Internet Service', 'Online Security',\n",
            "       'Online Backup', 'Device Protection', 'Tech Support', 'Streaming TV',\n",
            "       'Streaming Movies', 'Contract', 'Paperless Billing', 'Payment Method',\n",
            "       'Monthly Charges', 'Total Charges', 'Churn Label', 'Churn Value',\n",
            "       'Churn Score', 'CLTV', 'Churn Reason'],\n",
            "      dtype='object')\n",
            "\n",
            " (7043, 33)\n"
          ]
        }
      ]
    },
    {
      "cell_type": "markdown",
      "source": [
        "## Imprimiendo data 2 (Excluyendo algunas Columnas)"
      ],
      "metadata": {
        "id": "g9m7y-Ogr9I-"
      }
    },
    {
      "cell_type": "code",
      "source": [
        "columnas_a_excluir = ['CustomerID', 'Count', 'Country', 'State', 'Zip Code', 'Lat Long', 'Latitude', 'Longitude',...]\n",
        "\n",
        "# Selecciona solo las columnas que no están en la lista de columnas a excluir\n",
        "data_2= data[data.columns.difference(columnas_a_excluir)]\n",
        "\n",
        "# Imprime el dataFrame filtrado\n",
        "print(data_2)"
      ],
      "metadata": {
        "colab": {
          "base_uri": "https://localhost:8080/"
        },
        "id": "cNu4N-tUsKRq",
        "outputId": "984761f6-c8dd-40e3-f75d-27405bcf24b5"
      },
      "execution_count": 6,
      "outputs": [
        {
          "output_type": "stream",
          "name": "stdout",
          "text": [
            "      CLTV Churn Label                   Churn Reason  Churn Score  \\\n",
            "0     3239         Yes   Competitor made better offer           86   \n",
            "1     2701         Yes                          Moved           67   \n",
            "2     5372         Yes                          Moved           86   \n",
            "3     5003         Yes                          Moved           84   \n",
            "4     5340         Yes  Competitor had better devices           89   \n",
            "...    ...         ...                            ...          ...   \n",
            "7038  5306          No                            NaN           45   \n",
            "7039  2140          No                            NaN           59   \n",
            "7040  5560          No                            NaN           71   \n",
            "7041  2793          No                            NaN           59   \n",
            "7042  5097          No                            NaN           38   \n",
            "\n",
            "      Churn Value          City        Contract Dependents  \\\n",
            "0               1   Los Angeles  Month-to-month         No   \n",
            "1               1   Los Angeles  Month-to-month        Yes   \n",
            "2               1   Los Angeles  Month-to-month        Yes   \n",
            "3               1   Los Angeles  Month-to-month        Yes   \n",
            "4               1   Los Angeles  Month-to-month        Yes   \n",
            "...           ...           ...             ...        ...   \n",
            "7038            0       Landers        Two year         No   \n",
            "7039            0      Adelanto        One year        Yes   \n",
            "7040            0         Amboy        One year        Yes   \n",
            "7041            0  Angelus Oaks  Month-to-month        Yes   \n",
            "7042            0  Apple Valley        Two year         No   \n",
            "\n",
            "        Device Protection  Gender  ... Paperless Billing  Partner  \\\n",
            "0                      No    Male  ...               Yes       No   \n",
            "1                      No  Female  ...               Yes       No   \n",
            "2                     Yes  Female  ...               Yes       No   \n",
            "3                     Yes  Female  ...               Yes      Yes   \n",
            "4                     Yes    Male  ...               Yes       No   \n",
            "...                   ...     ...  ...               ...      ...   \n",
            "7038  No internet service  Female  ...               Yes       No   \n",
            "7039                  Yes    Male  ...               Yes      Yes   \n",
            "7040                  Yes  Female  ...               Yes      Yes   \n",
            "7041                   No  Female  ...               Yes      Yes   \n",
            "7042                  Yes    Male  ...               Yes       No   \n",
            "\n",
            "                 Payment Method Phone Service Senior Citizen  \\\n",
            "0                  Mailed check           Yes             No   \n",
            "1              Electronic check           Yes             No   \n",
            "2              Electronic check           Yes             No   \n",
            "3              Electronic check           Yes             No   \n",
            "4     Bank transfer (automatic)           Yes             No   \n",
            "...                         ...           ...            ...   \n",
            "7038  Bank transfer (automatic)           Yes             No   \n",
            "7039               Mailed check           Yes             No   \n",
            "7040    Credit card (automatic)           Yes             No   \n",
            "7041           Electronic check            No             No   \n",
            "7042  Bank transfer (automatic)           Yes             No   \n",
            "\n",
            "         Streaming Movies         Streaming TV         Tech Support  \\\n",
            "0                      No                   No                   No   \n",
            "1                      No                   No                   No   \n",
            "2                     Yes                  Yes                   No   \n",
            "3                     Yes                  Yes                  Yes   \n",
            "4                     Yes                  Yes                   No   \n",
            "...                   ...                  ...                  ...   \n",
            "7038  No internet service  No internet service  No internet service   \n",
            "7039                  Yes                  Yes                  Yes   \n",
            "7040                  Yes                  Yes                   No   \n",
            "7041                   No                   No                   No   \n",
            "7042                  Yes                  Yes                  Yes   \n",
            "\n",
            "     Tenure Months Total Charges  \n",
            "0                2        108.15  \n",
            "1                2        151.65  \n",
            "2                8         820.5  \n",
            "3               28       3046.05  \n",
            "4               49        5036.3  \n",
            "...            ...           ...  \n",
            "7038            72        1419.4  \n",
            "7039            24        1990.5  \n",
            "7040            72        7362.9  \n",
            "7041            11        346.45  \n",
            "7042            66        6844.5  \n",
            "\n",
            "[7043 rows x 25 columns]\n"
          ]
        }
      ]
    },
    {
      "cell_type": "markdown",
      "source": [
        "## **Valores Faltantes**\n"
      ],
      "metadata": {
        "id": "uQnDP4_NsaRi"
      }
    },
    {
      "cell_type": "code",
      "source": [
        "valores_faltantes = data_2.isnull().sum()\n",
        "porcentaje_faltantes = data_2.isnull().sum() * 100 / len(data_2)\n",
        "\n",
        "# Creando un dataFrame con los resultados\n",
        "df_faltantes = pd.DataFrame({'Valores Faltantes': valores_faltantes, 'Porcentaje Faltantes (%)': porcentaje_faltantes})\n",
        "\n",
        "df_faltantes.reset_index(inplace=True)\n",
        "df_faltantes.rename(columns={'index': 'ID'}, inplace=True)\n",
        "\n",
        "# Imprimiendo los resultados\n",
        "print(df_faltantes)"
      ],
      "metadata": {
        "colab": {
          "base_uri": "https://localhost:8080/"
        },
        "id": "Yit-GUsdshMO",
        "outputId": "0d8265a6-7dad-4a01-c382-01298d18dde1"
      },
      "execution_count": 68,
      "outputs": [
        {
          "output_type": "stream",
          "name": "stdout",
          "text": [
            "                   ID  Valores Faltantes  Porcentaje Faltantes (%)\n",
            "0                CLTV                  0                       0.0\n",
            "1         Churn Label                  0                       0.0\n",
            "2        Churn Reason                  0                       0.0\n",
            "3         Churn Score                  0                       0.0\n",
            "4         Churn Value                  0                       0.0\n",
            "5                City                  0                       0.0\n",
            "6            Contract                  0                       0.0\n",
            "7          Dependents                  0                       0.0\n",
            "8   Device Protection                  0                       0.0\n",
            "9              Gender                  0                       0.0\n",
            "10   Internet Service                  0                       0.0\n",
            "11    Monthly Charges                  0                       0.0\n",
            "12     Multiple Lines                  0                       0.0\n",
            "13      Online Backup                  0                       0.0\n",
            "14    Online Security                  0                       0.0\n",
            "15  Paperless Billing                  0                       0.0\n",
            "16            Partner                  0                       0.0\n",
            "17     Payment Method                  0                       0.0\n",
            "18      Phone Service                  0                       0.0\n",
            "19     Senior Citizen                  0                       0.0\n",
            "20   Streaming Movies                  0                       0.0\n",
            "21       Streaming TV                  0                       0.0\n",
            "22       Tech Support                  0                       0.0\n",
            "23      Tenure Months                  0                       0.0\n",
            "24      Total Charges                  0                       0.0\n"
          ]
        }
      ]
    },
    {
      "cell_type": "code",
      "source": [
        "\n",
        "# Reemplazando valores faltantes\n",
        "data_2['Churn Reason'] = data_2['Churn Reason'].fillna('No proporcionado')\n",
        "\n",
        "valores_faltantes = data_2.isnull().sum()\n",
        "porcentaje_faltantes = data_2.isnull().sum() * 100 / len(data_2)\n",
        "\n",
        "# Creando un dataFrame con los resultados\n",
        "df_faltantes = pd.DataFrame({'Valores Faltantes': valores_faltantes, 'Porcentaje Faltantes (%)': porcentaje_faltantes})\n",
        "\n",
        "df_faltantes.reset_index(inplace=True)\n",
        "df_faltantes.rename(columns={'index': 'ID'}, inplace=True)\n",
        "\n",
        "# Imprimiendo los resultados\n",
        "print(df_faltantes)"
      ],
      "metadata": {
        "colab": {
          "base_uri": "https://localhost:8080/"
        },
        "id": "bq5oOl4bjUuU",
        "outputId": "260fe858-6b45-4c80-c0a1-20f94928ce31"
      },
      "execution_count": 69,
      "outputs": [
        {
          "output_type": "stream",
          "name": "stdout",
          "text": [
            "                   ID  Valores Faltantes  Porcentaje Faltantes (%)\n",
            "0                CLTV                  0                       0.0\n",
            "1         Churn Label                  0                       0.0\n",
            "2        Churn Reason                  0                       0.0\n",
            "3         Churn Score                  0                       0.0\n",
            "4         Churn Value                  0                       0.0\n",
            "5                City                  0                       0.0\n",
            "6            Contract                  0                       0.0\n",
            "7          Dependents                  0                       0.0\n",
            "8   Device Protection                  0                       0.0\n",
            "9              Gender                  0                       0.0\n",
            "10   Internet Service                  0                       0.0\n",
            "11    Monthly Charges                  0                       0.0\n",
            "12     Multiple Lines                  0                       0.0\n",
            "13      Online Backup                  0                       0.0\n",
            "14    Online Security                  0                       0.0\n",
            "15  Paperless Billing                  0                       0.0\n",
            "16            Partner                  0                       0.0\n",
            "17     Payment Method                  0                       0.0\n",
            "18      Phone Service                  0                       0.0\n",
            "19     Senior Citizen                  0                       0.0\n",
            "20   Streaming Movies                  0                       0.0\n",
            "21       Streaming TV                  0                       0.0\n",
            "22       Tech Support                  0                       0.0\n",
            "23      Tenure Months                  0                       0.0\n",
            "24      Total Charges                  0                       0.0\n"
          ]
        }
      ]
    },
    {
      "cell_type": "markdown",
      "source": [
        "## Simulación de Datos Faltantes"
      ],
      "metadata": {
        "id": "9vRdJLkixciV"
      }
    },
    {
      "cell_type": "code",
      "source": [
        "# Seleccionando Columnas para aplicar datos faltantes\n",
        "columns = ['Online Backup', 'Streaming TV', 'Phone Service']\n",
        "\n",
        "for col in columns:\n",
        "    # Selecciona el 5% de los datos para ser reemplazados\n",
        "    num_missing = int(len(data_2[col]) * 0.05)\n",
        "\n",
        "    # Genera índices aleatorios para datos a ser reemplazados\n",
        "    missing_indices = pd.Index(np.random.choice(data_2[col].index, replace=False, size=num_missing))\n",
        "\n",
        "    # Reemplaza los datos en los índices seleccionados con NaN\n",
        "    data_2.loc[missing_indices, col] = np.nan\n",
        "\n",
        "\n",
        "# Procenjate de datos faltantes\n",
        "missing_values = data_2.isnull().sum().sum()\n",
        "total_values = data_2.size\n",
        "\n",
        "missing_percentage = (missing_values / total_values) * 100\n",
        "\n",
        "print(\"Porcentaje de datos faltantes: \", missing_percentage)"
      ],
      "metadata": {
        "colab": {
          "base_uri": "https://localhost:8080/"
        },
        "id": "JJOTjKy_xhVs",
        "outputId": "44f9c072-d8fa-474c-8dfc-a6ba740e83aa"
      },
      "execution_count": 70,
      "outputs": [
        {
          "output_type": "stream",
          "name": "stdout",
          "text": [
            "Porcentaje de datos faltantes:  0.5997444270907284\n"
          ]
        }
      ]
    },
    {
      "cell_type": "code",
      "source": [
        "missing_values = data_2.isnull().sum()\n",
        "print(\"\\nValores faltantes por columna:\")\n",
        "print(missing_values)"
      ],
      "metadata": {
        "colab": {
          "base_uri": "https://localhost:8080/"
        },
        "id": "Ofj5Np2f3G1X",
        "outputId": "0f207386-2b2c-44bc-aff4-5e3d2b3e44a8"
      },
      "execution_count": 71,
      "outputs": [
        {
          "output_type": "stream",
          "name": "stdout",
          "text": [
            "\n",
            "Valores faltantes por columna:\n",
            "CLTV                   0\n",
            "Churn Label            0\n",
            "Churn Reason           0\n",
            "Churn Score            0\n",
            "Churn Value            0\n",
            "City                   0\n",
            "Contract               0\n",
            "Dependents             0\n",
            "Device Protection      0\n",
            "Gender                 0\n",
            "Internet Service       0\n",
            "Monthly Charges        0\n",
            "Multiple Lines         0\n",
            "Online Backup        352\n",
            "Online Security        0\n",
            "Paperless Billing      0\n",
            "Partner                0\n",
            "Payment Method         0\n",
            "Phone Service        352\n",
            "Senior Citizen         0\n",
            "Streaming Movies       0\n",
            "Streaming TV         352\n",
            "Tech Support           0\n",
            "Tenure Months          0\n",
            "Total Charges          0\n",
            "dtype: int64\n"
          ]
        }
      ]
    },
    {
      "cell_type": "markdown",
      "source": [
        "## Reemplazo de Variables Categóricas por Númericas"
      ],
      "metadata": {
        "id": "GNcKrYyvrwl-"
      }
    },
    {
      "cell_type": "code",
      "source": [
        "# Crear un objeto LabelEncoder\n",
        "le = LabelEncoder()\n",
        "\n",
        "# Ajustar y transformar los datos de la columna 'City' a numéricos\n",
        "data_2['City'] = le.fit_transform(data_2['City'])\n",
        "data_2['Gender'] = le.fit_transform(data_2['Gender'])\n",
        "data_2['Senior Citizen'] = le.fit_transform(data_2['Senior Citizen'])\n",
        "data_2['Partner'] = le.fit_transform(data_2['Partner'])\n",
        "data_2['Dependents'] = le.fit_transform(data_2['Dependents'])\n",
        "data_2['Phone Service'] = le.fit_transform(data_2['Phone Service'])\n",
        "# Ajustar y transformar los datos de la columna 'City' a numéricos\n",
        "data_2['Multiple Lines'] = le.fit_transform(data_2['Multiple Lines'])\n",
        "data_2['Internet Service'] = le.fit_transform(data_2['Internet Service'])\n",
        "data_2['Online Security'] = le.fit_transform(data_2['Online Security'])\n",
        "data_2['Online Backup'] = le.fit_transform(data_2['Online Backup'])\n",
        "data_2['Device Protection'] = le.fit_transform(data_2['Device Protection'])\n",
        "data_2['Tech Support'] = le.fit_transform(data_2['Tech Support'])\n",
        "# Ajustar y transformar los datos de la columna 'City' a numéricos\n",
        "data_2['Streaming TV'] = le.fit_transform(data_2['Streaming TV'])\n",
        "data_2['Streaming Movies'] = le.fit_transform(data_2['City'])\n",
        "data_2['Contract'] = le.fit_transform(data_2['Contract'])\n",
        "data_2['Paperless Billing'] = le.fit_transform(data_2['Paperless Billing'])\n",
        "data_2['Payment Method'] = le.fit_transform(data_2['Payment Method'])\n",
        "data_2['Churn Label'] = le.fit_transform(data_2['Churn Label'])"
      ],
      "metadata": {
        "id": "iLP39YnLr1mN"
      },
      "execution_count": 72,
      "outputs": []
    },
    {
      "cell_type": "markdown",
      "source": [
        "## Limpieza de Datos\n",
        "\n",
        "---\n",
        "\n"
      ],
      "metadata": {
        "id": "KRBmX-NYWfHu"
      }
    },
    {
      "cell_type": "code",
      "source": [
        "\n",
        "# Paso 3: Eliminar filas con valores faltantes\n",
        "df_sin_filas_faltantes = data_2.dropna()\n",
        "\n",
        "# Paso 4: Rellenar valores faltantes con un valor específico (por ejemplo, el promedio de la columna)\n",
        "promedio_columna_A = data_2['Online Backup'].mean()\n",
        "#promedio_columna_B = data['Churn Score'].mean()\n",
        "promedio_columna_C = data_2['Phone Service'].mean()\n",
        "df_rellenado = data_2.fillna({'Online Backup': promedio_columna_A, 'Streaming TV': 0, 'Phone Service': promedio_columna_C,})  # Rellena CA y CC con el promedio y CB con 0\n",
        "\n",
        "# Paso 5: Eliminar columnas con valores faltantes\n",
        "#df_sin_columnas_faltantes = data.dropna(axis=1)\n",
        "\n",
        "# Paso 6: Interpolación (relleno basado en valores cercanos)\n",
        "df_interpolado = data_2.interpolate()\n",
        "\n",
        "# Paso 7: Eliminar duplicados (si es necesario)\n",
        "df_sin_duplicados = data_2.drop_duplicates()\n",
        "\n",
        "# Paso 8: Guardar los resultados en un nuevo DataFrame o sobrescribir el original si es apropiado\n",
        "df = df_sin_filas_faltantes  # Por ejemplo, reemplazar el DataFrame original con uno limpio\n",
        "\n",
        "\n",
        "# 2. Contar valores faltantes por columna\n",
        "missing_values = df.isnull().sum()\n",
        "print(\"\\nValores faltantes por columna:\")\n",
        "print(missing_values)"
      ],
      "metadata": {
        "colab": {
          "base_uri": "https://localhost:8080/"
        },
        "id": "hUcHn5qNWjGP",
        "outputId": "e35c0fcb-0c41-40a1-8856-7cf86460be18"
      },
      "execution_count": 73,
      "outputs": [
        {
          "output_type": "stream",
          "name": "stdout",
          "text": [
            "\n",
            "Valores faltantes por columna:\n",
            "CLTV                 0\n",
            "Churn Label          0\n",
            "Churn Reason         0\n",
            "Churn Score          0\n",
            "Churn Value          0\n",
            "City                 0\n",
            "Contract             0\n",
            "Dependents           0\n",
            "Device Protection    0\n",
            "Gender               0\n",
            "Internet Service     0\n",
            "Monthly Charges      0\n",
            "Multiple Lines       0\n",
            "Online Backup        0\n",
            "Online Security      0\n",
            "Paperless Billing    0\n",
            "Partner              0\n",
            "Payment Method       0\n",
            "Phone Service        0\n",
            "Senior Citizen       0\n",
            "Streaming Movies     0\n",
            "Streaming TV         0\n",
            "Tech Support         0\n",
            "Tenure Months        0\n",
            "Total Charges        0\n",
            "dtype: int64\n"
          ]
        }
      ]
    },
    {
      "cell_type": "markdown",
      "source": [
        "## Exploración Inicial\n",
        "\n",
        "---\n",
        "\n"
      ],
      "metadata": {
        "id": "IhGu5TbHZ6ux"
      }
    },
    {
      "cell_type": "code",
      "source": [
        "# Mostrar las primeras filas del dataset\n",
        "print(\"Primeras filas del dataset:\")\n",
        "print(df.head())\n",
        "\n",
        "# Obtener información general del dataset\n",
        "print(\"\\n----------Información general del dataset:\")\n",
        "print(df.info())\n",
        "\n",
        "# Resumen estadístico de las variables numéricas\n",
        "print(\"\\n----------Resumen estadístico de las variables numéricas:\")\n",
        "print(df.describe())\n",
        "\n",
        "# Conteo de valores únicos en variables categóricas\n",
        "print(\"\\n------------Conteo de valores únicos en variables categóricas:\")\n",
        "categoricas = df.select_dtypes(include=['object'])  # Seleccionar variables categóricas\n",
        "for columna in categoricas.columns:\n",
        "    print(f\"Variable: {columna}\")\n",
        "    print(df[columna].value_counts())\n",
        "\n",
        "# Histogramas de variables numéricas\n",
        "import matplotlib.pyplot as plt\n",
        "\n",
        "print(\"\\nHistogramas de variables numéricas:\")\n",
        "df.hist(bins=20, figsize=(12, 8))\n",
        "plt.show()\n",
        "\n",
        "# Boxplots de variables numéricas\n",
        "print(\"\\nBoxplots de variables numéricas:\")\n",
        "df.boxplot(column=['Churn Score', 'CLTV'], figsize=(10, 6))\n",
        "plt.show()\n",
        "\n",
        "# Gráfico de barras de variables categóricas\n",
        "print(\"\\nGráfico de barras de variables categóricas:\")\n",
        "for columna in categoricas.columns:\n",
        "    plt.figure(figsize=(8, 6))\n",
        "    df[columna].value_counts().plot(kind='bar', title=columna)\n",
        "    plt.show()\n"
      ],
      "metadata": {
        "colab": {
          "base_uri": "https://localhost:8080/",
          "height": 1000
        },
        "id": "IyYWEl0BaDTH",
        "outputId": "dd7a7726-1718-4f27-ce86-5dec33bb1727"
      },
      "execution_count": null,
      "outputs": [
        {
          "output_type": "stream",
          "name": "stdout",
          "text": [
            "Primeras filas del dataset:\n",
            "   CLTV  Churn Label                   Churn Reason  Churn Score  Churn Value  \\\n",
            "0  3239            1   Competitor made better offer           86            1   \n",
            "1  2701            1                          Moved           67            1   \n",
            "2  5372            1                          Moved           86            1   \n",
            "3  5003            1                          Moved           84            1   \n",
            "4  5340            1  Competitor had better devices           89            1   \n",
            "\n",
            "   City  Contract  Dependents  Device Protection  Gender  ...  \\\n",
            "0   562         0           0                  0       1  ...   \n",
            "1   562         0           1                  0       0  ...   \n",
            "2   562         0           1                  2       0  ...   \n",
            "3   562         0           1                  2       0  ...   \n",
            "4   562         0           1                  2       1  ...   \n",
            "\n",
            "   Paperless Billing  Partner  Payment Method  Phone Service  Senior Citizen  \\\n",
            "0                  1        0               3              1               0   \n",
            "1                  1        0               2              1               0   \n",
            "2                  1        0               2              1               0   \n",
            "3                  1        1               2              1               0   \n",
            "4                  1        0               0              1               0   \n",
            "\n",
            "   Streaming Movies  Streaming TV  Tech Support  Tenure Months  Total Charges  \n",
            "0               562             0             0              2         108.15  \n",
            "1               562             0             0              2         151.65  \n",
            "2               562             2             0              8          820.5  \n",
            "3               562             2             2             28        3046.05  \n",
            "4               562             2             0             49         5036.3  \n",
            "\n",
            "[5 rows x 25 columns]\n",
            "\n",
            "----------Información general del dataset:\n",
            "<class 'pandas.core.frame.DataFrame'>\n",
            "RangeIndex: 7043 entries, 0 to 7042\n",
            "Data columns (total 25 columns):\n",
            " #   Column             Non-Null Count  Dtype  \n",
            "---  ------             --------------  -----  \n",
            " 0   CLTV               7043 non-null   int64  \n",
            " 1   Churn Label        7043 non-null   int64  \n",
            " 2   Churn Reason       7043 non-null   object \n",
            " 3   Churn Score        7043 non-null   int64  \n",
            " 4   Churn Value        7043 non-null   int64  \n",
            " 5   City               7043 non-null   int64  \n",
            " 6   Contract           7043 non-null   int64  \n",
            " 7   Dependents         7043 non-null   int64  \n",
            " 8   Device Protection  7043 non-null   int64  \n",
            " 9   Gender             7043 non-null   int64  \n",
            " 10  Internet Service   7043 non-null   int64  \n",
            " 11  Monthly Charges    7043 non-null   float64\n",
            " 12  Multiple Lines     7043 non-null   int64  \n",
            " 13  Online Backup      7043 non-null   int64  \n",
            " 14  Online Security    7043 non-null   int64  \n",
            " 15  Paperless Billing  7043 non-null   int64  \n",
            " 16  Partner            7043 non-null   int64  \n",
            " 17  Payment Method     7043 non-null   int64  \n",
            " 18  Phone Service      7043 non-null   int64  \n",
            " 19  Senior Citizen     7043 non-null   int64  \n",
            " 20  Streaming Movies   7043 non-null   int64  \n",
            " 21  Streaming TV       7043 non-null   int64  \n",
            " 22  Tech Support       7043 non-null   int64  \n",
            " 23  Tenure Months      7043 non-null   int64  \n",
            " 24  Total Charges      7043 non-null   object \n",
            "dtypes: float64(1), int64(22), object(2)\n",
            "memory usage: 1.3+ MB\n",
            "None\n",
            "\n",
            "----------Resumen estadístico de las variables numéricas:\n",
            "              CLTV  Churn Label  Churn Score  Churn Value         City  \\\n",
            "count  7043.000000  7043.000000  7043.000000  7043.000000  7043.000000   \n",
            "mean   4400.295755     0.265370    58.699418     0.265370   593.713616   \n",
            "std    1183.057152     0.441561    21.525131     0.441561   314.990288   \n",
            "min    2003.000000     0.000000     5.000000     0.000000     0.000000   \n",
            "25%    3469.000000     0.000000    40.000000     0.000000   337.000000   \n",
            "50%    4527.000000     0.000000    61.000000     0.000000   601.000000   \n",
            "75%    5380.500000     1.000000    75.000000     1.000000   869.000000   \n",
            "max    6500.000000     1.000000   100.000000     1.000000  1128.000000   \n",
            "\n",
            "          Contract   Dependents  Device Protection       Gender  \\\n",
            "count  7043.000000  7043.000000        7043.000000  7043.000000   \n",
            "mean      0.690473     0.231010           0.904444     0.504756   \n",
            "std       0.833755     0.421508           0.879949     0.500013   \n",
            "min       0.000000     0.000000           0.000000     0.000000   \n",
            "25%       0.000000     0.000000           0.000000     0.000000   \n",
            "50%       0.000000     0.000000           1.000000     1.000000   \n",
            "75%       1.000000     0.000000           2.000000     1.000000   \n",
            "max       2.000000     1.000000           2.000000     1.000000   \n",
            "\n",
            "       Internet Service  ...  Online Security  Paperless Billing      Partner  \\\n",
            "count       7043.000000  ...      7043.000000        7043.000000  7043.000000   \n",
            "mean           0.872923  ...         0.790004           0.592219     0.483033   \n",
            "std            0.737796  ...         0.859848           0.491457     0.499748   \n",
            "min            0.000000  ...         0.000000           0.000000     0.000000   \n",
            "25%            0.000000  ...         0.000000           0.000000     0.000000   \n",
            "50%            1.000000  ...         1.000000           1.000000     0.000000   \n",
            "75%            1.000000  ...         2.000000           1.000000     1.000000   \n",
            "max            2.000000  ...         2.000000           1.000000     1.000000   \n",
            "\n",
            "       Payment Method  Phone Service  Senior Citizen  Streaming Movies  \\\n",
            "count     7043.000000    7043.000000     7043.000000       7043.000000   \n",
            "mean         1.574329       0.957547        0.162147        593.713616   \n",
            "std          1.068104       0.375005        0.368612        314.990288   \n",
            "min          0.000000       0.000000        0.000000          0.000000   \n",
            "25%          1.000000       1.000000        0.000000        337.000000   \n",
            "50%          2.000000       1.000000        0.000000        601.000000   \n",
            "75%          2.000000       1.000000        0.000000        869.000000   \n",
            "max          3.000000       2.000000        1.000000       1128.000000   \n",
            "\n",
            "       Streaming TV  Tech Support  Tenure Months  \n",
            "count   7043.000000   7043.000000    7043.000000  \n",
            "mean       1.084339      0.797104      32.371149  \n",
            "std        0.968101      0.861551      24.559481  \n",
            "min        0.000000      0.000000       0.000000  \n",
            "25%        0.000000      0.000000       9.000000  \n",
            "50%        1.000000      1.000000      29.000000  \n",
            "75%        2.000000      2.000000      55.000000  \n",
            "max        3.000000      2.000000      72.000000  \n",
            "\n",
            "[8 rows x 23 columns]\n",
            "\n",
            "------------Conteo de valores únicos en variables categóricas:\n",
            "Variable: Churn Reason\n",
            "No proporcionado                             5174\n",
            "Attitude of support person                    192\n",
            "Competitor offered higher download speeds     189\n",
            "Competitor offered more data                  162\n",
            "Don't know                                    154\n",
            "Competitor made better offer                  140\n",
            "Attitude of service provider                  135\n",
            "Competitor had better devices                 130\n",
            "Network reliability                           103\n",
            "Product dissatisfaction                       102\n",
            "Price too high                                 98\n",
            "Service dissatisfaction                        89\n",
            "Lack of self-service on Website                88\n",
            "Extra data charges                             57\n",
            "Moved                                          53\n",
            "Lack of affordable download/upload speed       44\n",
            "Long distance charges                          44\n",
            "Limited range of services                      44\n",
            "Poor expertise of phone support                20\n",
            "Poor expertise of online support               19\n",
            "Deceased                                        6\n",
            "Name: Churn Reason, dtype: int64\n",
            "Variable: Total Charges\n",
            "20.2      11\n",
            "          11\n",
            "19.75      9\n",
            "19.65      8\n",
            "20.05      8\n",
            "          ..\n",
            "444.75     1\n",
            "5459.2     1\n",
            "295.95     1\n",
            "394.1      1\n",
            "6844.5     1\n",
            "Name: Total Charges, Length: 6531, dtype: int64\n",
            "\n",
            "Histogramas de variables numéricas:\n"
          ]
        },
        {
          "output_type": "display_data",
          "data": {
            "text/plain": [
              "<Figure size 1200x800 with 25 Axes>"
            ],
            "image/png": "[encoded data removed]"
          },
          "metadata": {}
        },
        {
          "output_type": "stream",
          "name": "stdout",
          "text": [
            "\n",
            "Boxplots de variables numéricas:\n"
          ]
        },
        {
          "output_type": "display_data",
          "data": {
            "text/plain": [
              "<Figure size 1000x600 with 1 Axes>"
            ],
            "image/png": "[encoded data removed]"
          },
          "metadata": {}
        },
        {
          "output_type": "stream",
          "name": "stdout",
          "text": [
            "\n",
            "Gráfico de barras de variables categóricas:\n"
          ]
        },
        {
          "output_type": "display_data",
          "data": {
            "text/plain": [
              "<Figure size 800x600 with 1 Axes>"
            ],
            "image/png": "[encoded data removed]"
          },
          "metadata": {}
        },
        {
          "output_type": "display_data",
          "data": {
            "text/plain": [
              "<Figure size 800x600 with 1 Axes>"
            ],
            "image/png": "[encoded data removed]"
          },
          "metadata": {}
        }
      ]
    },
    {
      "cell_type": "markdown",
      "source": [
        "## ***Normalizando Variables Númericas***\n",
        "\n",
        "---\n",
        "\n"
      ],
      "metadata": {
        "id": "xew_WlIlp_-V"
      }
    },
    {
      "cell_type": "code",
      "source": [
        "# Creando el normalizador\n",
        "scaler = MinMaxScaler()\n",
        "\n",
        "# Seleccionando solo las columnas numéricas para normalizar\n",
        "num_cols = data_2.select_dtypes(include=[np.number]).columns\n",
        "\n",
        "# Normalizando las columnas numéricas\n",
        "data_2[num_cols] = scaler.fit_transform(data_2[num_cols])\n",
        "\n",
        "# Imprimiendo los resultados\n",
        "print(data_2)\n"
      ],
      "metadata": {
        "colab": {
          "base_uri": "https://localhost:8080/"
        },
        "id": "uSMqY4Q2qFP6",
        "outputId": "31b5ce31-e60a-4d21-9778-5c3d8585dae4"
      },
      "execution_count": 74,
      "outputs": [
        {
          "output_type": "stream",
          "name": "stdout",
          "text": [
            "          CLTV  Churn Label                   Churn Reason  Churn Score  \\\n",
            "0     0.274850          1.0   Competitor made better offer     0.852632   \n",
            "1     0.155215          1.0                          Moved     0.652632   \n",
            "2     0.749166          1.0                          Moved     0.852632   \n",
            "3     0.667111          1.0                          Moved     0.831579   \n",
            "4     0.742050          1.0  Competitor had better devices     0.884211   \n",
            "...        ...          ...                            ...          ...   \n",
            "7038  0.734490          0.0               No proporcionado     0.421053   \n",
            "7039  0.030465          0.0               No proporcionado     0.568421   \n",
            "7040  0.790972          0.0               No proporcionado     0.694737   \n",
            "7041  0.175673          0.0               No proporcionado     0.568421   \n",
            "7042  0.688014          0.0               No proporcionado     0.347368   \n",
            "\n",
            "      Churn Value      City  Contract  Dependents  Device Protection  Gender  \\\n",
            "0             1.0  0.498227       0.0         0.0                0.0     1.0   \n",
            "1             1.0  0.498227       0.0         1.0                0.0     0.0   \n",
            "2             1.0  0.498227       0.0         1.0                1.0     0.0   \n",
            "3             1.0  0.498227       0.0         1.0                1.0     0.0   \n",
            "4             1.0  0.498227       0.0         1.0                1.0     1.0   \n",
            "...           ...       ...       ...         ...                ...     ...   \n",
            "7038          0.0  0.461879       1.0         0.0                0.5     0.0   \n",
            "7039          0.0  0.001773       0.5         1.0                1.0     1.0   \n",
            "7040          0.0  0.019504       0.5         1.0                1.0     0.0   \n",
            "7041          0.0  0.023050       0.0         1.0                0.0     0.0   \n",
            "7042          0.0  0.028369       1.0         0.0                1.0     1.0   \n",
            "\n",
            "      ...  Paperless Billing  Partner  Payment Method  Phone Service  \\\n",
            "0     ...                1.0      0.0        1.000000       0.333333   \n",
            "1     ...                1.0      0.0        0.666667       1.000000   \n",
            "2     ...                1.0      0.0        0.666667       0.333333   \n",
            "3     ...                1.0      1.0        0.666667       0.333333   \n",
            "4     ...                1.0      0.0        0.000000       0.333333   \n",
            "...   ...                ...      ...             ...            ...   \n",
            "7038  ...                1.0      0.0        0.000000       0.333333   \n",
            "7039  ...                1.0      1.0        1.000000       0.333333   \n",
            "7040  ...                1.0      1.0        0.333333       0.333333   \n",
            "7041  ...                1.0      1.0        0.666667       0.000000   \n",
            "7042  ...                1.0      0.0        0.000000       0.333333   \n",
            "\n",
            "      Senior Citizen  Streaming Movies  Streaming TV  Tech Support  \\\n",
            "0                0.0          0.498227          0.00           0.0   \n",
            "1                0.0          0.498227          0.00           0.0   \n",
            "2                0.0          0.498227          0.50           0.0   \n",
            "3                0.0          0.498227          0.50           1.0   \n",
            "4                0.0          0.498227          0.50           0.0   \n",
            "...              ...               ...           ...           ...   \n",
            "7038             0.0          0.461879          0.25           0.5   \n",
            "7039             0.0          0.001773          0.50           1.0   \n",
            "7040             0.0          0.019504          0.50           0.0   \n",
            "7041             0.0          0.023050          0.00           0.0   \n",
            "7042             0.0          0.028369          0.75           1.0   \n",
            "\n",
            "      Tenure Months  Total Charges  \n",
            "0          0.027778         108.15  \n",
            "1          0.027778         151.65  \n",
            "2          0.111111          820.5  \n",
            "3          0.388889        3046.05  \n",
            "4          0.680556         5036.3  \n",
            "...             ...            ...  \n",
            "7038       1.000000         1419.4  \n",
            "7039       0.333333         1990.5  \n",
            "7040       1.000000         7362.9  \n",
            "7041       0.152778         346.45  \n",
            "7042       0.916667         6844.5  \n",
            "\n",
            "[7043 rows x 25 columns]\n"
          ]
        }
      ]
    },
    {
      "cell_type": "markdown",
      "source": [
        "## ***Generando un primer Modelo de Predicción según Churn Score y CLTV`***\n",
        "\n",
        "---\n",
        "\n"
      ],
      "metadata": {
        "id": "BfRjTq0jtQ-6"
      }
    },
    {
      "cell_type": "markdown",
      "source": [
        "## **Métodos Supervisados**"
      ],
      "metadata": {
        "id": "8CgPvg1eNWH-"
      }
    },
    {
      "cell_type": "markdown",
      "source": [
        "## Modelo Regression Logistic\n",
        "\n",
        "---\n",
        "\n"
      ],
      "metadata": {
        "id": "CE7OL-wHXFF5"
      }
    },
    {
      "cell_type": "code",
      "source": [
        "# Seleccionando las características y la variable objetivo\n",
        "X = data_2[['Churn Score', 'CLTV']]\n",
        "y = data_2['Churn Value']\n",
        "\n",
        "# Dividiendo los datos en conjuntos de entrenamiento y prueba\n",
        "X_train, X_test, y_train, y_test = train_test_split(X, y, test_size=0.2, random_state=42)\n"
      ],
      "metadata": {
        "id": "TL2iz2nntcPl"
      },
      "execution_count": 111,
      "outputs": []
    },
    {
      "cell_type": "code",
      "source": [
        "# Creando el modelo\n",
        "model = LogisticRegression()"
      ],
      "metadata": {
        "id": "jEhRB3ydt6rz"
      },
      "execution_count": 112,
      "outputs": []
    },
    {
      "cell_type": "code",
      "source": [
        "# Entrenando el modelo\n",
        "model.fit(X_train, y_train)"
      ],
      "metadata": {
        "id": "RSYiQfDQuIAj",
        "colab": {
          "base_uri": "https://localhost:8080/",
          "height": 75
        },
        "outputId": "2453befa-d4d8-4a6f-b961-91de648f2d24"
      },
      "execution_count": 113,
      "outputs": [
        {
          "output_type": "execute_result",
          "data": {
            "text/plain": [
              "LogisticRegression()"
            ],
            "text/html": [
              "<style>#sk-container-id-8 {color: black;background-color: white;}#sk-container-id-8 pre{padding: 0;}#sk-container-id-8 div.sk-toggleable {background-color: white;}#sk-container-id-8 label.sk-toggleable__label {cursor: pointer;display: block;width: 100%;margin-bottom: 0;padding: 0.3em;box-sizing: border-box;text-align: center;}#sk-container-id-8 label.sk-toggleable__label-arrow:before {content: \"▸\";float: left;margin-right: 0.25em;color: #696969;}#sk-container-id-8 label.sk-toggleable__label-arrow:hover:before {color: black;}#sk-container-id-8 div.sk-estimator:hover label.sk-toggleable__label-arrow:before {color: black;}#sk-container-id-8 div.sk-toggleable__content {max-height: 0;max-width: 0;overflow: hidden;text-align: left;background-color: #f0f8ff;}#sk-container-id-8 div.sk-toggleable__content pre {margin: 0.2em;color: black;border-radius: 0.25em;background-color: #f0f8ff;}#sk-container-id-8 input.sk-toggleable__control:checked~div.sk-toggleable__content {max-height: 200px;max-width: 100%;overflow: auto;}#sk-container-id-8 input.sk-toggleable__control:checked~label.sk-toggleable__label-arrow:before {content: \"▾\";}#sk-container-id-8 div.sk-estimator input.sk-toggleable__control:checked~label.sk-toggleable__label {background-color: #d4ebff;}#sk-container-id-8 div.sk-label input.sk-toggleable__control:checked~label.sk-toggleable__label {background-color: #d4ebff;}#sk-container-id-8 input.sk-hidden--visually {border: 0;clip: rect(1px 1px 1px 1px);clip: rect(1px, 1px, 1px, 1px);height: 1px;margin: -1px;overflow: hidden;padding: 0;position: absolute;width: 1px;}#sk-container-id-8 div.sk-estimator {font-family: monospace;background-color: #f0f8ff;border: 1px dotted black;border-radius: 0.25em;box-sizing: border-box;margin-bottom: 0.5em;}#sk-container-id-8 div.sk-estimator:hover {background-color: #d4ebff;}#sk-container-id-8 div.sk-parallel-item::after {content: \"\";width: 100%;border-bottom: 1px solid gray;flex-grow: 1;}#sk-container-id-8 div.sk-label:hover label.sk-toggleable__label {background-color: #d4ebff;}#sk-container-id-8 div.sk-serial::before {content: \"\";position: absolute;border-left: 1px solid gray;box-sizing: border-box;top: 0;bottom: 0;left: 50%;z-index: 0;}#sk-container-id-8 div.sk-serial {display: flex;flex-direction: column;align-items: center;background-color: white;padding-right: 0.2em;padding-left: 0.2em;position: relative;}#sk-container-id-8 div.sk-item {position: relative;z-index: 1;}#sk-container-id-8 div.sk-parallel {display: flex;align-items: stretch;justify-content: center;background-color: white;position: relative;}#sk-container-id-8 div.sk-item::before, #sk-container-id-8 div.sk-parallel-item::before {content: \"\";position: absolute;border-left: 1px solid gray;box-sizing: border-box;top: 0;bottom: 0;left: 50%;z-index: -1;}#sk-container-id-8 div.sk-parallel-item {display: flex;flex-direction: column;z-index: 1;position: relative;background-color: white;}#sk-container-id-8 div.sk-parallel-item:first-child::after {align-self: flex-end;width: 50%;}#sk-container-id-8 div.sk-parallel-item:last-child::after {align-self: flex-start;width: 50%;}#sk-container-id-8 div.sk-parallel-item:only-child::after {width: 0;}#sk-container-id-8 div.sk-dashed-wrapped {border: 1px dashed gray;margin: 0 0.4em 0.5em 0.4em;box-sizing: border-box;padding-bottom: 0.4em;background-color: white;}#sk-container-id-8 div.sk-label label {font-family: monospace;font-weight: bold;display: inline-block;line-height: 1.2em;}#sk-container-id-8 div.sk-label-container {text-align: center;}#sk-container-id-8 div.sk-container {/* jupyter's `normalize.less` sets `[hidden] { display: none; }` but bootstrap.min.css set `[hidden] { display: none !important; }` so we also need the `!important` here to be able to override the default hidden behavior on the sphinx rendered scikit-learn.org. See: https://github.com/scikit-learn/scikit-learn/issues/21755 */display: inline-block !important;position: relative;}#sk-container-id-8 div.sk-text-repr-fallback {display: none;}</style><div id=\"sk-container-id-8\" class=\"sk-top-container\"><div class=\"sk-text-repr-fallback\"><pre>LogisticRegression()</pre><b>In a Jupyter environment, please rerun this cell to show the HTML representation or trust the notebook. <br />On GitHub, the HTML representation is unable to render, please try loading this page with nbviewer.org.</b></div><div class=\"sk-container\" hidden><div class=\"sk-item\"><div class=\"sk-estimator sk-toggleable\"><input class=\"sk-toggleable__control sk-hidden--visually\" id=\"sk-estimator-id-10\" type=\"checkbox\" checked><label for=\"sk-estimator-id-10\" class=\"sk-toggleable__label sk-toggleable__label-arrow\">LogisticRegression</label><div class=\"sk-toggleable__content\"><pre>LogisticRegression()</pre></div></div></div></div></div>"
            ]
          },
          "metadata": {},
          "execution_count": 113
        }
      ]
    },
    {
      "cell_type": "code",
      "source": [
        "# Haciendo predicciones\n",
        "y_pred = model.predict(X_test)"
      ],
      "metadata": {
        "id": "O1FoUvsDuO5H"
      },
      "execution_count": 114,
      "outputs": []
    },
    {
      "cell_type": "code",
      "source": [
        "# Evaluando el modelo\n",
        "print('Exactitud del modelo:', accuracy_score(y_test, y_pred))\n",
        "print('Sensibilidad del modelo:', recall_score(y_test, y_pred))\n",
        "print('Precisión del modelo:', precision_score(y_test, y_pred))\n",
        "print('F1 del modelo:', f1_score(y_test, y_pred))\n",
        "print('ROC del modelo:', roc_auc_score(y_test, y_pred))"
      ],
      "metadata": {
        "colab": {
          "base_uri": "https://localhost:8080/"
        },
        "id": "83SzNWWruTiW",
        "outputId": "cd4a8e00-e6a3-4623-a6f1-154912f743be"
      },
      "execution_count": 115,
      "outputs": [
        {
          "output_type": "stream",
          "name": "stdout",
          "text": [
            "Exactitud del modelo: 0.8445706174591909\n",
            "Sensibilidad del modelo: 0.6525\n",
            "Precisión del modelo: 0.7653958944281525\n",
            "F1 del modelo: 0.7044534412955464\n",
            "ROC del modelo: 0.7866067888999009\n"
          ]
        }
      ]
    },
    {
      "cell_type": "markdown",
      "source": [
        "- Exactitud (Accuracy): Esta métrica es útil para tener una visión general de cuántas predicciones son correctas, independientemente de si son positivas o negativas.\n",
        "\n",
        "- Recall (Sensibilidad): Esta métrica es especialmente útil en este contexto porque se quiere identificar a los clientes que probablemente abandonarán. Un recall alto significa que se está identificando correctamente a la mayoría de los clientes que abandonarán.\n",
        "\n",
        "- Precision: Esta métrica también es útil porque se quiere asegurar de que los clientes que se identifican como propensos a abandonar realmente lo hagan. Una precisión alta significa que la mayoría de los clientes que se identifican como propensos a abandonar realmente lo hacen.\n",
        "\n",
        "- F1 Score: Esta métrica combina la precisión y el recall en un solo número, lo cual es útil si se quiere equilibrar estos dos aspectos.\n",
        "\n",
        "- AUC-ROC: Esta métrica es útil para evaluar el rendimiento general del modelo, independientemente del umbral de clasificación que se elija."
      ],
      "metadata": {
        "id": "4JkGVcnGyQFQ"
      }
    },
    {
      "cell_type": "markdown",
      "source": [
        "## Predicción (Logistic Regression)"
      ],
      "metadata": {
        "id": "id9PYmBtXj3z"
      }
    },
    {
      "cell_type": "code",
      "source": [
        "# Identificando a los clientes de alto valor que probablemente abandonarán\n",
        "clientes_alto_valor = data_2[(data_2['CLTV'] > data_2['CLTV'].mean()) & (data_2['Churn Score'] > 50)]\n",
        "print('Clientes de alto valor que probablemente abandonarán:', len(clientes_alto_valor))"
      ],
      "metadata": {
        "colab": {
          "base_uri": "https://localhost:8080/"
        },
        "id": "2rZjcGsauZTt",
        "outputId": "8b87b9b0-a864-4249-bb46-ad572f7e99e0"
      },
      "execution_count": 116,
      "outputs": [
        {
          "output_type": "stream",
          "name": "stdout",
          "text": [
            "Clientes de alto valor que probablemente abandonarán: 0\n"
          ]
        }
      ]
    },
    {
      "cell_type": "markdown",
      "source": [
        "- En este código, además de entrenar un modelo para predecir el abandono del cliente, también identificamos a los clientes de alto valor (aquellos con un CLTV mayor que la media) que tienen una alta probabilidad de abandonar (aquellos con un Churn Score mayor que 50)"
      ],
      "metadata": {
        "id": "M9HFXgCuwGnB"
      }
    },
    {
      "cell_type": "markdown",
      "source": [
        "## Mejor Hiperparámetro (LogisticRegression)\n",
        "\n",
        "---\n",
        "\n"
      ],
      "metadata": {
        "id": "NYTD7T3cQmC9"
      }
    },
    {
      "cell_type": "code",
      "source": [
        "# Definiendo los parámetros para la búsqueda aleatoria\n",
        "parametros_logisticos = {'C': [0.001, 0.01, 0.1, 1, 10, 100, 1000]}\n",
        "\n",
        "# Creando el modelo\n",
        "#modelo_logistico = LogisticRegression()\n",
        "\n",
        "# Creando la búsqueda aleatoria\n",
        "busqueda_logistica = RandomizedSearchCV(model, parametros_logisticos, cv=5)\n",
        "\n",
        "# Ajustando el modelo\n",
        "busqueda_logistica.fit(X_train, y_train)\n",
        "\n",
        "# Imprimiendo los mejores parámetros\n",
        "print('Mejores parámetros para la regresión logística:', busqueda_logistica.best_params_)\n"
      ],
      "metadata": {
        "colab": {
          "base_uri": "https://localhost:8080/"
        },
        "id": "2zXVVs81H7a-",
        "outputId": "e4f4b106-283d-47b0-9648-6b9c496115d4"
      },
      "execution_count": 22,
      "outputs": [
        {
          "output_type": "stream",
          "name": "stderr",
          "text": [
            "/usr/local/lib/python3.10/dist-packages/sklearn/model_selection/_search.py:305: UserWarning: The total space of parameters 7 is smaller than n_iter=10. Running 7 iterations. For exhaustive searches, use GridSearchCV.\n",
            "  warnings.warn(\n"
          ]
        },
        {
          "output_type": "stream",
          "name": "stdout",
          "text": [
            "Mejores parámetros para la regresión logística: {'C': 0.1}\n"
          ]
        }
      ]
    },
    {
      "cell_type": "markdown",
      "source": [
        "- Este código, RandomizedSearchCV, realiza una búsqueda aleatoria para encontrar los mejores hiperparámetros para el modelo de regresión logística.\n",
        "\n",
        "- El modelo de regresión logística ha encontrado que el mejor parámetro para ‘C’ es 0.1. Esto significa que este valor de ‘C’ proporciona el mejor rendimiento en términos de ajuste del modelo a los datos de entrenamiento y validación durante la búsqueda en cuadrícula."
      ],
      "metadata": {
        "id": "sZPKQWQyK4Wq"
      }
    },
    {
      "cell_type": "code",
      "source": [
        "# Creando el modelo con el mejor parámetro 'C'\n",
        "modelo_logistico = LogisticRegression(C=0.1)\n",
        "\n",
        "# Entrenando el modelo\n",
        "modelo_logistico.fit(X_train, y_train)\n",
        "\n",
        "# Haciendo predicciones\n",
        "y_pred = modelo_logistico.predict(X_test)\n",
        "\n",
        "# Evaluando el modelo\n",
        "print('Precisión del modelo:', accuracy_score(y_test, y_pred))\n",
        "print('Sensibilidad del modelo:', recall_score(y_test, y_pred))\n",
        "print('Precisión del modelo:', precision_score(y_test, y_pred))\n",
        "print('F1 del modelo:', f1_score(y_test, y_pred))\n",
        "print('ROC del modelo:', roc_auc_score(y_test, y_pred))"
      ],
      "metadata": {
        "colab": {
          "base_uri": "https://localhost:8080/"
        },
        "id": "D_4nmeAzLRRz",
        "outputId": "1fed5a2a-c692-4f3a-8820-af172d3f16a1"
      },
      "execution_count": 81,
      "outputs": [
        {
          "output_type": "stream",
          "name": "stdout",
          "text": [
            "Precisión del modelo: 0.8523775727466288\n",
            "Sensibilidad del modelo: 0.5775\n",
            "Precisión del modelo: 0.8555555555555555\n",
            "F1 del modelo: 0.6895522388059702\n",
            "ROC del modelo: 0.7694239345887017\n"
          ]
        }
      ]
    },
    {
      "cell_type": "markdown",
      "source": [
        "## Curva de Aprendizaje (Logistic Regression)\n",
        "\n",
        "---\n",
        "\n"
      ],
      "metadata": {
        "id": "a2CLwYTA6drT"
      }
    },
    {
      "cell_type": "code",
      "source": [
        "from sklearn.model_selection import learning_curve\n",
        "from sklearn.linear_model import LogisticRegression\n",
        "import numpy as np\n",
        "import matplotlib.pyplot as plt\n",
        "\n",
        "# Asumiendo que X_train e y_train son tus datos de entrenamiento\n",
        "train_sizes, train_scores, test_scores = learning_curve(LogisticRegression(), X_train, y_train)\n",
        "\n",
        "# Calculando las medias y desviaciones estándar de los scores de entrenamiento y prueba\n",
        "train_scores_mean = np.mean(train_scores, axis=1)\n",
        "train_scores_std = np.std(train_scores, axis=1)\n",
        "test_scores_mean = np.mean(test_scores, axis=1)\n",
        "test_scores_std = np.std(test_scores, axis=1)\n",
        "\n",
        "# Dibujando las curvas de aprendizaje\n",
        "plt.fill_between(train_sizes, train_scores_mean - train_scores_std, train_scores_mean + train_scores_std, alpha=0.1, color=\"r\")\n",
        "plt.fill_between(train_sizes, test_scores_mean - test_scores_std, test_scores_mean + test_scores_std, alpha=0.1, color=\"g\")\n",
        "plt.plot(train_sizes, train_scores_mean, 'o-', color=\"r\", label=\"Training score\")\n",
        "plt.plot(train_sizes, test_scores_mean, 'o-', color=\"g\", label=\"Cross-validation score\")\n",
        "plt.legend(loc=\"best\")\n",
        "plt.show()\n"
      ],
      "metadata": {
        "colab": {
          "base_uri": "https://localhost:8080/",
          "height": 430
        },
        "id": "uDkpKceH6i1f",
        "outputId": "648181d2-9bcb-4292-a8cd-e92ad7894b39"
      },
      "execution_count": 24,
      "outputs": [
        {
          "output_type": "display_data",
          "data": {
            "text/plain": [
              "<Figure size 640x480 with 1 Axes>"
            ],
            "image/png": "[encoded data removed]"
          },
          "metadata": {}
        }
      ]
    },
    {
      "cell_type": "markdown",
      "source": [
        "- En el gráfico, el eje x representa el tamaño del conjunto de entrenamiento y el eje y representa la puntuación de precisión. La línea roja muestra la puntuación de precisión del modelo en el conjunto de entrenamiento, mientras que la línea verde muestra la puntuación de precisión en el conjunto de validación cruzada.\n",
        "\n",
        "- A medida que el tamaño del conjunto de entrenamiento aumenta, la precisión del modelo en el conjunto de entrenamiento disminuye ligeramente, lo cual es normal ya que es más difícil ajustar a un mayor número de datos. Sin embargo, la precisión en el conjunto de validación cruzada aumenta, lo que indica que el modelo está aprendiendo de los datos adicionales y generalizando mejor a datos no vistos.\n",
        "\n",
        "- El hecho de que las dos líneas converjan sugiere que el modelo podría no beneficiarse significativamente de más datos de entrenamiento. En este punto, podrías considerar otras formas de mejorar el rendimiento del modelo, como ajustar los parámetros del modelo, probar un modelo diferente, o recoger más características de los datos"
      ],
      "metadata": {
        "id": "42wqs3pJ8XrA"
      }
    },
    {
      "cell_type": "markdown",
      "source": [
        "## Modelo Random Forest\n",
        "\n",
        "---\n",
        "\n"
      ],
      "metadata": {
        "id": "y6biDIEVSgfS"
      }
    },
    {
      "cell_type": "code",
      "source": [
        "# Seleccionando las características y la variable objetivo\n",
        "X = data_2[['Churn Score', 'CLTV', 'Gender']]\n",
        "y = data_2['Churn Value']\n",
        "\n",
        "# Dividiendo los datos en conjuntos de entrenamiento y prueba\n",
        "X_train, X_test, y_train, y_test = train_test_split(X, y, test_size=0.2, random_state=42)\n",
        "\n",
        "# Definiendo los hiperparámetros para la búsqueda aleatoria\n",
        "hyperparameters = {'n_estimators': [100, 200, 300, 400, 500], 'max_depth': [None, 10, 20, 30, 40, 50]}\n",
        "\n",
        "# Creando el modelo\n",
        "model = RandomForestClassifier(n_estimators=100, random_state=42)\n",
        "\n",
        "# Creando el objeto de búsqueda aleatoria\n",
        "random_search = RandomizedSearchCV(model, hyperparameters, random_state=42)\n",
        "\n",
        "# Entrenando el modelo\n",
        "model.fit(X_train, y_train)\n",
        "\n",
        "# Haciendo predicciones\n",
        "y_pred = model.predict(X_test)\n",
        "\n",
        "# Evaluando el modelo\n",
        "print('Exactitud del modelo:', accuracy_score(y_test, y_pred))\n",
        "print('Sensibilidad del modelo:', recall_score(y_test, y_pred))\n",
        "print('Precisión del modelo:', precision_score(y_test, y_pred))\n",
        "print('F1 del modelo:', f1_score(y_test, y_pred))\n",
        "print('ROC del modelo:', roc_auc_score(y_test, y_pred))\n"
      ],
      "metadata": {
        "colab": {
          "base_uri": "https://localhost:8080/"
        },
        "id": "QCEmT0mUSm_V",
        "outputId": "65c8945c-cee9-423c-bf97-2aaf77757241"
      },
      "execution_count": 117,
      "outputs": [
        {
          "output_type": "stream",
          "name": "stdout",
          "text": [
            "Exactitud del modelo: 0.850958126330731\n",
            "Sensibilidad del modelo: 0.6625\n",
            "Precisión del modelo: 0.7794117647058824\n",
            "F1 del modelo: 0.7162162162162162\n",
            "ROC del modelo: 0.7940844895936571\n"
          ]
        }
      ]
    },
    {
      "cell_type": "code",
      "source": [
        "# Ajustando el modelo y realizando la búsqueda aleatoria\n",
        "random_search.fit(X_train, y_train)\n",
        "# Imprimiendo los mejores hiperparámetros\n",
        "best_params = random_search.best_params_\n",
        "print('Los mejores hiperparámetros son:', best_params)\n"
      ],
      "metadata": {
        "colab": {
          "base_uri": "https://localhost:8080/"
        },
        "id": "6NS5bULfaGo6",
        "outputId": "7fd68154-d31c-42e6-c102-672351164ff6"
      },
      "execution_count": 27,
      "outputs": [
        {
          "output_type": "stream",
          "name": "stdout",
          "text": [
            "Los mejores hiperparámetros son: {'n_estimators': 400, 'max_depth': 10}\n"
          ]
        }
      ]
    },
    {
      "cell_type": "markdown",
      "source": [
        "## Predicción (Random Forest)"
      ],
      "metadata": {
        "id": "I6WuoGpXXwND"
      }
    },
    {
      "cell_type": "code",
      "source": [
        "# Creando un DataFrame con las predicciones y el sexo de los clientes\n",
        "results = pd.DataFrame({'Prediction': y_pred, 'Gender': X_test['Gender']})\n",
        "\n",
        "# Segmentando los resultados por sexo\n",
        "male_results = results[results['Gender'] == 0]\n",
        "female_results = results[results['Gender'] == 1]\n",
        "\n",
        "print('Resultados para hombres:')\n",
        "print(male_results['Prediction'].value_counts())\n",
        "\n",
        "print('Resultados para mujeres:')\n",
        "print(female_results['Prediction'].value_counts())"
      ],
      "metadata": {
        "colab": {
          "base_uri": "https://localhost:8080/"
        },
        "id": "nYCTtNdpUUye",
        "outputId": "f12780cb-0093-4430-847e-486126011c17"
      },
      "execution_count": 118,
      "outputs": [
        {
          "output_type": "stream",
          "name": "stdout",
          "text": [
            "Resultados para hombres:\n",
            "0.0    540\n",
            "1.0    176\n",
            "Name: Prediction, dtype: int64\n",
            "Resultados para mujeres:\n",
            "0.0    529\n",
            "1.0    164\n",
            "Name: Prediction, dtype: int64\n"
          ]
        }
      ]
    },
    {
      "cell_type": "markdown",
      "source": [
        "- Según las predicciones del modelo, de los clientes hombres, 540 se quedarán y 176 probablemente abandonarán la compañía. En cuanto a las clientes mujeres, 529 se quedarán y 164 probablemente abandonarán la compañía."
      ],
      "metadata": {
        "id": "BW6p4QWnWAl4"
      }
    },
    {
      "cell_type": "markdown",
      "source": [
        "## Curva de Aprendizaje Modelo Random Forest"
      ],
      "metadata": {
        "id": "rnED9XHQBbDB"
      }
    },
    {
      "cell_type": "code",
      "source": [
        "from sklearn.model_selection import learning_curve\n",
        "from sklearn.ensemble import RandomForestClassifier\n",
        "import numpy as np\n",
        "import matplotlib.pyplot as plt\n",
        "\n",
        "# Asumiendo que X_train e y_train son tus datos de entrenamiento\n",
        "train_sizes, train_scores, test_scores = learning_curve(RandomForestClassifier(), X_train, y_train)\n",
        "\n",
        "# Calculando las medias y desviaciones estándar de los scores de entrenamiento y prueba\n",
        "train_scores_mean = np.mean(train_scores, axis=1)\n",
        "train_scores_std = np.std(train_scores, axis=1)\n",
        "test_scores_mean = np.mean(test_scores, axis=1)\n",
        "test_scores_std = np.std(test_scores, axis=1)\n",
        "\n",
        "# Dibujando las curvas de aprendizaje\n",
        "plt.fill_between(train_sizes, train_scores_mean - train_scores_std, train_scores_mean + train_scores_std, alpha=0.1, color=\"r\")\n",
        "plt.fill_between(train_sizes, test_scores_mean - test_scores_std, test_scores_mean + test_scores_std, alpha=0.1, color=\"g\")\n",
        "plt.plot(train_sizes, train_scores_mean, 'o-', color=\"r\", label=\"Training score\")\n",
        "plt.plot(train_sizes, test_scores_mean, 'o-', color=\"g\", label=\"Cross-validation score\")\n",
        "plt.legend(loc=\"best\")\n",
        "plt.show()\n"
      ],
      "metadata": {
        "colab": {
          "base_uri": "https://localhost:8080/",
          "height": 430
        },
        "id": "_tsRxL3mBcEL",
        "outputId": "7a0e5371-c77a-48f1-902b-8141fc5bf748"
      },
      "execution_count": 29,
      "outputs": [
        {
          "output_type": "display_data",
          "data": {
            "text/plain": [
              "<Figure size 640x480 with 1 Axes>"
            ],
            "image/png": "[encoded data removed]"
          },
          "metadata": {}
        }
      ]
    },
    {
      "cell_type": "markdown",
      "source": [
        "- En el gráfico, la línea roja representa la precisión en el conjunto de entrenamiento y la línea verde representa la precisión en el conjunto de validación cruzada. A medida que el tamaño del conjunto de entrenamiento aumenta, la precisión del modelo en el conjunto de entrenamiento se mantiene constante (cerca de 1.0), lo cual es típico para los modelos de Random Forest ya que son propensos a sobreajustar a los datos de entrenamiento.\n",
        "\n",
        "- Por otro lado, la precisión en el conjunto de validación cruzada aumenta inicialmente y luego parece estabilizarse. Esto sugiere que el modelo está aprendiendo de los datos adicionales al principio, pero después de cierto punto, más datos de entrenamiento no mejoran significativamente la precisión en el conjunto de validación cruzada.\n",
        "\n",
        "- Esto puede indicar que has alcanzado un punto de rendimientos decrecientes con respecto a la cantidad de datos de entrenamiento. A partir de aquí, podrías considerar otras formas de mejorar el rendimiento del modelo, como ajustar los parámetros del modelo, probar un modelo diferente, o recoger más características de los datos."
      ],
      "metadata": {
        "id": "j6e7AchMCX_b"
      }
    },
    {
      "cell_type": "markdown",
      "source": [
        "## Modelos No Supervisados\n",
        "\n",
        "---\n",
        "\n"
      ],
      "metadata": {
        "id": "mhM3ugmyhonO"
      }
    },
    {
      "cell_type": "code",
      "source": [
        "data_3 = data_2.select_dtypes(include=[np.number])\n",
        "\n",
        "display(data_3)"
      ],
      "metadata": {
        "colab": {
          "base_uri": "https://localhost:8080/",
          "height": 461
        },
        "id": "tKif6sG8n1OI",
        "outputId": "e8bd9a26-eb2e-4d39-c651-94402d64798e"
      },
      "execution_count": 107,
      "outputs": [
        {
          "output_type": "display_data",
          "data": {
            "text/plain": [
              "          CLTV  Churn Label  Churn Score  Churn Value      City  Contract  \\\n",
              "0     0.274850          1.0     0.852632          1.0  0.498227       0.0   \n",
              "1     0.155215          1.0     0.652632          1.0  0.498227       0.0   \n",
              "2     0.749166          1.0     0.852632          1.0  0.498227       0.0   \n",
              "3     0.667111          1.0     0.831579          1.0  0.498227       0.0   \n",
              "4     0.742050          1.0     0.884211          1.0  0.498227       0.0   \n",
              "...        ...          ...          ...          ...       ...       ...   \n",
              "7038  0.734490          0.0     0.421053          0.0  0.461879       1.0   \n",
              "7039  0.030465          0.0     0.568421          0.0  0.001773       0.5   \n",
              "7040  0.790972          0.0     0.694737          0.0  0.019504       0.5   \n",
              "7041  0.175673          0.0     0.568421          0.0  0.023050       0.0   \n",
              "7042  0.688014          0.0     0.347368          0.0  0.028369       1.0   \n",
              "\n",
              "      Dependents  Device Protection  Gender  Internet Service  ...  \\\n",
              "0            0.0                0.0     1.0               0.0  ...   \n",
              "1            1.0                0.0     0.0               0.5  ...   \n",
              "2            1.0                1.0     0.0               0.5  ...   \n",
              "3            1.0                1.0     0.0               0.5  ...   \n",
              "4            1.0                1.0     1.0               0.5  ...   \n",
              "...          ...                ...     ...               ...  ...   \n",
              "7038         0.0                0.5     0.0               1.0  ...   \n",
              "7039         1.0                1.0     1.0               0.0  ...   \n",
              "7040         1.0                1.0     0.0               0.5  ...   \n",
              "7041         1.0                0.0     0.0               0.0  ...   \n",
              "7042         0.0                1.0     1.0               0.5  ...   \n",
              "\n",
              "      Online Security  Paperless Billing  Partner  Payment Method  \\\n",
              "0                 1.0                1.0      0.0        1.000000   \n",
              "1                 0.0                1.0      0.0        0.666667   \n",
              "2                 0.0                1.0      0.0        0.666667   \n",
              "3                 0.0                1.0      1.0        0.666667   \n",
              "4                 0.0                1.0      0.0        0.000000   \n",
              "...               ...                ...      ...             ...   \n",
              "7038              0.5                1.0      0.0        0.000000   \n",
              "7039              1.0                1.0      1.0        1.000000   \n",
              "7040              0.0                1.0      1.0        0.333333   \n",
              "7041              1.0                1.0      1.0        0.666667   \n",
              "7042              1.0                1.0      0.0        0.000000   \n",
              "\n",
              "      Phone Service  Senior Citizen  Streaming Movies  Streaming TV  \\\n",
              "0          0.333333             0.0          0.498227          0.00   \n",
              "1          1.000000             0.0          0.498227          0.00   \n",
              "2          0.333333             0.0          0.498227          0.50   \n",
              "3          0.333333             0.0          0.498227          0.50   \n",
              "4          0.333333             0.0          0.498227          0.50   \n",
              "...             ...             ...               ...           ...   \n",
              "7038       0.333333             0.0          0.461879          0.25   \n",
              "7039       0.333333             0.0          0.001773          0.50   \n",
              "7040       0.333333             0.0          0.019504          0.50   \n",
              "7041       0.000000             0.0          0.023050          0.00   \n",
              "7042       0.333333             0.0          0.028369          0.75   \n",
              "\n",
              "      Tech Support  Tenure Months  \n",
              "0              0.0       0.027778  \n",
              "1              0.0       0.027778  \n",
              "2              0.0       0.111111  \n",
              "3              1.0       0.388889  \n",
              "4              0.0       0.680556  \n",
              "...            ...            ...  \n",
              "7038           0.5       1.000000  \n",
              "7039           1.0       0.333333  \n",
              "7040           0.0       1.000000  \n",
              "7041           0.0       0.152778  \n",
              "7042           1.0       0.916667  \n",
              "\n",
              "[7043 rows x 23 columns]"
            ],
            "text/html": [
              "\n",
              "  <div id=\"df-a73042dd-1067-4e08-95ed-ad697a0c1be1\" class=\"colab-df-container\">\n",
              "    <div>\n",
              "<style scoped>\n",
              "    .dataframe tbody tr th:only-of-type {\n",
              "        vertical-align: middle;\n",
              "    }\n",
              "\n",
              "    .dataframe tbody tr th {\n",
              "        vertical-align: top;\n",
              "    }\n",
              "\n",
              "    .dataframe thead th {\n",
              "        text-align: right;\n",
              "    }\n",
              "</style>\n",
              "<table border=\"1\" class=\"dataframe\">\n",
              "  <thead>\n",
              "    <tr style=\"text-align: right;\">\n",
              "      <th></th>\n",
              "      <th>CLTV</th>\n",
              "      <th>Churn Label</th>\n",
              "      <th>Churn Score</th>\n",
              "      <th>Churn Value</th>\n",
              "      <th>City</th>\n",
              "      <th>Contract</th>\n",
              "      <th>Dependents</th>\n",
              "      <th>Device Protection</th>\n",
              "      <th>Gender</th>\n",
              "      <th>Internet Service</th>\n",
              "      <th>...</th>\n",
              "      <th>Online Security</th>\n",
              "      <th>Paperless Billing</th>\n",
              "      <th>Partner</th>\n",
              "      <th>Payment Method</th>\n",
              "      <th>Phone Service</th>\n",
              "      <th>Senior Citizen</th>\n",
              "      <th>Streaming Movies</th>\n",
              "      <th>Streaming TV</th>\n",
              "      <th>Tech Support</th>\n",
              "      <th>Tenure Months</th>\n",
              "    </tr>\n",
              "  </thead>\n",
              "  <tbody>\n",
              "    <tr>\n",
              "      <th>0</th>\n",
              "      <td>0.274850</td>\n",
              "      <td>1.0</td>\n",
              "      <td>0.852632</td>\n",
              "      <td>1.0</td>\n",
              "      <td>0.498227</td>\n",
              "      <td>0.0</td>\n",
              "      <td>0.0</td>\n",
              "      <td>0.0</td>\n",
              "      <td>1.0</td>\n",
              "      <td>0.0</td>\n",
              "      <td>...</td>\n",
              "      <td>1.0</td>\n",
              "      <td>1.0</td>\n",
              "      <td>0.0</td>\n",
              "      <td>1.000000</td>\n",
              "      <td>0.333333</td>\n",
              "      <td>0.0</td>\n",
              "      <td>0.498227</td>\n",
              "      <td>0.00</td>\n",
              "      <td>0.0</td>\n",
              "      <td>0.027778</td>\n",
              "    </tr>\n",
              "    <tr>\n",
              "      <th>1</th>\n",
              "      <td>0.155215</td>\n",
              "      <td>1.0</td>\n",
              "      <td>0.652632</td>\n",
              "      <td>1.0</td>\n",
              "      <td>0.498227</td>\n",
              "      <td>0.0</td>\n",
              "      <td>1.0</td>\n",
              "      <td>0.0</td>\n",
              "      <td>0.0</td>\n",
              "      <td>0.5</td>\n",
              "      <td>...</td>\n",
              "      <td>0.0</td>\n",
              "      <td>1.0</td>\n",
              "      <td>0.0</td>\n",
              "      <td>0.666667</td>\n",
              "      <td>1.000000</td>\n",
              "      <td>0.0</td>\n",
              "      <td>0.498227</td>\n",
              "      <td>0.00</td>\n",
              "      <td>0.0</td>\n",
              "      <td>0.027778</td>\n",
              "    </tr>\n",
              "    <tr>\n",
              "      <th>2</th>\n",
              "      <td>0.749166</td>\n",
              "      <td>1.0</td>\n",
              "      <td>0.852632</td>\n",
              "      <td>1.0</td>\n",
              "      <td>0.498227</td>\n",
              "      <td>0.0</td>\n",
              "      <td>1.0</td>\n",
              "      <td>1.0</td>\n",
              "      <td>0.0</td>\n",
              "      <td>0.5</td>\n",
              "      <td>...</td>\n",
              "      <td>0.0</td>\n",
              "      <td>1.0</td>\n",
              "      <td>0.0</td>\n",
              "      <td>0.666667</td>\n",
              "      <td>0.333333</td>\n",
              "      <td>0.0</td>\n",
              "      <td>0.498227</td>\n",
              "      <td>0.50</td>\n",
              "      <td>0.0</td>\n",
              "      <td>0.111111</td>\n",
              "    </tr>\n",
              "    <tr>\n",
              "      <th>3</th>\n",
              "      <td>0.667111</td>\n",
              "      <td>1.0</td>\n",
              "      <td>0.831579</td>\n",
              "      <td>1.0</td>\n",
              "      <td>0.498227</td>\n",
              "      <td>0.0</td>\n",
              "      <td>1.0</td>\n",
              "      <td>1.0</td>\n",
              "      <td>0.0</td>\n",
              "      <td>0.5</td>\n",
              "      <td>...</td>\n",
              "      <td>0.0</td>\n",
              "      <td>1.0</td>\n",
              "      <td>1.0</td>\n",
              "      <td>0.666667</td>\n",
              "      <td>0.333333</td>\n",
              "      <td>0.0</td>\n",
              "      <td>0.498227</td>\n",
              "      <td>0.50</td>\n",
              "      <td>1.0</td>\n",
              "      <td>0.388889</td>\n",
              "    </tr>\n",
              "    <tr>\n",
              "      <th>4</th>\n",
              "      <td>0.742050</td>\n",
              "      <td>1.0</td>\n",
              "      <td>0.884211</td>\n",
              "      <td>1.0</td>\n",
              "      <td>0.498227</td>\n",
              "      <td>0.0</td>\n",
              "      <td>1.0</td>\n",
              "      <td>1.0</td>\n",
              "      <td>1.0</td>\n",
              "      <td>0.5</td>\n",
              "      <td>...</td>\n",
              "      <td>0.0</td>\n",
              "      <td>1.0</td>\n",
              "      <td>0.0</td>\n",
              "      <td>0.000000</td>\n",
              "      <td>0.333333</td>\n",
              "      <td>0.0</td>\n",
              "      <td>0.498227</td>\n",
              "      <td>0.50</td>\n",
              "      <td>0.0</td>\n",
              "      <td>0.680556</td>\n",
              "    </tr>\n",
              "    <tr>\n",
              "      <th>...</th>\n",
              "      <td>...</td>\n",
              "      <td>...</td>\n",
              "      <td>...</td>\n",
              "      <td>...</td>\n",
              "      <td>...</td>\n",
              "      <td>...</td>\n",
              "      <td>...</td>\n",
              "      <td>...</td>\n",
              "      <td>...</td>\n",
              "      <td>...</td>\n",
              "      <td>...</td>\n",
              "      <td>...</td>\n",
              "      <td>...</td>\n",
              "      <td>...</td>\n",
              "      <td>...</td>\n",
              "      <td>...</td>\n",
              "      <td>...</td>\n",
              "      <td>...</td>\n",
              "      <td>...</td>\n",
              "      <td>...</td>\n",
              "      <td>...</td>\n",
              "    </tr>\n",
              "    <tr>\n",
              "      <th>7038</th>\n",
              "      <td>0.734490</td>\n",
              "      <td>0.0</td>\n",
              "      <td>0.421053</td>\n",
              "      <td>0.0</td>\n",
              "      <td>0.461879</td>\n",
              "      <td>1.0</td>\n",
              "      <td>0.0</td>\n",
              "      <td>0.5</td>\n",
              "      <td>0.0</td>\n",
              "      <td>1.0</td>\n",
              "      <td>...</td>\n",
              "      <td>0.5</td>\n",
              "      <td>1.0</td>\n",
              "      <td>0.0</td>\n",
              "      <td>0.000000</td>\n",
              "      <td>0.333333</td>\n",
              "      <td>0.0</td>\n",
              "      <td>0.461879</td>\n",
              "      <td>0.25</td>\n",
              "      <td>0.5</td>\n",
              "      <td>1.000000</td>\n",
              "    </tr>\n",
              "    <tr>\n",
              "      <th>7039</th>\n",
              "      <td>0.030465</td>\n",
              "      <td>0.0</td>\n",
              "      <td>0.568421</td>\n",
              "      <td>0.0</td>\n",
              "      <td>0.001773</td>\n",
              "      <td>0.5</td>\n",
              "      <td>1.0</td>\n",
              "      <td>1.0</td>\n",
              "      <td>1.0</td>\n",
              "      <td>0.0</td>\n",
              "      <td>...</td>\n",
              "      <td>1.0</td>\n",
              "      <td>1.0</td>\n",
              "      <td>1.0</td>\n",
              "      <td>1.000000</td>\n",
              "      <td>0.333333</td>\n",
              "      <td>0.0</td>\n",
              "      <td>0.001773</td>\n",
              "      <td>0.50</td>\n",
              "      <td>1.0</td>\n",
              "      <td>0.333333</td>\n",
              "    </tr>\n",
              "    <tr>\n",
              "      <th>7040</th>\n",
              "      <td>0.790972</td>\n",
              "      <td>0.0</td>\n",
              "      <td>0.694737</td>\n",
              "      <td>0.0</td>\n",
              "      <td>0.019504</td>\n",
              "      <td>0.5</td>\n",
              "      <td>1.0</td>\n",
              "      <td>1.0</td>\n",
              "      <td>0.0</td>\n",
              "      <td>0.5</td>\n",
              "      <td>...</td>\n",
              "      <td>0.0</td>\n",
              "      <td>1.0</td>\n",
              "      <td>1.0</td>\n",
              "      <td>0.333333</td>\n",
              "      <td>0.333333</td>\n",
              "      <td>0.0</td>\n",
              "      <td>0.019504</td>\n",
              "      <td>0.50</td>\n",
              "      <td>0.0</td>\n",
              "      <td>1.000000</td>\n",
              "    </tr>\n",
              "    <tr>\n",
              "      <th>7041</th>\n",
              "      <td>0.175673</td>\n",
              "      <td>0.0</td>\n",
              "      <td>0.568421</td>\n",
              "      <td>0.0</td>\n",
              "      <td>0.023050</td>\n",
              "      <td>0.0</td>\n",
              "      <td>1.0</td>\n",
              "      <td>0.0</td>\n",
              "      <td>0.0</td>\n",
              "      <td>0.0</td>\n",
              "      <td>...</td>\n",
              "      <td>1.0</td>\n",
              "      <td>1.0</td>\n",
              "      <td>1.0</td>\n",
              "      <td>0.666667</td>\n",
              "      <td>0.000000</td>\n",
              "      <td>0.0</td>\n",
              "      <td>0.023050</td>\n",
              "      <td>0.00</td>\n",
              "      <td>0.0</td>\n",
              "      <td>0.152778</td>\n",
              "    </tr>\n",
              "    <tr>\n",
              "      <th>7042</th>\n",
              "      <td>0.688014</td>\n",
              "      <td>0.0</td>\n",
              "      <td>0.347368</td>\n",
              "      <td>0.0</td>\n",
              "      <td>0.028369</td>\n",
              "      <td>1.0</td>\n",
              "      <td>0.0</td>\n",
              "      <td>1.0</td>\n",
              "      <td>1.0</td>\n",
              "      <td>0.5</td>\n",
              "      <td>...</td>\n",
              "      <td>1.0</td>\n",
              "      <td>1.0</td>\n",
              "      <td>0.0</td>\n",
              "      <td>0.000000</td>\n",
              "      <td>0.333333</td>\n",
              "      <td>0.0</td>\n",
              "      <td>0.028369</td>\n",
              "      <td>0.75</td>\n",
              "      <td>1.0</td>\n",
              "      <td>0.916667</td>\n",
              "    </tr>\n",
              "  </tbody>\n",
              "</table>\n",
              "<p>7043 rows × 23 columns</p>\n",
              "</div>\n",
              "    <div class=\"colab-df-buttons\">\n",
              "\n",
              "  <div class=\"colab-df-container\">\n",
              "    <button class=\"colab-df-convert\" onclick=\"convertToInteractive('df-a73042dd-1067-4e08-95ed-ad697a0c1be1')\"\n",
              "            title=\"Convert this dataframe to an interactive table.\"\n",
              "            style=\"display:none;\">\n",
              "\n",
              "  <svg xmlns=\"http://www.w3.org/2000/svg\" height=\"24px\" viewBox=\"0 -960 960 960\">\n",
              "    <path d=\"M120-120v-720h720v720H120Zm60-500h600v-160H180v160Zm220 220h160v-160H400v160Zm0 220h160v-160H400v160ZM180-400h160v-160H180v160Zm440 0h160v-160H620v160ZM180-180h160v-160H180v160Zm440 0h160v-160H620v160Z\"/>\n",
              "  </svg>\n",
              "    </button>\n",
              "\n",
              "  <style>\n",
              "    .colab-df-container {\n",
              "      display:flex;\n",
              "      gap: 12px;\n",
              "    }\n",
              "\n",
              "    .colab-df-convert {\n",
              "      background-color: #E8F0FE;\n",
              "      border: none;\n",
              "      border-radius: 50%;\n",
              "      cursor: pointer;\n",
              "      display: none;\n",
              "      fill: #1967D2;\n",
              "      height: 32px;\n",
              "      padding: 0 0 0 0;\n",
              "      width: 32px;\n",
              "    }\n",
              "\n",
              "    .colab-df-convert:hover {\n",
              "      background-color: #E2EBFA;\n",
              "      box-shadow: 0px 1px 2px rgba(60, 64, 67, 0.3), 0px 1px 3px 1px rgba(60, 64, 67, 0.15);\n",
              "      fill: #174EA6;\n",
              "    }\n",
              "\n",
              "    .colab-df-buttons div {\n",
              "      margin-bottom: 4px;\n",
              "    }\n",
              "\n",
              "    [theme=dark] .colab-df-convert {\n",
              "      background-color: #3B4455;\n",
              "      fill: #D2E3FC;\n",
              "    }\n",
              "\n",
              "    [theme=dark] .colab-df-convert:hover {\n",
              "      background-color: #434B5C;\n",
              "      box-shadow: 0px 1px 3px 1px rgba(0, 0, 0, 0.15);\n",
              "      filter: drop-shadow(0px 1px 2px rgba(0, 0, 0, 0.3));\n",
              "      fill: #FFFFFF;\n",
              "    }\n",
              "  </style>\n",
              "\n",
              "    <script>\n",
              "      const buttonEl =\n",
              "        document.querySelector('#df-a73042dd-1067-4e08-95ed-ad697a0c1be1 button.colab-df-convert');\n",
              "      buttonEl.style.display =\n",
              "        google.colab.kernel.accessAllowed ? 'block' : 'none';\n",
              "\n",
              "      async function convertToInteractive(key) {\n",
              "        const element = document.querySelector('#df-a73042dd-1067-4e08-95ed-ad697a0c1be1');\n",
              "        const dataTable =\n",
              "          await google.colab.kernel.invokeFunction('convertToInteractive',\n",
              "                                                    [key], {});\n",
              "        if (!dataTable) return;\n",
              "\n",
              "        const docLinkHtml = 'Like what you see? Visit the ' +\n",
              "          '<a target=\"_blank\" href=https://colab.research.google.com/notebooks/data_table.ipynb>data table notebook</a>'\n",
              "          + ' to learn more about interactive tables.';\n",
              "        element.innerHTML = '';\n",
              "        dataTable['output_type'] = 'display_data';\n",
              "        await google.colab.output.renderOutput(dataTable, element);\n",
              "        const docLink = document.createElement('div');\n",
              "        docLink.innerHTML = docLinkHtml;\n",
              "        element.appendChild(docLink);\n",
              "      }\n",
              "    </script>\n",
              "  </div>\n",
              "\n",
              "\n",
              "<div id=\"df-e6600011-cbc2-478a-b5d5-4e6e2db23982\">\n",
              "  <button class=\"colab-df-quickchart\" onclick=\"quickchart('df-e6600011-cbc2-478a-b5d5-4e6e2db23982')\"\n",
              "            title=\"Suggest charts\"\n",
              "            style=\"display:none;\">\n",
              "\n",
              "<svg xmlns=\"http://www.w3.org/2000/svg\" height=\"24px\"viewBox=\"0 0 24 24\"\n",
              "     width=\"24px\">\n",
              "    <g>\n",
              "        <path d=\"M19 3H5c-1.1 0-2 .9-2 2v14c0 1.1.9 2 2 2h14c1.1 0 2-.9 2-2V5c0-1.1-.9-2-2-2zM9 17H7v-7h2v7zm4 0h-2V7h2v10zm4 0h-2v-4h2v4z\"/>\n",
              "    </g>\n",
              "</svg>\n",
              "  </button>\n",
              "\n",
              "<style>\n",
              "  .colab-df-quickchart {\n",
              "      --bg-color: #E8F0FE;\n",
              "      --fill-color: #1967D2;\n",
              "      --hover-bg-color: #E2EBFA;\n",
              "      --hover-fill-color: #174EA6;\n",
              "      --disabled-fill-color: #AAA;\n",
              "      --disabled-bg-color: #DDD;\n",
              "  }\n",
              "\n",
              "  [theme=dark] .colab-df-quickchart {\n",
              "      --bg-color: #3B4455;\n",
              "      --fill-color: #D2E3FC;\n",
              "      --hover-bg-color: #434B5C;\n",
              "      --hover-fill-color: #FFFFFF;\n",
              "      --disabled-bg-color: #3B4455;\n",
              "      --disabled-fill-color: #666;\n",
              "  }\n",
              "\n",
              "  .colab-df-quickchart {\n",
              "    background-color: var(--bg-color);\n",
              "    border: none;\n",
              "    border-radius: 50%;\n",
              "    cursor: pointer;\n",
              "    display: none;\n",
              "    fill: var(--fill-color);\n",
              "    height: 32px;\n",
              "    padding: 0;\n",
              "    width: 32px;\n",
              "  }\n",
              "\n",
              "  .colab-df-quickchart:hover {\n",
              "    background-color: var(--hover-bg-color);\n",
              "    box-shadow: 0 1px 2px rgba(60, 64, 67, 0.3), 0 1px 3px 1px rgba(60, 64, 67, 0.15);\n",
              "    fill: var(--button-hover-fill-color);\n",
              "  }\n",
              "\n",
              "  .colab-df-quickchart-complete:disabled,\n",
              "  .colab-df-quickchart-complete:disabled:hover {\n",
              "    background-color: var(--disabled-bg-color);\n",
              "    fill: var(--disabled-fill-color);\n",
              "    box-shadow: none;\n",
              "  }\n",
              "\n",
              "  .colab-df-spinner {\n",
              "    border: 2px solid var(--fill-color);\n",
              "    border-color: transparent;\n",
              "    border-bottom-color: var(--fill-color);\n",
              "    animation:\n",
              "      spin 1s steps(1) infinite;\n",
              "  }\n",
              "\n",
              "  @keyframes spin {\n",
              "    0% {\n",
              "      border-color: transparent;\n",
              "      border-bottom-color: var(--fill-color);\n",
              "      border-left-color: var(--fill-color);\n",
              "    }\n",
              "    20% {\n",
              "      border-color: transparent;\n",
              "      border-left-color: var(--fill-color);\n",
              "      border-top-color: var(--fill-color);\n",
              "    }\n",
              "    30% {\n",
              "      border-color: transparent;\n",
              "      border-left-color: var(--fill-color);\n",
              "      border-top-color: var(--fill-color);\n",
              "      border-right-color: var(--fill-color);\n",
              "    }\n",
              "    40% {\n",
              "      border-color: transparent;\n",
              "      border-right-color: var(--fill-color);\n",
              "      border-top-color: var(--fill-color);\n",
              "    }\n",
              "    60% {\n",
              "      border-color: transparent;\n",
              "      border-right-color: var(--fill-color);\n",
              "    }\n",
              "    80% {\n",
              "      border-color: transparent;\n",
              "      border-right-color: var(--fill-color);\n",
              "      border-bottom-color: var(--fill-color);\n",
              "    }\n",
              "    90% {\n",
              "      border-color: transparent;\n",
              "      border-bottom-color: var(--fill-color);\n",
              "    }\n",
              "  }\n",
              "</style>\n",
              "\n",
              "  <script>\n",
              "    async function quickchart(key) {\n",
              "      const quickchartButtonEl =\n",
              "        document.querySelector('#' + key + ' button');\n",
              "      quickchartButtonEl.disabled = true;  // To prevent multiple clicks.\n",
              "      quickchartButtonEl.classList.add('colab-df-spinner');\n",
              "      try {\n",
              "        const charts = await google.colab.kernel.invokeFunction(\n",
              "            'suggestCharts', [key], {});\n",
              "      } catch (error) {\n",
              "        console.error('Error during call to suggestCharts:', error);\n",
              "      }\n",
              "      quickchartButtonEl.classList.remove('colab-df-spinner');\n",
              "      quickchartButtonEl.classList.add('colab-df-quickchart-complete');\n",
              "    }\n",
              "    (() => {\n",
              "      let quickchartButtonEl =\n",
              "        document.querySelector('#df-e6600011-cbc2-478a-b5d5-4e6e2db23982 button');\n",
              "      quickchartButtonEl.style.display =\n",
              "        google.colab.kernel.accessAllowed ? 'block' : 'none';\n",
              "    })();\n",
              "  </script>\n",
              "</div>\n",
              "    </div>\n",
              "  </div>\n"
            ]
          },
          "metadata": {}
        }
      ]
    },
    {
      "cell_type": "code",
      "source": [
        "print(data_3.columns)\n",
        "print('\\n',data_3.shape)"
      ],
      "metadata": {
        "colab": {
          "base_uri": "https://localhost:8080/"
        },
        "id": "tgjVWc1ajxqj",
        "outputId": "15bcd7ee-21ee-4247-98fc-80243c080bc4"
      },
      "execution_count": 44,
      "outputs": [
        {
          "output_type": "stream",
          "name": "stdout",
          "text": [
            "Index(['CLTV', 'Churn Label', 'Churn Score', 'Churn Value', 'City', 'Contract',\n",
            "       'Dependents', 'Device Protection', 'Gender', 'Internet Service',\n",
            "       'Monthly Charges', 'Multiple Lines', 'Online Backup', 'Online Security',\n",
            "       'Paperless Billing', 'Partner', 'Payment Method', 'Phone Service',\n",
            "       'Senior Citizen', 'Streaming Movies', 'Streaming TV', 'Tech Support',\n",
            "       'Tenure Months'],\n",
            "      dtype='object')\n",
            "\n",
            " (7043, 23)\n"
          ]
        }
      ]
    },
    {
      "cell_type": "markdown",
      "source": [
        "##Entrenamiento de Datos"
      ],
      "metadata": {
        "id": "IEYYX2MMo_BC"
      }
    },
    {
      "cell_type": "code",
      "source": [
        "pca_pipe = make_pipeline(StandardScaler(), PCA()) # Escalando los datos\n",
        "pca_pipe.fit(data_3)\n",
        "modelo_pca = pca_pipe.named_steps['pca'] # Se extrae el modelo entrenado del pipeline"
      ],
      "metadata": {
        "id": "8SVhau1Yhu4H"
      },
      "execution_count": 119,
      "outputs": []
    },
    {
      "cell_type": "markdown",
      "source": [
        "##Técnicas de Agrupamiento"
      ],
      "metadata": {
        "id": "nS1szYe-pCpI"
      }
    },
    {
      "cell_type": "markdown",
      "source": [
        "## Curva de Jambú\n",
        "\n",
        "---\n",
        "\n"
      ],
      "metadata": {
        "id": "ybsN6fcD9FcE"
      }
    },
    {
      "cell_type": "markdown",
      "source": [
        "**1. Codo de Jambú**"
      ],
      "metadata": {
        "id": "nVzjmwx5pGzE"
      }
    },
    {
      "cell_type": "code",
      "source": [
        "wcss = [] # Creación de lista vacía\n",
        "\n",
        "for i in range (2,11):\n",
        "  kmeans = KMeans (n_clusters = i, max_iter= 400) # Realizando interaciones\n",
        "  kmeans.fit (data_3)\n",
        "  wcss.append (kmeans.inertia_)\n",
        "\n",
        "plt.plot(range(2, 11), wcss)\n",
        "plt.title (\"Codo de Jambú\")\n",
        "plt.xlabel ('Número de Clusters')\n",
        "plt.ylabel ('WCSS') # Indicador de similitud\n",
        "plt.show()"
      ],
      "metadata": {
        "id": "vaoFLgEapIqQ",
        "colab": {
          "base_uri": "https://localhost:8080/",
          "height": 804
        },
        "outputId": "e1520910-b2fb-4877-ca80-1c0892452c36"
      },
      "execution_count": 108,
      "outputs": [
        {
          "output_type": "stream",
          "name": "stderr",
          "text": [
            "/usr/local/lib/python3.10/dist-packages/sklearn/cluster/_kmeans.py:870: FutureWarning: The default value of `n_init` will change from 10 to 'auto' in 1.4. Set the value of `n_init` explicitly to suppress the warning\n",
            "  warnings.warn(\n",
            "/usr/local/lib/python3.10/dist-packages/sklearn/cluster/_kmeans.py:870: FutureWarning: The default value of `n_init` will change from 10 to 'auto' in 1.4. Set the value of `n_init` explicitly to suppress the warning\n",
            "  warnings.warn(\n",
            "/usr/local/lib/python3.10/dist-packages/sklearn/cluster/_kmeans.py:870: FutureWarning: The default value of `n_init` will change from 10 to 'auto' in 1.4. Set the value of `n_init` explicitly to suppress the warning\n",
            "  warnings.warn(\n",
            "/usr/local/lib/python3.10/dist-packages/sklearn/cluster/_kmeans.py:870: FutureWarning: The default value of `n_init` will change from 10 to 'auto' in 1.4. Set the value of `n_init` explicitly to suppress the warning\n",
            "  warnings.warn(\n",
            "/usr/local/lib/python3.10/dist-packages/sklearn/cluster/_kmeans.py:870: FutureWarning: The default value of `n_init` will change from 10 to 'auto' in 1.4. Set the value of `n_init` explicitly to suppress the warning\n",
            "  warnings.warn(\n",
            "/usr/local/lib/python3.10/dist-packages/sklearn/cluster/_kmeans.py:870: FutureWarning: The default value of `n_init` will change from 10 to 'auto' in 1.4. Set the value of `n_init` explicitly to suppress the warning\n",
            "  warnings.warn(\n",
            "/usr/local/lib/python3.10/dist-packages/sklearn/cluster/_kmeans.py:870: FutureWarning: The default value of `n_init` will change from 10 to 'auto' in 1.4. Set the value of `n_init` explicitly to suppress the warning\n",
            "  warnings.warn(\n",
            "/usr/local/lib/python3.10/dist-packages/sklearn/cluster/_kmeans.py:870: FutureWarning: The default value of `n_init` will change from 10 to 'auto' in 1.4. Set the value of `n_init` explicitly to suppress the warning\n",
            "  warnings.warn(\n",
            "/usr/local/lib/python3.10/dist-packages/sklearn/cluster/_kmeans.py:870: FutureWarning: The default value of `n_init` will change from 10 to 'auto' in 1.4. Set the value of `n_init` explicitly to suppress the warning\n",
            "  warnings.warn(\n"
          ]
        },
        {
          "output_type": "display_data",
          "data": {
            "text/plain": [
              "<Figure size 640x480 with 1 Axes>"
            ],
            "image/png": "[encoded data removed]"
          },
          "metadata": {}
        }
      ]
    },
    {
      "cell_type": "markdown",
      "source": [
        "- El gráfico muestra los resultados del método del codo para determinar el número óptimo de grupos para el algoritmo K-means. El método del codo implica trazar la suma de las distancias al cuadrado dentro del grupo (WCSS) en función del número de grupos.\n",
        "\n",
        "- En este gráfico, el eje x representa el número de grupos y el eje y representa la WCSS. La línea azul muestra cómo cambia la WCSS a medida que aumenta el número de grupos.\n",
        "\n",
        "- El \"codo\" en la gráfica, que es el punto donde la tasa de disminución de la WCSS se suaviza significativamente, sugiere el número óptimo de grupos. En este caso, parece que el codo está alrededor de 4 o 5, lo que sugiere que 4 o 5 podría ser un buen número de grupos para los datos."
      ],
      "metadata": {
        "id": "0SVa2j2d-wjk"
      }
    },
    {
      "cell_type": "markdown",
      "source": [
        "**2. Varianza Explicada**"
      ],
      "metadata": {
        "id": "4wLG91gKpe9l"
      }
    },
    {
      "cell_type": "code",
      "source": [
        "print('----------------------------------------------------')\n",
        "print('Porcentaje de varianza explicada por cada componente')\n",
        "print('----------------------------------------------------')\n",
        "print(modelo_pca.explained_variance_ratio_)\n",
        "\n",
        "fig, ax = plt.subplots(nrows=1, ncols=1, figsize=(18, 4))\n",
        "ax.bar(\n",
        "    x      = np.arange(modelo_pca.n_components_) + 1,\n",
        "    height = modelo_pca.explained_variance_ratio_\n",
        ")\n",
        "\n",
        "for x, y in zip(np.arange(len(data_3.columns)) + 1, modelo_pca.explained_variance_ratio_):\n",
        "    label = round(y, 2)\n",
        "    ax.annotate(\n",
        "        label,\n",
        "        (x,y),\n",
        "        textcoords=\"offset points\",\n",
        "        xytext=(0,10),\n",
        "        ha='center'\n",
        "    )\n",
        "\n",
        "ax.set_xticks(np.arange(modelo_pca.n_components_) + 1)\n",
        "ax.set_ylim(0, 1.1)\n",
        "ax.set_title('Porcentaje de varianza explicada por cada componente')\n",
        "ax.set_xlabel('Componente principal')\n",
        "ax.set_ylabel('Por. varianza explicada');"
      ],
      "metadata": {
        "colab": {
          "base_uri": "https://localhost:8080/",
          "height": 507
        },
        "id": "mZLhOM24pfkR",
        "outputId": "d9b67557-77ab-4225-f8a7-21769e4bebb2"
      },
      "execution_count": 109,
      "outputs": [
        {
          "output_type": "stream",
          "name": "stdout",
          "text": [
            "----------------------------------------------------\n",
            "Porcentaje de varianza explicada por cada componente\n",
            "----------------------------------------------------\n",
            "[1.80437986e-01 1.09994684e-01 8.69230428e-02 6.07433874e-02\n",
            " 5.16205125e-02 5.00649819e-02 4.37047727e-02 4.29331141e-02\n",
            " 4.21622203e-02 3.96433093e-02 3.77888339e-02 3.61663192e-02\n",
            " 3.35229979e-02 3.23287863e-02 3.12248991e-02 2.99818351e-02\n",
            " 2.52007327e-02 2.15961323e-02 1.82260614e-02 1.58623403e-02\n",
            " 9.87305073e-03 7.74980915e-33 1.23699973e-33]\n"
          ]
        },
        {
          "output_type": "display_data",
          "data": {
            "text/plain": [
              "<Figure size 1800x400 with 1 Axes>"
            ],
            "image/png": "[encoded data removed]"
          },
          "metadata": {}
        }
      ]
    },
    {
      "cell_type": "markdown",
      "source": [
        "**3. Varinaza Explicada Acumulada**"
      ],
      "metadata": {
        "id": "ovHXXIP0p1wZ"
      }
    },
    {
      "cell_type": "code",
      "source": [
        "prop_varianza_acum = modelo_pca.explained_variance_ratio_.cumsum()\n",
        "print('------------------------------------------')\n",
        "print('Porcentaje de varianza explicada acumulada')\n",
        "print('------------------------------------------')\n",
        "print(prop_varianza_acum)\n",
        "\n",
        "fig, ax = plt.subplots(nrows=1, ncols=1, figsize=(18, 4))\n",
        "ax.plot(\n",
        "    np.arange(len(data_3.columns)) + 1,\n",
        "    prop_varianza_acum,\n",
        "\n",
        "    marker = 'o'\n",
        ")\n",
        "\n",
        "for x, y in zip(np.arange(len(data_3.columns)) + 1, prop_varianza_acum):\n",
        "    label = round(y, 2)\n",
        "    ax.annotate(\n",
        "        label,\n",
        "        (x,y),\n",
        "        textcoords=\"offset points\",\n",
        "        xytext=(0,10),\n",
        "        ha='center'\n",
        "    )\n",
        "\n",
        "ax.set_ylim(0, 1.1)\n",
        "ax.set_xticks(np.arange(modelo_pca.n_components_) + 1)\n",
        "ax.set_title('Porcentaje de varianza explicada acumulada')\n",
        "ax.set_xlabel('Componente principal')\n",
        "ax.set_ylabel('Por. varianza acumulada');"
      ],
      "metadata": {
        "colab": {
          "base_uri": "https://localhost:8080/",
          "height": 472
        },
        "id": "ByY6FDADp2Yx",
        "outputId": "b7c56566-d640-4836-b9ea-7b6685af16ac"
      },
      "execution_count": 110,
      "outputs": [
        {
          "output_type": "stream",
          "name": "stdout",
          "text": [
            "------------------------------------------\n",
            "Porcentaje de varianza explicada acumulada\n",
            "------------------------------------------\n",
            "[0.18043799 0.29043267 0.37735571 0.4380991  0.48971961 0.53978459\n",
            " 0.58348937 0.62642248 0.6685847  0.70822801 0.74601685 0.78218316\n",
            " 0.81570616 0.84803495 0.87925985 0.90924168 0.93444242 0.95603855\n",
            " 0.97426461 0.99012695 1.         1.         1.        ]\n"
          ]
        },
        {
          "output_type": "display_data",
          "data": {
            "text/plain": [
              "<Figure size 1800x400 with 1 Axes>"
            ],
            "image/png": "[encoded data removed]"
          },
          "metadata": {}
        }
      ]
    },
    {
      "cell_type": "markdown",
      "source": [
        "**Implementación de K-Means**"
      ],
      "metadata": {
        "id": "zHj-MX4cqF3p"
      }
    },
    {
      "cell_type": "code",
      "source": [
        "kmeans = KMeans(n_clusters=5).fit(data_3)\n",
        "centroids = kmeans.cluster_centers_\n",
        "print(centroids)"
      ],
      "metadata": {
        "colab": {
          "base_uri": "https://localhost:8080/"
        },
        "id": "cvetw37dqGe0",
        "outputId": "dae763a9-8417-4c89-a0be-c83c3bc578ed"
      },
      "execution_count": 120,
      "outputs": [
        {
          "output_type": "stream",
          "name": "stderr",
          "text": [
            "/usr/local/lib/python3.10/dist-packages/sklearn/cluster/_kmeans.py:870: FutureWarning: The default value of `n_init` will change from 10 to 'auto' in 1.4. Set the value of `n_init` explicitly to suppress the warning\n",
            "  warnings.warn(\n"
          ]
        },
        {
          "output_type": "stream",
          "name": "stdout",
          "text": [
            "[[ 4.86231988e-01 -1.55431223e-15  4.75870664e-01 -1.55431223e-15\n",
            "   5.15130304e-01  8.45737483e-02  6.49526387e-02  2.37144790e-01\n",
            "   5.18267930e-01  2.72665765e-01  5.09367910e-01  4.63125846e-01\n",
            "   2.31224628e-01  2.01285521e-01  7.53721245e-01  2.41542625e-01\n",
            "   5.60667569e-01  3.49571493e-01  2.28010825e-01  5.15130304e-01\n",
            "   2.42895805e-01  1.98579161e-01  3.28296497e-01]\n",
            " [ 6.69677791e-01  2.46831221e-02  4.86085460e-01  2.46831221e-02\n",
            "   5.27921096e-01  7.63509006e-01  1.49432955e-01  7.83855904e-01\n",
            "   4.69646431e-01  2.91194129e-01  6.49164119e-01  7.74516344e-01\n",
            "   4.01100734e-01  6.99132755e-01  6.51100734e-01  7.49166111e-01\n",
            "   3.25772737e-01  3.53569046e-01  1.74116077e-01  5.27921096e-01\n",
            "   4.02101401e-01  7.28485657e-01  8.32740345e-01]\n",
            " [ 4.71159086e-01  1.00000000e+00  8.15861493e-01  1.00000000e+00\n",
            "   5.28495441e-01  5.44608648e-02  5.63765736e-02  3.08429119e-01\n",
            "   4.93705528e-01  4.08593322e-01  5.55071386e-01  4.92610837e-01\n",
            "   2.27422003e-01  1.73234811e-01  7.54241927e-01  3.47564313e-01\n",
            "   5.94781974e-01  3.53037767e-01  2.57799672e-01  5.28495441e-01\n",
            "   2.97755884e-01  1.80897646e-01  2.36111111e-01]\n",
            " [ 4.89703263e-01  1.76991150e-03  4.74736842e-01  1.76991150e-03\n",
            "   5.27923178e-01  4.29646018e-01  8.58407080e-02  5.17256637e-01\n",
            "   5.42477876e-01  7.76548673e-01  1.37909127e-01  1.13274336e-01\n",
            "   2.88938053e-01  5.31415929e-01  1.96460177e-01  1.94690265e-01\n",
            "   6.38053097e-01  3.56932153e-01  2.92035398e-02  5.27923178e-01\n",
            "   2.80309735e-01  5.31415929e-01  3.54559980e-01]\n",
            " [ 5.57138884e-01  2.70513977e-03  4.70779745e-01  2.70513977e-03\n",
            "   5.33990113e-01  5.20288548e-01  9.98196573e-01  4.61226330e-01\n",
            "   5.13976555e-01  5.50495942e-01  3.27885819e-01  3.95401262e-01\n",
            "   3.23264202e-01  4.68440036e-01  4.33724076e-01  9.62128043e-01\n",
            "   5.15178840e-01  3.53171025e-01  3.60685302e-02  5.33990113e-01\n",
            "   3.02299369e-01  4.42290352e-01  5.41929666e-01]]\n"
          ]
        }
      ]
    },
    {
      "cell_type": "markdown",
      "source": [
        "**Adicionando Clasificación al Objeto Original**"
      ],
      "metadata": {
        "id": "F-pfRw3GqUIM"
      }
    },
    {
      "cell_type": "code",
      "source": [
        "data_3['KMeans_Clusters'] = kmeans.labels_\n",
        "data_3.head()"
      ],
      "metadata": {
        "colab": {
          "base_uri": "https://localhost:8080/",
          "height": 273
        },
        "id": "vVX7dzDrqU0h",
        "outputId": "4396ffd0-e8b6-46a9-858c-c73a15ce625a"
      },
      "execution_count": 98,
      "outputs": [
        {
          "output_type": "execute_result",
          "data": {
            "text/plain": [
              "       CLTV  Churn Label  Churn Score  Churn Value      City  Contract  \\\n",
              "0  0.274850          1.0     0.852632          1.0  0.498227       0.0   \n",
              "1  0.155215          1.0     0.652632          1.0  0.498227       0.0   \n",
              "2  0.749166          1.0     0.852632          1.0  0.498227       0.0   \n",
              "3  0.667111          1.0     0.831579          1.0  0.498227       0.0   \n",
              "4  0.742050          1.0     0.884211          1.0  0.498227       0.0   \n",
              "\n",
              "   Dependents  Device Protection  Gender  Internet Service  ...  \\\n",
              "0         0.0                0.0     1.0               0.0  ...   \n",
              "1         1.0                0.0     0.0               0.5  ...   \n",
              "2         1.0                1.0     0.0               0.5  ...   \n",
              "3         1.0                1.0     0.0               0.5  ...   \n",
              "4         1.0                1.0     1.0               0.5  ...   \n",
              "\n",
              "   Paperless Billing  Partner  Payment Method  Phone Service  Senior Citizen  \\\n",
              "0                1.0      0.0        1.000000       0.333333             0.0   \n",
              "1                1.0      0.0        0.666667       1.000000             0.0   \n",
              "2                1.0      0.0        0.666667       0.333333             0.0   \n",
              "3                1.0      1.0        0.666667       0.333333             0.0   \n",
              "4                1.0      0.0        0.000000       0.333333             0.0   \n",
              "\n",
              "   Streaming Movies  Streaming TV  Tech Support  Tenure Months  \\\n",
              "0          0.498227           0.0           0.0       0.027778   \n",
              "1          0.498227           0.0           0.0       0.027778   \n",
              "2          0.498227           0.5           0.0       0.111111   \n",
              "3          0.498227           0.5           1.0       0.388889   \n",
              "4          0.498227           0.5           0.0       0.680556   \n",
              "\n",
              "   KMeans_Clusters  \n",
              "0                1  \n",
              "1                1  \n",
              "2                1  \n",
              "3                1  \n",
              "4                1  \n",
              "\n",
              "[5 rows x 24 columns]"
            ],
            "text/html": [
              "\n",
              "  <div id=\"df-8d0c3d74-ea38-4e13-8bd0-cab9b46016a5\" class=\"colab-df-container\">\n",
              "    <div>\n",
              "<style scoped>\n",
              "    .dataframe tbody tr th:only-of-type {\n",
              "        vertical-align: middle;\n",
              "    }\n",
              "\n",
              "    .dataframe tbody tr th {\n",
              "        vertical-align: top;\n",
              "    }\n",
              "\n",
              "    .dataframe thead th {\n",
              "        text-align: right;\n",
              "    }\n",
              "</style>\n",
              "<table border=\"1\" class=\"dataframe\">\n",
              "  <thead>\n",
              "    <tr style=\"text-align: right;\">\n",
              "      <th></th>\n",
              "      <th>CLTV</th>\n",
              "      <th>Churn Label</th>\n",
              "      <th>Churn Score</th>\n",
              "      <th>Churn Value</th>\n",
              "      <th>City</th>\n",
              "      <th>Contract</th>\n",
              "      <th>Dependents</th>\n",
              "      <th>Device Protection</th>\n",
              "      <th>Gender</th>\n",
              "      <th>Internet Service</th>\n",
              "      <th>...</th>\n",
              "      <th>Paperless Billing</th>\n",
              "      <th>Partner</th>\n",
              "      <th>Payment Method</th>\n",
              "      <th>Phone Service</th>\n",
              "      <th>Senior Citizen</th>\n",
              "      <th>Streaming Movies</th>\n",
              "      <th>Streaming TV</th>\n",
              "      <th>Tech Support</th>\n",
              "      <th>Tenure Months</th>\n",
              "      <th>KMeans_Clusters</th>\n",
              "    </tr>\n",
              "  </thead>\n",
              "  <tbody>\n",
              "    <tr>\n",
              "      <th>0</th>\n",
              "      <td>0.274850</td>\n",
              "      <td>1.0</td>\n",
              "      <td>0.852632</td>\n",
              "      <td>1.0</td>\n",
              "      <td>0.498227</td>\n",
              "      <td>0.0</td>\n",
              "      <td>0.0</td>\n",
              "      <td>0.0</td>\n",
              "      <td>1.0</td>\n",
              "      <td>0.0</td>\n",
              "      <td>...</td>\n",
              "      <td>1.0</td>\n",
              "      <td>0.0</td>\n",
              "      <td>1.000000</td>\n",
              "      <td>0.333333</td>\n",
              "      <td>0.0</td>\n",
              "      <td>0.498227</td>\n",
              "      <td>0.0</td>\n",
              "      <td>0.0</td>\n",
              "      <td>0.027778</td>\n",
              "      <td>1</td>\n",
              "    </tr>\n",
              "    <tr>\n",
              "      <th>1</th>\n",
              "      <td>0.155215</td>\n",
              "      <td>1.0</td>\n",
              "      <td>0.652632</td>\n",
              "      <td>1.0</td>\n",
              "      <td>0.498227</td>\n",
              "      <td>0.0</td>\n",
              "      <td>1.0</td>\n",
              "      <td>0.0</td>\n",
              "      <td>0.0</td>\n",
              "      <td>0.5</td>\n",
              "      <td>...</td>\n",
              "      <td>1.0</td>\n",
              "      <td>0.0</td>\n",
              "      <td>0.666667</td>\n",
              "      <td>1.000000</td>\n",
              "      <td>0.0</td>\n",
              "      <td>0.498227</td>\n",
              "      <td>0.0</td>\n",
              "      <td>0.0</td>\n",
              "      <td>0.027778</td>\n",
              "      <td>1</td>\n",
              "    </tr>\n",
              "    <tr>\n",
              "      <th>2</th>\n",
              "      <td>0.749166</td>\n",
              "      <td>1.0</td>\n",
              "      <td>0.852632</td>\n",
              "      <td>1.0</td>\n",
              "      <td>0.498227</td>\n",
              "      <td>0.0</td>\n",
              "      <td>1.0</td>\n",
              "      <td>1.0</td>\n",
              "      <td>0.0</td>\n",
              "      <td>0.5</td>\n",
              "      <td>...</td>\n",
              "      <td>1.0</td>\n",
              "      <td>0.0</td>\n",
              "      <td>0.666667</td>\n",
              "      <td>0.333333</td>\n",
              "      <td>0.0</td>\n",
              "      <td>0.498227</td>\n",
              "      <td>0.5</td>\n",
              "      <td>0.0</td>\n",
              "      <td>0.111111</td>\n",
              "      <td>1</td>\n",
              "    </tr>\n",
              "    <tr>\n",
              "      <th>3</th>\n",
              "      <td>0.667111</td>\n",
              "      <td>1.0</td>\n",
              "      <td>0.831579</td>\n",
              "      <td>1.0</td>\n",
              "      <td>0.498227</td>\n",
              "      <td>0.0</td>\n",
              "      <td>1.0</td>\n",
              "      <td>1.0</td>\n",
              "      <td>0.0</td>\n",
              "      <td>0.5</td>\n",
              "      <td>...</td>\n",
              "      <td>1.0</td>\n",
              "      <td>1.0</td>\n",
              "      <td>0.666667</td>\n",
              "      <td>0.333333</td>\n",
              "      <td>0.0</td>\n",
              "      <td>0.498227</td>\n",
              "      <td>0.5</td>\n",
              "      <td>1.0</td>\n",
              "      <td>0.388889</td>\n",
              "      <td>1</td>\n",
              "    </tr>\n",
              "    <tr>\n",
              "      <th>4</th>\n",
              "      <td>0.742050</td>\n",
              "      <td>1.0</td>\n",
              "      <td>0.884211</td>\n",
              "      <td>1.0</td>\n",
              "      <td>0.498227</td>\n",
              "      <td>0.0</td>\n",
              "      <td>1.0</td>\n",
              "      <td>1.0</td>\n",
              "      <td>1.0</td>\n",
              "      <td>0.5</td>\n",
              "      <td>...</td>\n",
              "      <td>1.0</td>\n",
              "      <td>0.0</td>\n",
              "      <td>0.000000</td>\n",
              "      <td>0.333333</td>\n",
              "      <td>0.0</td>\n",
              "      <td>0.498227</td>\n",
              "      <td>0.5</td>\n",
              "      <td>0.0</td>\n",
              "      <td>0.680556</td>\n",
              "      <td>1</td>\n",
              "    </tr>\n",
              "  </tbody>\n",
              "</table>\n",
              "<p>5 rows × 24 columns</p>\n",
              "</div>\n",
              "    <div class=\"colab-df-buttons\">\n",
              "\n",
              "  <div class=\"colab-df-container\">\n",
              "    <button class=\"colab-df-convert\" onclick=\"convertToInteractive('df-8d0c3d74-ea38-4e13-8bd0-cab9b46016a5')\"\n",
              "            title=\"Convert this dataframe to an interactive table.\"\n",
              "            style=\"display:none;\">\n",
              "\n",
              "  <svg xmlns=\"http://www.w3.org/2000/svg\" height=\"24px\" viewBox=\"0 -960 960 960\">\n",
              "    <path d=\"M120-120v-720h720v720H120Zm60-500h600v-160H180v160Zm220 220h160v-160H400v160Zm0 220h160v-160H400v160ZM180-400h160v-160H180v160Zm440 0h160v-160H620v160ZM180-180h160v-160H180v160Zm440 0h160v-160H620v160Z\"/>\n",
              "  </svg>\n",
              "    </button>\n",
              "\n",
              "  <style>\n",
              "    .colab-df-container {\n",
              "      display:flex;\n",
              "      gap: 12px;\n",
              "    }\n",
              "\n",
              "    .colab-df-convert {\n",
              "      background-color: #E8F0FE;\n",
              "      border: none;\n",
              "      border-radius: 50%;\n",
              "      cursor: pointer;\n",
              "      display: none;\n",
              "      fill: #1967D2;\n",
              "      height: 32px;\n",
              "      padding: 0 0 0 0;\n",
              "      width: 32px;\n",
              "    }\n",
              "\n",
              "    .colab-df-convert:hover {\n",
              "      background-color: #E2EBFA;\n",
              "      box-shadow: 0px 1px 2px rgba(60, 64, 67, 0.3), 0px 1px 3px 1px rgba(60, 64, 67, 0.15);\n",
              "      fill: #174EA6;\n",
              "    }\n",
              "\n",
              "    .colab-df-buttons div {\n",
              "      margin-bottom: 4px;\n",
              "    }\n",
              "\n",
              "    [theme=dark] .colab-df-convert {\n",
              "      background-color: #3B4455;\n",
              "      fill: #D2E3FC;\n",
              "    }\n",
              "\n",
              "    [theme=dark] .colab-df-convert:hover {\n",
              "      background-color: #434B5C;\n",
              "      box-shadow: 0px 1px 3px 1px rgba(0, 0, 0, 0.15);\n",
              "      filter: drop-shadow(0px 1px 2px rgba(0, 0, 0, 0.3));\n",
              "      fill: #FFFFFF;\n",
              "    }\n",
              "  </style>\n",
              "\n",
              "    <script>\n",
              "      const buttonEl =\n",
              "        document.querySelector('#df-8d0c3d74-ea38-4e13-8bd0-cab9b46016a5 button.colab-df-convert');\n",
              "      buttonEl.style.display =\n",
              "        google.colab.kernel.accessAllowed ? 'block' : 'none';\n",
              "\n",
              "      async function convertToInteractive(key) {\n",
              "        const element = document.querySelector('#df-8d0c3d74-ea38-4e13-8bd0-cab9b46016a5');\n",
              "        const dataTable =\n",
              "          await google.colab.kernel.invokeFunction('convertToInteractive',\n",
              "                                                    [key], {});\n",
              "        if (!dataTable) return;\n",
              "\n",
              "        const docLinkHtml = 'Like what you see? Visit the ' +\n",
              "          '<a target=\"_blank\" href=https://colab.research.google.com/notebooks/data_table.ipynb>data table notebook</a>'\n",
              "          + ' to learn more about interactive tables.';\n",
              "        element.innerHTML = '';\n",
              "        dataTable['output_type'] = 'display_data';\n",
              "        await google.colab.output.renderOutput(dataTable, element);\n",
              "        const docLink = document.createElement('div');\n",
              "        docLink.innerHTML = docLinkHtml;\n",
              "        element.appendChild(docLink);\n",
              "      }\n",
              "    </script>\n",
              "  </div>\n",
              "\n",
              "\n",
              "<div id=\"df-3c1fcdb8-1dd7-41e1-ae8d-663f00929c06\">\n",
              "  <button class=\"colab-df-quickchart\" onclick=\"quickchart('df-3c1fcdb8-1dd7-41e1-ae8d-663f00929c06')\"\n",
              "            title=\"Suggest charts\"\n",
              "            style=\"display:none;\">\n",
              "\n",
              "<svg xmlns=\"http://www.w3.org/2000/svg\" height=\"24px\"viewBox=\"0 0 24 24\"\n",
              "     width=\"24px\">\n",
              "    <g>\n",
              "        <path d=\"M19 3H5c-1.1 0-2 .9-2 2v14c0 1.1.9 2 2 2h14c1.1 0 2-.9 2-2V5c0-1.1-.9-2-2-2zM9 17H7v-7h2v7zm4 0h-2V7h2v10zm4 0h-2v-4h2v4z\"/>\n",
              "    </g>\n",
              "</svg>\n",
              "  </button>\n",
              "\n",
              "<style>\n",
              "  .colab-df-quickchart {\n",
              "      --bg-color: #E8F0FE;\n",
              "      --fill-color: #1967D2;\n",
              "      --hover-bg-color: #E2EBFA;\n",
              "      --hover-fill-color: #174EA6;\n",
              "      --disabled-fill-color: #AAA;\n",
              "      --disabled-bg-color: #DDD;\n",
              "  }\n",
              "\n",
              "  [theme=dark] .colab-df-quickchart {\n",
              "      --bg-color: #3B4455;\n",
              "      --fill-color: #D2E3FC;\n",
              "      --hover-bg-color: #434B5C;\n",
              "      --hover-fill-color: #FFFFFF;\n",
              "      --disabled-bg-color: #3B4455;\n",
              "      --disabled-fill-color: #666;\n",
              "  }\n",
              "\n",
              "  .colab-df-quickchart {\n",
              "    background-color: var(--bg-color);\n",
              "    border: none;\n",
              "    border-radius: 50%;\n",
              "    cursor: pointer;\n",
              "    display: none;\n",
              "    fill: var(--fill-color);\n",
              "    height: 32px;\n",
              "    padding: 0;\n",
              "    width: 32px;\n",
              "  }\n",
              "\n",
              "  .colab-df-quickchart:hover {\n",
              "    background-color: var(--hover-bg-color);\n",
              "    box-shadow: 0 1px 2px rgba(60, 64, 67, 0.3), 0 1px 3px 1px rgba(60, 64, 67, 0.15);\n",
              "    fill: var(--button-hover-fill-color);\n",
              "  }\n",
              "\n",
              "  .colab-df-quickchart-complete:disabled,\n",
              "  .colab-df-quickchart-complete:disabled:hover {\n",
              "    background-color: var(--disabled-bg-color);\n",
              "    fill: var(--disabled-fill-color);\n",
              "    box-shadow: none;\n",
              "  }\n",
              "\n",
              "  .colab-df-spinner {\n",
              "    border: 2px solid var(--fill-color);\n",
              "    border-color: transparent;\n",
              "    border-bottom-color: var(--fill-color);\n",
              "    animation:\n",
              "      spin 1s steps(1) infinite;\n",
              "  }\n",
              "\n",
              "  @keyframes spin {\n",
              "    0% {\n",
              "      border-color: transparent;\n",
              "      border-bottom-color: var(--fill-color);\n",
              "      border-left-color: var(--fill-color);\n",
              "    }\n",
              "    20% {\n",
              "      border-color: transparent;\n",
              "      border-left-color: var(--fill-color);\n",
              "      border-top-color: var(--fill-color);\n",
              "    }\n",
              "    30% {\n",
              "      border-color: transparent;\n",
              "      border-left-color: var(--fill-color);\n",
              "      border-top-color: var(--fill-color);\n",
              "      border-right-color: var(--fill-color);\n",
              "    }\n",
              "    40% {\n",
              "      border-color: transparent;\n",
              "      border-right-color: var(--fill-color);\n",
              "      border-top-color: var(--fill-color);\n",
              "    }\n",
              "    60% {\n",
              "      border-color: transparent;\n",
              "      border-right-color: var(--fill-color);\n",
              "    }\n",
              "    80% {\n",
              "      border-color: transparent;\n",
              "      border-right-color: var(--fill-color);\n",
              "      border-bottom-color: var(--fill-color);\n",
              "    }\n",
              "    90% {\n",
              "      border-color: transparent;\n",
              "      border-bottom-color: var(--fill-color);\n",
              "    }\n",
              "  }\n",
              "</style>\n",
              "\n",
              "  <script>\n",
              "    async function quickchart(key) {\n",
              "      const quickchartButtonEl =\n",
              "        document.querySelector('#' + key + ' button');\n",
              "      quickchartButtonEl.disabled = true;  // To prevent multiple clicks.\n",
              "      quickchartButtonEl.classList.add('colab-df-spinner');\n",
              "      try {\n",
              "        const charts = await google.colab.kernel.invokeFunction(\n",
              "            'suggestCharts', [key], {});\n",
              "      } catch (error) {\n",
              "        console.error('Error during call to suggestCharts:', error);\n",
              "      }\n",
              "      quickchartButtonEl.classList.remove('colab-df-spinner');\n",
              "      quickchartButtonEl.classList.add('colab-df-quickchart-complete');\n",
              "    }\n",
              "    (() => {\n",
              "      let quickchartButtonEl =\n",
              "        document.querySelector('#df-3c1fcdb8-1dd7-41e1-ae8d-663f00929c06 button');\n",
              "      quickchartButtonEl.style.display =\n",
              "        google.colab.kernel.accessAllowed ? 'block' : 'none';\n",
              "    })();\n",
              "  </script>\n",
              "</div>\n",
              "    </div>\n",
              "  </div>\n"
            ]
          },
          "metadata": {},
          "execution_count": 98
        }
      ]
    },
    {
      "cell_type": "markdown",
      "source": [],
      "metadata": {
        "id": "apLr7mxyBl28"
      }
    },
    {
      "cell_type": "markdown",
      "source": [
        "**Conformación del Método PCA**"
      ],
      "metadata": {
        "id": "B3Sc5aXzqtHL"
      }
    },
    {
      "cell_type": "code",
      "source": [
        "from sklearn.decomposition import PCA\n",
        "pca = PCA(n_components = 5)\n",
        "pca_Datos = pca.fit_transform(data_3)\n",
        "#pca_Datos = pca.fit_transform(Datos_nor)\n",
        "pca_Datos_df = pd.DataFrame (data=pca_Datos, columns=['Componente_1', 'Componente_2','Componente_3', 'Componente_4', 'Componente_5'],)\n",
        "pca_nombres_Datos = pd.concat([pca_Datos_df, data_3[['KMeans_Clusters']]], axis=1)\n",
        "\n",
        "pca_nombres_Datos"
      ],
      "metadata": {
        "colab": {
          "base_uri": "https://localhost:8080/",
          "height": 424
        },
        "id": "lWp4d018qtrD",
        "outputId": "f731f6f6-a2d1-4093-822a-a1f754e48661"
      },
      "execution_count": 99,
      "outputs": [
        {
          "output_type": "execute_result",
          "data": {
            "text/plain": [
              "      Componente_1  Componente_2  Componente_3  Componente_4  Componente_5  \\\n",
              "0        -0.907016     -1.235910     -0.373489     -0.454737      0.313151   \n",
              "1        -0.733032     -1.348555      0.106476      0.564976      0.270656   \n",
              "2        -0.966634     -0.841830      0.699875      0.513395      0.177634   \n",
              "3        -0.980313     -0.169434      1.098379      0.564855      0.651666   \n",
              "4        -1.016354     -0.525426      0.902391     -0.484280      0.215122   \n",
              "...            ...           ...           ...           ...           ...   \n",
              "7038      1.219307      0.421657     -0.367100      0.482570     -0.408138   \n",
              "7039     -1.639232      1.046368      0.262938     -0.466573      0.051061   \n",
              "7040      2.067403      0.542204      1.414459      0.524223     -0.377106   \n",
              "7041      2.295442     -0.168890      0.635277      0.600821     -0.316535   \n",
              "7042     -1.765182      1.208007     -0.719126     -0.536890     -0.227017   \n",
              "\n",
              "      KMeans_Clusters  \n",
              "0                   1  \n",
              "1                   1  \n",
              "2                   1  \n",
              "3                   1  \n",
              "4                   1  \n",
              "...               ...  \n",
              "7038                3  \n",
              "7039                0  \n",
              "7040                4  \n",
              "7041                4  \n",
              "7042                0  \n",
              "\n",
              "[7043 rows x 6 columns]"
            ],
            "text/html": [
              "\n",
              "  <div id=\"df-296e0602-91e5-4d22-943a-85a70d12915a\" class=\"colab-df-container\">\n",
              "    <div>\n",
              "<style scoped>\n",
              "    .dataframe tbody tr th:only-of-type {\n",
              "        vertical-align: middle;\n",
              "    }\n",
              "\n",
              "    .dataframe tbody tr th {\n",
              "        vertical-align: top;\n",
              "    }\n",
              "\n",
              "    .dataframe thead th {\n",
              "        text-align: right;\n",
              "    }\n",
              "</style>\n",
              "<table border=\"1\" class=\"dataframe\">\n",
              "  <thead>\n",
              "    <tr style=\"text-align: right;\">\n",
              "      <th></th>\n",
              "      <th>Componente_1</th>\n",
              "      <th>Componente_2</th>\n",
              "      <th>Componente_3</th>\n",
              "      <th>Componente_4</th>\n",
              "      <th>Componente_5</th>\n",
              "      <th>KMeans_Clusters</th>\n",
              "    </tr>\n",
              "  </thead>\n",
              "  <tbody>\n",
              "    <tr>\n",
              "      <th>0</th>\n",
              "      <td>-0.907016</td>\n",
              "      <td>-1.235910</td>\n",
              "      <td>-0.373489</td>\n",
              "      <td>-0.454737</td>\n",
              "      <td>0.313151</td>\n",
              "      <td>1</td>\n",
              "    </tr>\n",
              "    <tr>\n",
              "      <th>1</th>\n",
              "      <td>-0.733032</td>\n",
              "      <td>-1.348555</td>\n",
              "      <td>0.106476</td>\n",
              "      <td>0.564976</td>\n",
              "      <td>0.270656</td>\n",
              "      <td>1</td>\n",
              "    </tr>\n",
              "    <tr>\n",
              "      <th>2</th>\n",
              "      <td>-0.966634</td>\n",
              "      <td>-0.841830</td>\n",
              "      <td>0.699875</td>\n",
              "      <td>0.513395</td>\n",
              "      <td>0.177634</td>\n",
              "      <td>1</td>\n",
              "    </tr>\n",
              "    <tr>\n",
              "      <th>3</th>\n",
              "      <td>-0.980313</td>\n",
              "      <td>-0.169434</td>\n",
              "      <td>1.098379</td>\n",
              "      <td>0.564855</td>\n",
              "      <td>0.651666</td>\n",
              "      <td>1</td>\n",
              "    </tr>\n",
              "    <tr>\n",
              "      <th>4</th>\n",
              "      <td>-1.016354</td>\n",
              "      <td>-0.525426</td>\n",
              "      <td>0.902391</td>\n",
              "      <td>-0.484280</td>\n",
              "      <td>0.215122</td>\n",
              "      <td>1</td>\n",
              "    </tr>\n",
              "    <tr>\n",
              "      <th>...</th>\n",
              "      <td>...</td>\n",
              "      <td>...</td>\n",
              "      <td>...</td>\n",
              "      <td>...</td>\n",
              "      <td>...</td>\n",
              "      <td>...</td>\n",
              "    </tr>\n",
              "    <tr>\n",
              "      <th>7038</th>\n",
              "      <td>1.219307</td>\n",
              "      <td>0.421657</td>\n",
              "      <td>-0.367100</td>\n",
              "      <td>0.482570</td>\n",
              "      <td>-0.408138</td>\n",
              "      <td>3</td>\n",
              "    </tr>\n",
              "    <tr>\n",
              "      <th>7039</th>\n",
              "      <td>-1.639232</td>\n",
              "      <td>1.046368</td>\n",
              "      <td>0.262938</td>\n",
              "      <td>-0.466573</td>\n",
              "      <td>0.051061</td>\n",
              "      <td>0</td>\n",
              "    </tr>\n",
              "    <tr>\n",
              "      <th>7040</th>\n",
              "      <td>2.067403</td>\n",
              "      <td>0.542204</td>\n",
              "      <td>1.414459</td>\n",
              "      <td>0.524223</td>\n",
              "      <td>-0.377106</td>\n",
              "      <td>4</td>\n",
              "    </tr>\n",
              "    <tr>\n",
              "      <th>7041</th>\n",
              "      <td>2.295442</td>\n",
              "      <td>-0.168890</td>\n",
              "      <td>0.635277</td>\n",
              "      <td>0.600821</td>\n",
              "      <td>-0.316535</td>\n",
              "      <td>4</td>\n",
              "    </tr>\n",
              "    <tr>\n",
              "      <th>7042</th>\n",
              "      <td>-1.765182</td>\n",
              "      <td>1.208007</td>\n",
              "      <td>-0.719126</td>\n",
              "      <td>-0.536890</td>\n",
              "      <td>-0.227017</td>\n",
              "      <td>0</td>\n",
              "    </tr>\n",
              "  </tbody>\n",
              "</table>\n",
              "<p>7043 rows × 6 columns</p>\n",
              "</div>\n",
              "    <div class=\"colab-df-buttons\">\n",
              "\n",
              "  <div class=\"colab-df-container\">\n",
              "    <button class=\"colab-df-convert\" onclick=\"convertToInteractive('df-296e0602-91e5-4d22-943a-85a70d12915a')\"\n",
              "            title=\"Convert this dataframe to an interactive table.\"\n",
              "            style=\"display:none;\">\n",
              "\n",
              "  <svg xmlns=\"http://www.w3.org/2000/svg\" height=\"24px\" viewBox=\"0 -960 960 960\">\n",
              "    <path d=\"M120-120v-720h720v720H120Zm60-500h600v-160H180v160Zm220 220h160v-160H400v160Zm0 220h160v-160H400v160ZM180-400h160v-160H180v160Zm440 0h160v-160H620v160ZM180-180h160v-160H180v160Zm440 0h160v-160H620v160Z\"/>\n",
              "  </svg>\n",
              "    </button>\n",
              "\n",
              "  <style>\n",
              "    .colab-df-container {\n",
              "      display:flex;\n",
              "      gap: 12px;\n",
              "    }\n",
              "\n",
              "    .colab-df-convert {\n",
              "      background-color: #E8F0FE;\n",
              "      border: none;\n",
              "      border-radius: 50%;\n",
              "      cursor: pointer;\n",
              "      display: none;\n",
              "      fill: #1967D2;\n",
              "      height: 32px;\n",
              "      padding: 0 0 0 0;\n",
              "      width: 32px;\n",
              "    }\n",
              "\n",
              "    .colab-df-convert:hover {\n",
              "      background-color: #E2EBFA;\n",
              "      box-shadow: 0px 1px 2px rgba(60, 64, 67, 0.3), 0px 1px 3px 1px rgba(60, 64, 67, 0.15);\n",
              "      fill: #174EA6;\n",
              "    }\n",
              "\n",
              "    .colab-df-buttons div {\n",
              "      margin-bottom: 4px;\n",
              "    }\n",
              "\n",
              "    [theme=dark] .colab-df-convert {\n",
              "      background-color: #3B4455;\n",
              "      fill: #D2E3FC;\n",
              "    }\n",
              "\n",
              "    [theme=dark] .colab-df-convert:hover {\n",
              "      background-color: #434B5C;\n",
              "      box-shadow: 0px 1px 3px 1px rgba(0, 0, 0, 0.15);\n",
              "      filter: drop-shadow(0px 1px 2px rgba(0, 0, 0, 0.3));\n",
              "      fill: #FFFFFF;\n",
              "    }\n",
              "  </style>\n",
              "\n",
              "    <script>\n",
              "      const buttonEl =\n",
              "        document.querySelector('#df-296e0602-91e5-4d22-943a-85a70d12915a button.colab-df-convert');\n",
              "      buttonEl.style.display =\n",
              "        google.colab.kernel.accessAllowed ? 'block' : 'none';\n",
              "\n",
              "      async function convertToInteractive(key) {\n",
              "        const element = document.querySelector('#df-296e0602-91e5-4d22-943a-85a70d12915a');\n",
              "        const dataTable =\n",
              "          await google.colab.kernel.invokeFunction('convertToInteractive',\n",
              "                                                    [key], {});\n",
              "        if (!dataTable) return;\n",
              "\n",
              "        const docLinkHtml = 'Like what you see? Visit the ' +\n",
              "          '<a target=\"_blank\" href=https://colab.research.google.com/notebooks/data_table.ipynb>data table notebook</a>'\n",
              "          + ' to learn more about interactive tables.';\n",
              "        element.innerHTML = '';\n",
              "        dataTable['output_type'] = 'display_data';\n",
              "        await google.colab.output.renderOutput(dataTable, element);\n",
              "        const docLink = document.createElement('div');\n",
              "        docLink.innerHTML = docLinkHtml;\n",
              "        element.appendChild(docLink);\n",
              "      }\n",
              "    </script>\n",
              "  </div>\n",
              "\n",
              "\n",
              "<div id=\"df-306eccf2-37c9-4590-bbdd-e2db3eafc3c3\">\n",
              "  <button class=\"colab-df-quickchart\" onclick=\"quickchart('df-306eccf2-37c9-4590-bbdd-e2db3eafc3c3')\"\n",
              "            title=\"Suggest charts\"\n",
              "            style=\"display:none;\">\n",
              "\n",
              "<svg xmlns=\"http://www.w3.org/2000/svg\" height=\"24px\"viewBox=\"0 0 24 24\"\n",
              "     width=\"24px\">\n",
              "    <g>\n",
              "        <path d=\"M19 3H5c-1.1 0-2 .9-2 2v14c0 1.1.9 2 2 2h14c1.1 0 2-.9 2-2V5c0-1.1-.9-2-2-2zM9 17H7v-7h2v7zm4 0h-2V7h2v10zm4 0h-2v-4h2v4z\"/>\n",
              "    </g>\n",
              "</svg>\n",
              "  </button>\n",
              "\n",
              "<style>\n",
              "  .colab-df-quickchart {\n",
              "      --bg-color: #E8F0FE;\n",
              "      --fill-color: #1967D2;\n",
              "      --hover-bg-color: #E2EBFA;\n",
              "      --hover-fill-color: #174EA6;\n",
              "      --disabled-fill-color: #AAA;\n",
              "      --disabled-bg-color: #DDD;\n",
              "  }\n",
              "\n",
              "  [theme=dark] .colab-df-quickchart {\n",
              "      --bg-color: #3B4455;\n",
              "      --fill-color: #D2E3FC;\n",
              "      --hover-bg-color: #434B5C;\n",
              "      --hover-fill-color: #FFFFFF;\n",
              "      --disabled-bg-color: #3B4455;\n",
              "      --disabled-fill-color: #666;\n",
              "  }\n",
              "\n",
              "  .colab-df-quickchart {\n",
              "    background-color: var(--bg-color);\n",
              "    border: none;\n",
              "    border-radius: 50%;\n",
              "    cursor: pointer;\n",
              "    display: none;\n",
              "    fill: var(--fill-color);\n",
              "    height: 32px;\n",
              "    padding: 0;\n",
              "    width: 32px;\n",
              "  }\n",
              "\n",
              "  .colab-df-quickchart:hover {\n",
              "    background-color: var(--hover-bg-color);\n",
              "    box-shadow: 0 1px 2px rgba(60, 64, 67, 0.3), 0 1px 3px 1px rgba(60, 64, 67, 0.15);\n",
              "    fill: var(--button-hover-fill-color);\n",
              "  }\n",
              "\n",
              "  .colab-df-quickchart-complete:disabled,\n",
              "  .colab-df-quickchart-complete:disabled:hover {\n",
              "    background-color: var(--disabled-bg-color);\n",
              "    fill: var(--disabled-fill-color);\n",
              "    box-shadow: none;\n",
              "  }\n",
              "\n",
              "  .colab-df-spinner {\n",
              "    border: 2px solid var(--fill-color);\n",
              "    border-color: transparent;\n",
              "    border-bottom-color: var(--fill-color);\n",
              "    animation:\n",
              "      spin 1s steps(1) infinite;\n",
              "  }\n",
              "\n",
              "  @keyframes spin {\n",
              "    0% {\n",
              "      border-color: transparent;\n",
              "      border-bottom-color: var(--fill-color);\n",
              "      border-left-color: var(--fill-color);\n",
              "    }\n",
              "    20% {\n",
              "      border-color: transparent;\n",
              "      border-left-color: var(--fill-color);\n",
              "      border-top-color: var(--fill-color);\n",
              "    }\n",
              "    30% {\n",
              "      border-color: transparent;\n",
              "      border-left-color: var(--fill-color);\n",
              "      border-top-color: var(--fill-color);\n",
              "      border-right-color: var(--fill-color);\n",
              "    }\n",
              "    40% {\n",
              "      border-color: transparent;\n",
              "      border-right-color: var(--fill-color);\n",
              "      border-top-color: var(--fill-color);\n",
              "    }\n",
              "    60% {\n",
              "      border-color: transparent;\n",
              "      border-right-color: var(--fill-color);\n",
              "    }\n",
              "    80% {\n",
              "      border-color: transparent;\n",
              "      border-right-color: var(--fill-color);\n",
              "      border-bottom-color: var(--fill-color);\n",
              "    }\n",
              "    90% {\n",
              "      border-color: transparent;\n",
              "      border-bottom-color: var(--fill-color);\n",
              "    }\n",
              "  }\n",
              "</style>\n",
              "\n",
              "  <script>\n",
              "    async function quickchart(key) {\n",
              "      const quickchartButtonEl =\n",
              "        document.querySelector('#' + key + ' button');\n",
              "      quickchartButtonEl.disabled = true;  // To prevent multiple clicks.\n",
              "      quickchartButtonEl.classList.add('colab-df-spinner');\n",
              "      try {\n",
              "        const charts = await google.colab.kernel.invokeFunction(\n",
              "            'suggestCharts', [key], {});\n",
              "      } catch (error) {\n",
              "        console.error('Error during call to suggestCharts:', error);\n",
              "      }\n",
              "      quickchartButtonEl.classList.remove('colab-df-spinner');\n",
              "      quickchartButtonEl.classList.add('colab-df-quickchart-complete');\n",
              "    }\n",
              "    (() => {\n",
              "      let quickchartButtonEl =\n",
              "        document.querySelector('#df-306eccf2-37c9-4590-bbdd-e2db3eafc3c3 button');\n",
              "      quickchartButtonEl.style.display =\n",
              "        google.colab.kernel.accessAllowed ? 'block' : 'none';\n",
              "    })();\n",
              "  </script>\n",
              "</div>\n",
              "    </div>\n",
              "  </div>\n"
            ]
          },
          "metadata": {},
          "execution_count": 99
        }
      ]
    },
    {
      "cell_type": "markdown",
      "source": [
        "**Graficando Clusters Elegidos**"
      ],
      "metadata": {
        "id": "F-sfc-7frELu"
      }
    },
    {
      "cell_type": "code",
      "source": [
        "fig = plt.figure (figsize=(6,6)) # Creand figura de 6*6\n",
        "\n",
        "ax = fig.add_subplot (1,1,1) # Se crea un sólo gráfico\n",
        "\n",
        "ax.set_xlabel ('Componente 1', fontsize = 15)\n",
        "ax.set_ylabel ('Componente 2', fontsize = 15)\n",
        "\n",
        "ax.set_title ('Componentes Princiaples', fontsize = 20)\n",
        "\n",
        "color = np.array ([\"blue\", \"green\", \"orange\", \"black\", \"purple\"])\n",
        "ax.scatter (x = pca_nombres_Datos.Componente_1, y = pca_nombres_Datos.Componente_2, c = color[pca_nombres_Datos.KMeans_Clusters], s = 50)\n",
        "#c=color[pca_nombres_Datos.KMeans_Clusters], s = 50\n",
        "plt.show"
      ],
      "metadata": {
        "colab": {
          "base_uri": "https://localhost:8080/",
          "height": 595
        },
        "id": "_xU90N6MrFHU",
        "outputId": "cb1d6974-35f7-4bde-8748-6b49127694b6"
      },
      "execution_count": 52,
      "outputs": [
        {
          "output_type": "execute_result",
          "data": {
            "text/plain": [
              "<function matplotlib.pyplot.show(close=None, block=None)>"
            ]
          },
          "metadata": {},
          "execution_count": 52
        },
        {
          "output_type": "display_data",
          "data": {
            "text/plain": [
              "<Figure size 600x600 with 1 Axes>"
            ],
            "image/png": "[encoded data removed]"
          },
          "metadata": {}
        }
      ]
    },
    {
      "cell_type": "markdown",
      "source": [
        "## Mejores hiperparámetros (KMeans)"
      ],
      "metadata": {
        "id": "RxWWWY-GkFyy"
      }
    },
    {
      "cell_type": "code",
      "source": [
        "from sklearn.decomposition import PCA\n",
        "from sklearn.cluster import KMeans\n",
        "from sklearn.pipeline import Pipeline\n",
        "from sklearn.model_selection import GridSearchCV\n",
        "\n",
        "# Asumiendo que las columnas 0, 1 y 2 son tus características de interés\n",
        "X = data_3.iloc[:, [0, 1, 2]]\n",
        "\n",
        "# Creando el pipeline\n",
        "pipe = Pipeline([\n",
        "    ('pca', PCA()),\n",
        "    ('kmeans', KMeans(random_state=42))\n",
        "])\n",
        "\n",
        "# Definiendo los hiperparámetros para la búsqueda en cuadrícula\n",
        "params = {\n",
        "    'pca__n_components': [2, 3],\n",
        "    'kmeans__n_clusters': [2, 3, 4]\n",
        "}\n",
        "\n",
        "# Creando el objeto de búsqueda en cuadrícula\n",
        "grid = GridSearchCV(pipe, params, cv=5)\n",
        "\n",
        "# Ajustando el modelo y realizando la búsqueda en cuadrícula\n",
        "grid.fit(X)\n",
        "\n",
        "# Imprimiendo los mejores hiperparámetros\n",
        "print('Los mejores hiperparámetros para PCA + KMeans son:', grid.best_params_)\n"
      ],
      "metadata": {
        "colab": {
          "base_uri": "https://localhost:8080/"
        },
        "id": "EE4QkJ4xkGQC",
        "outputId": "d63290ff-af00-42bb-e000-d230b17d8b7c"
      },
      "execution_count": 53,
      "outputs": [
        {
          "output_type": "stream",
          "name": "stderr",
          "text": [
            "/usr/local/lib/python3.10/dist-packages/sklearn/cluster/_kmeans.py:870: FutureWarning: The default value of `n_init` will change from 10 to 'auto' in 1.4. Set the value of `n_init` explicitly to suppress the warning\n",
            "  warnings.warn(\n",
            "/usr/local/lib/python3.10/dist-packages/sklearn/cluster/_kmeans.py:870: FutureWarning: The default value of `n_init` will change from 10 to 'auto' in 1.4. Set the value of `n_init` explicitly to suppress the warning\n",
            "  warnings.warn(\n",
            "/usr/local/lib/python3.10/dist-packages/sklearn/cluster/_kmeans.py:870: FutureWarning: The default value of `n_init` will change from 10 to 'auto' in 1.4. Set the value of `n_init` explicitly to suppress the warning\n",
            "  warnings.warn(\n",
            "/usr/local/lib/python3.10/dist-packages/sklearn/cluster/_kmeans.py:870: FutureWarning: The default value of `n_init` will change from 10 to 'auto' in 1.4. Set the value of `n_init` explicitly to suppress the warning\n",
            "  warnings.warn(\n",
            "/usr/local/lib/python3.10/dist-packages/sklearn/cluster/_kmeans.py:870: FutureWarning: The default value of `n_init` will change from 10 to 'auto' in 1.4. Set the value of `n_init` explicitly to suppress the warning\n",
            "  warnings.warn(\n",
            "/usr/local/lib/python3.10/dist-packages/sklearn/cluster/_kmeans.py:870: FutureWarning: The default value of `n_init` will change from 10 to 'auto' in 1.4. Set the value of `n_init` explicitly to suppress the warning\n",
            "  warnings.warn(\n",
            "/usr/local/lib/python3.10/dist-packages/sklearn/cluster/_kmeans.py:870: FutureWarning: The default value of `n_init` will change from 10 to 'auto' in 1.4. Set the value of `n_init` explicitly to suppress the warning\n",
            "  warnings.warn(\n",
            "/usr/local/lib/python3.10/dist-packages/sklearn/cluster/_kmeans.py:870: FutureWarning: The default value of `n_init` will change from 10 to 'auto' in 1.4. Set the value of `n_init` explicitly to suppress the warning\n",
            "  warnings.warn(\n",
            "/usr/local/lib/python3.10/dist-packages/sklearn/cluster/_kmeans.py:870: FutureWarning: The default value of `n_init` will change from 10 to 'auto' in 1.4. Set the value of `n_init` explicitly to suppress the warning\n",
            "  warnings.warn(\n",
            "/usr/local/lib/python3.10/dist-packages/sklearn/cluster/_kmeans.py:870: FutureWarning: The default value of `n_init` will change from 10 to 'auto' in 1.4. Set the value of `n_init` explicitly to suppress the warning\n",
            "  warnings.warn(\n",
            "/usr/local/lib/python3.10/dist-packages/sklearn/cluster/_kmeans.py:870: FutureWarning: The default value of `n_init` will change from 10 to 'auto' in 1.4. Set the value of `n_init` explicitly to suppress the warning\n",
            "  warnings.warn(\n",
            "/usr/local/lib/python3.10/dist-packages/sklearn/cluster/_kmeans.py:870: FutureWarning: The default value of `n_init` will change from 10 to 'auto' in 1.4. Set the value of `n_init` explicitly to suppress the warning\n",
            "  warnings.warn(\n",
            "/usr/local/lib/python3.10/dist-packages/sklearn/cluster/_kmeans.py:870: FutureWarning: The default value of `n_init` will change from 10 to 'auto' in 1.4. Set the value of `n_init` explicitly to suppress the warning\n",
            "  warnings.warn(\n",
            "/usr/local/lib/python3.10/dist-packages/sklearn/cluster/_kmeans.py:870: FutureWarning: The default value of `n_init` will change from 10 to 'auto' in 1.4. Set the value of `n_init` explicitly to suppress the warning\n",
            "  warnings.warn(\n",
            "/usr/local/lib/python3.10/dist-packages/sklearn/cluster/_kmeans.py:870: FutureWarning: The default value of `n_init` will change from 10 to 'auto' in 1.4. Set the value of `n_init` explicitly to suppress the warning\n",
            "  warnings.warn(\n",
            "/usr/local/lib/python3.10/dist-packages/sklearn/cluster/_kmeans.py:870: FutureWarning: The default value of `n_init` will change from 10 to 'auto' in 1.4. Set the value of `n_init` explicitly to suppress the warning\n",
            "  warnings.warn(\n",
            "/usr/local/lib/python3.10/dist-packages/sklearn/cluster/_kmeans.py:870: FutureWarning: The default value of `n_init` will change from 10 to 'auto' in 1.4. Set the value of `n_init` explicitly to suppress the warning\n",
            "  warnings.warn(\n",
            "/usr/local/lib/python3.10/dist-packages/sklearn/cluster/_kmeans.py:870: FutureWarning: The default value of `n_init` will change from 10 to 'auto' in 1.4. Set the value of `n_init` explicitly to suppress the warning\n",
            "  warnings.warn(\n",
            "/usr/local/lib/python3.10/dist-packages/sklearn/cluster/_kmeans.py:870: FutureWarning: The default value of `n_init` will change from 10 to 'auto' in 1.4. Set the value of `n_init` explicitly to suppress the warning\n",
            "  warnings.warn(\n",
            "/usr/local/lib/python3.10/dist-packages/sklearn/cluster/_kmeans.py:870: FutureWarning: The default value of `n_init` will change from 10 to 'auto' in 1.4. Set the value of `n_init` explicitly to suppress the warning\n",
            "  warnings.warn(\n",
            "/usr/local/lib/python3.10/dist-packages/sklearn/cluster/_kmeans.py:870: FutureWarning: The default value of `n_init` will change from 10 to 'auto' in 1.4. Set the value of `n_init` explicitly to suppress the warning\n",
            "  warnings.warn(\n",
            "/usr/local/lib/python3.10/dist-packages/sklearn/cluster/_kmeans.py:870: FutureWarning: The default value of `n_init` will change from 10 to 'auto' in 1.4. Set the value of `n_init` explicitly to suppress the warning\n",
            "  warnings.warn(\n",
            "/usr/local/lib/python3.10/dist-packages/sklearn/cluster/_kmeans.py:870: FutureWarning: The default value of `n_init` will change from 10 to 'auto' in 1.4. Set the value of `n_init` explicitly to suppress the warning\n",
            "  warnings.warn(\n",
            "/usr/local/lib/python3.10/dist-packages/sklearn/cluster/_kmeans.py:870: FutureWarning: The default value of `n_init` will change from 10 to 'auto' in 1.4. Set the value of `n_init` explicitly to suppress the warning\n",
            "  warnings.warn(\n",
            "/usr/local/lib/python3.10/dist-packages/sklearn/cluster/_kmeans.py:870: FutureWarning: The default value of `n_init` will change from 10 to 'auto' in 1.4. Set the value of `n_init` explicitly to suppress the warning\n",
            "  warnings.warn(\n",
            "/usr/local/lib/python3.10/dist-packages/sklearn/cluster/_kmeans.py:870: FutureWarning: The default value of `n_init` will change from 10 to 'auto' in 1.4. Set the value of `n_init` explicitly to suppress the warning\n",
            "  warnings.warn(\n",
            "/usr/local/lib/python3.10/dist-packages/sklearn/cluster/_kmeans.py:870: FutureWarning: The default value of `n_init` will change from 10 to 'auto' in 1.4. Set the value of `n_init` explicitly to suppress the warning\n",
            "  warnings.warn(\n",
            "/usr/local/lib/python3.10/dist-packages/sklearn/cluster/_kmeans.py:870: FutureWarning: The default value of `n_init` will change from 10 to 'auto' in 1.4. Set the value of `n_init` explicitly to suppress the warning\n",
            "  warnings.warn(\n",
            "/usr/local/lib/python3.10/dist-packages/sklearn/cluster/_kmeans.py:870: FutureWarning: The default value of `n_init` will change from 10 to 'auto' in 1.4. Set the value of `n_init` explicitly to suppress the warning\n",
            "  warnings.warn(\n",
            "/usr/local/lib/python3.10/dist-packages/sklearn/cluster/_kmeans.py:870: FutureWarning: The default value of `n_init` will change from 10 to 'auto' in 1.4. Set the value of `n_init` explicitly to suppress the warning\n",
            "  warnings.warn(\n",
            "/usr/local/lib/python3.10/dist-packages/sklearn/cluster/_kmeans.py:870: FutureWarning: The default value of `n_init` will change from 10 to 'auto' in 1.4. Set the value of `n_init` explicitly to suppress the warning\n",
            "  warnings.warn(\n"
          ]
        },
        {
          "output_type": "stream",
          "name": "stdout",
          "text": [
            "Los mejores hiperparámetros para PCA + KMeans son: {'kmeans__n_clusters': 4, 'pca__n_components': 2}\n"
          ]
        }
      ]
    },
    {
      "cell_type": "markdown",
      "source": [
        "## Coenficiente de Silueta (DBSCAN)"
      ],
      "metadata": {
        "id": "traNg8sLlRwu"
      }
    },
    {
      "cell_type": "code",
      "source": [
        "from sklearn.cluster import DBSCAN\n",
        "from sklearn.metrics import silhouette_score\n",
        "\n",
        "# Asumiendo que las columnas 1, 2 y 3 son tus características de interés\n",
        "X = data_3.iloc[:, [1, 2, 3]]\n",
        "\n",
        "# Creando el modelo DBSCAN\n",
        "dbscan = DBSCAN(eps= 0.009, min_samples=9)\n",
        "\n",
        "# Ajustando el modelo\n",
        "dbscan.fit(X)\n",
        "\n",
        "# Calculando el coeficiente de silueta\n",
        "silhouette = silhouette_score(X, dbscan.labels_)\n",
        "\n",
        "print('Coeficiente de silueta para DBSCAN con eps=0.009 y min_samples=9:', silhouette)\n"
      ],
      "metadata": {
        "colab": {
          "base_uri": "https://localhost:8080/"
        },
        "id": "f-SFegAylSXG",
        "outputId": "ff4b7654-b92b-44cb-9365-1dfebe3e1e61"
      },
      "execution_count": 54,
      "outputs": [
        {
          "output_type": "stream",
          "name": "stdout",
          "text": [
            "Coeficiente de silueta para DBSCAN con eps=0.009 y min_samples=9: 0.9998565703737747\n"
          ]
        }
      ]
    },
    {
      "cell_type": "code",
      "source": [
        "from sklearn.cluster import DBSCAN\n",
        "\n",
        "\n",
        "dbscan = DBSCAN(eps=0.009, min_samples=9)\n",
        "\n",
        "# Ajustando DBSCAN a tus datos\n",
        "dbscan.fit(data_3)\n",
        "\n",
        "# Obteniendo las nuevas etiquetas\n",
        "labels = dbscan.labels_\n"
      ],
      "metadata": {
        "id": "zgrD2ug_ryx0"
      },
      "execution_count": 55,
      "outputs": []
    },
    {
      "cell_type": "code",
      "source": [
        "# Asegurándote de que los datos y las etiquetas tienen la misma longitud\n",
        "assert len(data_3.iloc[:, 2]) == len(labels)\n",
        "assert len(data_3.iloc[:, 3]) == len(labels)\n",
        "\n",
        "# Creando una figura y un eje\n",
        "fig, ax = plt.subplots()\n",
        "\n",
        "# Dibujando los puntos, coloreados por sus etiquetas de grupo\n",
        "scatter = ax.scatter(data_3.iloc[:, 2], data_3.iloc[:, 3], c=labels)\n",
        "\n",
        "# Mostrando la figura\n",
        "plt.show()\n"
      ],
      "metadata": {
        "colab": {
          "base_uri": "https://localhost:8080/",
          "height": 430
        },
        "id": "Bh_D0nFFpaZa",
        "outputId": "a8584b7d-ab4a-47ee-dad8-ccd65c0c7ab4"
      },
      "execution_count": 56,
      "outputs": [
        {
          "output_type": "display_data",
          "data": {
            "text/plain": [
              "<Figure size 640x480 with 1 Axes>"
            ],
            "image/png": "[encoded data removed]"
          },
          "metadata": {}
        }
      ]
    },
    {
      "cell_type": "code",
      "source": [
        "print(data_3.columns)\n",
        "print('\\n',data_3.shape)"
      ],
      "metadata": {
        "colab": {
          "base_uri": "https://localhost:8080/"
        },
        "id": "AJZA25gAi_A3",
        "outputId": "b28a508a-09a8-49b2-b588-cf2900dcf169"
      },
      "execution_count": 57,
      "outputs": [
        {
          "output_type": "stream",
          "name": "stdout",
          "text": [
            "Index(['CLTV', 'Churn Label', 'Churn Score', 'Churn Value', 'City', 'Contract',\n",
            "       'Dependents', 'Device Protection', 'Gender', 'Internet Service',\n",
            "       'Monthly Charges', 'Multiple Lines', 'Online Backup', 'Online Security',\n",
            "       'Paperless Billing', 'Partner', 'Payment Method', 'Phone Service',\n",
            "       'Senior Citizen', 'Streaming Movies', 'Streaming TV', 'Tech Support',\n",
            "       'Tenure Months', 'KMeans_Clusters'],\n",
            "      dtype='object')\n",
            "\n",
            " (7043, 24)\n"
          ]
        }
      ]
    },
    {
      "cell_type": "markdown",
      "source": [
        "## Evaluando Modelos de Agrupamiento\n",
        "\n",
        "---\n",
        "\n"
      ],
      "metadata": {
        "id": "LzR5fqCV4OPe"
      }
    },
    {
      "cell_type": "code",
      "source": [
        "from sklearn.cluster import KMeans, DBSCAN\n",
        "from sklearn.metrics import silhouette_score\n",
        "\n",
        "# Asumiendo que X es tu conjunto de datos\n",
        "X = data_3[['CLTV', 'Churn Label']]\n",
        "\n",
        "# Creando el modelo KMeans\n",
        "kmeans = KMeans(n_clusters=2, random_state=42)\n",
        "kmeans_labels = kmeans.fit_predict(X)\n",
        "\n",
        "# Evaluando el modelo KMeans\n",
        "kmeans_score = silhouette_score(X, kmeans_labels)\n",
        "print('Puntuación de silueta para KMeans:', kmeans_score)\n",
        "\n",
        "# Creando el modelo DBSCAN\n",
        "dbscan = DBSCAN(eps=0.009, min_samples=9)\n",
        "dbscan_labels = dbscan.fit_predict(X)\n",
        "\n",
        "# Evaluando el modelo DBSCAN\n",
        "try:\n",
        "    dbscan_score = silhouette_score(X, dbscan_labels)\n",
        "    print('Puntuación de silueta para DBSCAN:', dbscan_score)\n",
        "except ValueError:\n",
        "    print('DBSCAN produjo menos de 2 grupos, por lo que la puntuación de silueta no puede ser calculada.')\n"
      ],
      "metadata": {
        "colab": {
          "base_uri": "https://localhost:8080/"
        },
        "id": "rg_4QRV0rMvT",
        "outputId": "019efd60-01e9-45bc-bb74-e48b8329f9eb"
      },
      "execution_count": 58,
      "outputs": [
        {
          "output_type": "stream",
          "name": "stderr",
          "text": [
            "/usr/local/lib/python3.10/dist-packages/sklearn/cluster/_kmeans.py:870: FutureWarning: The default value of `n_init` will change from 10 to 'auto' in 1.4. Set the value of `n_init` explicitly to suppress the warning\n",
            "  warnings.warn(\n"
          ]
        },
        {
          "output_type": "stream",
          "name": "stdout",
          "text": [
            "Puntuación de silueta para KMeans: 0.7215884794438193\n",
            "Puntuación de silueta para DBSCAN: 0.5730777987189565\n"
          ]
        }
      ]
    },
    {
      "cell_type": "markdown",
      "source": [
        "- Las puntuaciones de silueta obtenidas indican cómo de bien se han agrupado tus datos. La puntuación de silueta varía de -1 a 1, donde un valor cercano a 1 indica que los puntos están muy cerca de otros puntos en el mismo grupo y muy lejos de los puntos en otros grupos, lo que es deseable. Un valor cercano a -1 indica que los puntos están lejos de otros puntos en el mismo grupo y cerca de los puntos en otros grupos, lo que no es deseable.\n",
        "\n",
        "- En este caso, la puntuación de silueta para KMeans es 0.7215884794438193, lo que indica que los grupos formados por KMeans son densos y bien separados.\n",
        "\n",
        "- La puntuación de silueta para DBSCAN es 0.5730777987189565, lo que indica que los grupos formados por DBSCAN son razonablemente densos y bien separados, pero no tanto como los grupos formados por KMeans.\n",
        "\n",
        "- Esto sugiere que, para este conjunto de datos y estos parámetros, KMeans ha hecho un mejor trabajo al agrupar tus datos que DBSCAN."
      ],
      "metadata": {
        "id": "S7tfWYo54BnV"
      }
    },
    {
      "cell_type": "markdown",
      "source": [
        "## Encontrando Mejores Hiperparámetros (Combinación de Algoritmos)\n",
        "\n",
        "---\n",
        "\n"
      ],
      "metadata": {
        "id": "cRkPsxT_E-zM"
      }
    },
    {
      "cell_type": "markdown",
      "source": [
        "## Combinación 1: KMeans + Regresión Logística\n",
        "\n",
        "---\n",
        "\n"
      ],
      "metadata": {
        "id": "crXCPLtYFUHt"
      }
    },
    {
      "cell_type": "code",
      "source": [
        "kmeans = KMeans()\n",
        "logreg = LogisticRegression()\n",
        "\n",
        "X = data_3.drop('Churn Label', axis=1)  # todas las características excepto 'Churn Label'\n",
        "y = data_3['Churn Label']  # la etiqueta que estás tratando de predecir\n",
        "\n",
        "# Ajustando los hiperparámetros de KMeans\n",
        "kmeans_params = {'n_clusters': range(2, 10)}\n",
        "kmeans_gs = GridSearchCV(kmeans, kmeans_params)\n",
        "kmeans_gs.fit(X)\n",
        "\n",
        "# Ajustando los hiperparámetros de Regresión Logística\n",
        "logreg_params = {'C': [0.001, 0.01, 0.1, 1, 10, 100, 1000]}\n",
        "logreg_gs = GridSearchCV(logreg, logreg_params)\n",
        "logreg_gs.fit(X, y)"
      ],
      "metadata": {
        "colab": {
          "base_uri": "https://localhost:8080/",
          "height": 1000
        },
        "id": "BRAf7E-4FS3_",
        "outputId": "c9a66300-de5f-438e-f5af-271ada799440"
      },
      "execution_count": 59,
      "outputs": [
        {
          "output_type": "stream",
          "name": "stderr",
          "text": [
            "/usr/local/lib/python3.10/dist-packages/sklearn/cluster/_kmeans.py:870: FutureWarning: The default value of `n_init` will change from 10 to 'auto' in 1.4. Set the value of `n_init` explicitly to suppress the warning\n",
            "  warnings.warn(\n",
            "/usr/local/lib/python3.10/dist-packages/sklearn/cluster/_kmeans.py:870: FutureWarning: The default value of `n_init` will change from 10 to 'auto' in 1.4. Set the value of `n_init` explicitly to suppress the warning\n",
            "  warnings.warn(\n",
            "/usr/local/lib/python3.10/dist-packages/sklearn/cluster/_kmeans.py:870: FutureWarning: The default value of `n_init` will change from 10 to 'auto' in 1.4. Set the value of `n_init` explicitly to suppress the warning\n",
            "  warnings.warn(\n",
            "/usr/local/lib/python3.10/dist-packages/sklearn/cluster/_kmeans.py:870: FutureWarning: The default value of `n_init` will change from 10 to 'auto' in 1.4. Set the value of `n_init` explicitly to suppress the warning\n",
            "  warnings.warn(\n",
            "/usr/local/lib/python3.10/dist-packages/sklearn/cluster/_kmeans.py:870: FutureWarning: The default value of `n_init` will change from 10 to 'auto' in 1.4. Set the value of `n_init` explicitly to suppress the warning\n",
            "  warnings.warn(\n",
            "/usr/local/lib/python3.10/dist-packages/sklearn/cluster/_kmeans.py:870: FutureWarning: The default value of `n_init` will change from 10 to 'auto' in 1.4. Set the value of `n_init` explicitly to suppress the warning\n",
            "  warnings.warn(\n",
            "/usr/local/lib/python3.10/dist-packages/sklearn/cluster/_kmeans.py:870: FutureWarning: The default value of `n_init` will change from 10 to 'auto' in 1.4. Set the value of `n_init` explicitly to suppress the warning\n",
            "  warnings.warn(\n",
            "/usr/local/lib/python3.10/dist-packages/sklearn/cluster/_kmeans.py:870: FutureWarning: The default value of `n_init` will change from 10 to 'auto' in 1.4. Set the value of `n_init` explicitly to suppress the warning\n",
            "  warnings.warn(\n",
            "/usr/local/lib/python3.10/dist-packages/sklearn/cluster/_kmeans.py:870: FutureWarning: The default value of `n_init` will change from 10 to 'auto' in 1.4. Set the value of `n_init` explicitly to suppress the warning\n",
            "  warnings.warn(\n",
            "/usr/local/lib/python3.10/dist-packages/sklearn/cluster/_kmeans.py:870: FutureWarning: The default value of `n_init` will change from 10 to 'auto' in 1.4. Set the value of `n_init` explicitly to suppress the warning\n",
            "  warnings.warn(\n",
            "/usr/local/lib/python3.10/dist-packages/sklearn/cluster/_kmeans.py:870: FutureWarning: The default value of `n_init` will change from 10 to 'auto' in 1.4. Set the value of `n_init` explicitly to suppress the warning\n",
            "  warnings.warn(\n",
            "/usr/local/lib/python3.10/dist-packages/sklearn/cluster/_kmeans.py:870: FutureWarning: The default value of `n_init` will change from 10 to 'auto' in 1.4. Set the value of `n_init` explicitly to suppress the warning\n",
            "  warnings.warn(\n",
            "/usr/local/lib/python3.10/dist-packages/sklearn/cluster/_kmeans.py:870: FutureWarning: The default value of `n_init` will change from 10 to 'auto' in 1.4. Set the value of `n_init` explicitly to suppress the warning\n",
            "  warnings.warn(\n",
            "/usr/local/lib/python3.10/dist-packages/sklearn/cluster/_kmeans.py:870: FutureWarning: The default value of `n_init` will change from 10 to 'auto' in 1.4. Set the value of `n_init` explicitly to suppress the warning\n",
            "  warnings.warn(\n",
            "/usr/local/lib/python3.10/dist-packages/sklearn/cluster/_kmeans.py:870: FutureWarning: The default value of `n_init` will change from 10 to 'auto' in 1.4. Set the value of `n_init` explicitly to suppress the warning\n",
            "  warnings.warn(\n",
            "/usr/local/lib/python3.10/dist-packages/sklearn/cluster/_kmeans.py:870: FutureWarning: The default value of `n_init` will change from 10 to 'auto' in 1.4. Set the value of `n_init` explicitly to suppress the warning\n",
            "  warnings.warn(\n",
            "/usr/local/lib/python3.10/dist-packages/sklearn/cluster/_kmeans.py:870: FutureWarning: The default value of `n_init` will change from 10 to 'auto' in 1.4. Set the value of `n_init` explicitly to suppress the warning\n",
            "  warnings.warn(\n",
            "/usr/local/lib/python3.10/dist-packages/sklearn/cluster/_kmeans.py:870: FutureWarning: The default value of `n_init` will change from 10 to 'auto' in 1.4. Set the value of `n_init` explicitly to suppress the warning\n",
            "  warnings.warn(\n",
            "/usr/local/lib/python3.10/dist-packages/sklearn/cluster/_kmeans.py:870: FutureWarning: The default value of `n_init` will change from 10 to 'auto' in 1.4. Set the value of `n_init` explicitly to suppress the warning\n",
            "  warnings.warn(\n",
            "/usr/local/lib/python3.10/dist-packages/sklearn/cluster/_kmeans.py:870: FutureWarning: The default value of `n_init` will change from 10 to 'auto' in 1.4. Set the value of `n_init` explicitly to suppress the warning\n",
            "  warnings.warn(\n",
            "/usr/local/lib/python3.10/dist-packages/sklearn/cluster/_kmeans.py:870: FutureWarning: The default value of `n_init` will change from 10 to 'auto' in 1.4. Set the value of `n_init` explicitly to suppress the warning\n",
            "  warnings.warn(\n",
            "/usr/local/lib/python3.10/dist-packages/sklearn/cluster/_kmeans.py:870: FutureWarning: The default value of `n_init` will change from 10 to 'auto' in 1.4. Set the value of `n_init` explicitly to suppress the warning\n",
            "  warnings.warn(\n",
            "/usr/local/lib/python3.10/dist-packages/sklearn/cluster/_kmeans.py:870: FutureWarning: The default value of `n_init` will change from 10 to 'auto' in 1.4. Set the value of `n_init` explicitly to suppress the warning\n",
            "  warnings.warn(\n",
            "/usr/local/lib/python3.10/dist-packages/sklearn/cluster/_kmeans.py:870: FutureWarning: The default value of `n_init` will change from 10 to 'auto' in 1.4. Set the value of `n_init` explicitly to suppress the warning\n",
            "  warnings.warn(\n",
            "/usr/local/lib/python3.10/dist-packages/sklearn/cluster/_kmeans.py:870: FutureWarning: The default value of `n_init` will change from 10 to 'auto' in 1.4. Set the value of `n_init` explicitly to suppress the warning\n",
            "  warnings.warn(\n",
            "/usr/local/lib/python3.10/dist-packages/sklearn/cluster/_kmeans.py:870: FutureWarning: The default value of `n_init` will change from 10 to 'auto' in 1.4. Set the value of `n_init` explicitly to suppress the warning\n",
            "  warnings.warn(\n",
            "/usr/local/lib/python3.10/dist-packages/sklearn/cluster/_kmeans.py:870: FutureWarning: The default value of `n_init` will change from 10 to 'auto' in 1.4. Set the value of `n_init` explicitly to suppress the warning\n",
            "  warnings.warn(\n",
            "/usr/local/lib/python3.10/dist-packages/sklearn/cluster/_kmeans.py:870: FutureWarning: The default value of `n_init` will change from 10 to 'auto' in 1.4. Set the value of `n_init` explicitly to suppress the warning\n",
            "  warnings.warn(\n",
            "/usr/local/lib/python3.10/dist-packages/sklearn/cluster/_kmeans.py:870: FutureWarning: The default value of `n_init` will change from 10 to 'auto' in 1.4. Set the value of `n_init` explicitly to suppress the warning\n",
            "  warnings.warn(\n",
            "/usr/local/lib/python3.10/dist-packages/sklearn/cluster/_kmeans.py:870: FutureWarning: The default value of `n_init` will change from 10 to 'auto' in 1.4. Set the value of `n_init` explicitly to suppress the warning\n",
            "  warnings.warn(\n",
            "/usr/local/lib/python3.10/dist-packages/sklearn/cluster/_kmeans.py:870: FutureWarning: The default value of `n_init` will change from 10 to 'auto' in 1.4. Set the value of `n_init` explicitly to suppress the warning\n",
            "  warnings.warn(\n",
            "/usr/local/lib/python3.10/dist-packages/sklearn/cluster/_kmeans.py:870: FutureWarning: The default value of `n_init` will change from 10 to 'auto' in 1.4. Set the value of `n_init` explicitly to suppress the warning\n",
            "  warnings.warn(\n",
            "/usr/local/lib/python3.10/dist-packages/sklearn/cluster/_kmeans.py:870: FutureWarning: The default value of `n_init` will change from 10 to 'auto' in 1.4. Set the value of `n_init` explicitly to suppress the warning\n",
            "  warnings.warn(\n",
            "/usr/local/lib/python3.10/dist-packages/sklearn/cluster/_kmeans.py:870: FutureWarning: The default value of `n_init` will change from 10 to 'auto' in 1.4. Set the value of `n_init` explicitly to suppress the warning\n",
            "  warnings.warn(\n",
            "/usr/local/lib/python3.10/dist-packages/sklearn/cluster/_kmeans.py:870: FutureWarning: The default value of `n_init` will change from 10 to 'auto' in 1.4. Set the value of `n_init` explicitly to suppress the warning\n",
            "  warnings.warn(\n",
            "/usr/local/lib/python3.10/dist-packages/sklearn/cluster/_kmeans.py:870: FutureWarning: The default value of `n_init` will change from 10 to 'auto' in 1.4. Set the value of `n_init` explicitly to suppress the warning\n",
            "  warnings.warn(\n",
            "/usr/local/lib/python3.10/dist-packages/sklearn/cluster/_kmeans.py:870: FutureWarning: The default value of `n_init` will change from 10 to 'auto' in 1.4. Set the value of `n_init` explicitly to suppress the warning\n",
            "  warnings.warn(\n",
            "/usr/local/lib/python3.10/dist-packages/sklearn/cluster/_kmeans.py:870: FutureWarning: The default value of `n_init` will change from 10 to 'auto' in 1.4. Set the value of `n_init` explicitly to suppress the warning\n",
            "  warnings.warn(\n",
            "/usr/local/lib/python3.10/dist-packages/sklearn/cluster/_kmeans.py:870: FutureWarning: The default value of `n_init` will change from 10 to 'auto' in 1.4. Set the value of `n_init` explicitly to suppress the warning\n",
            "  warnings.warn(\n",
            "/usr/local/lib/python3.10/dist-packages/sklearn/cluster/_kmeans.py:870: FutureWarning: The default value of `n_init` will change from 10 to 'auto' in 1.4. Set the value of `n_init` explicitly to suppress the warning\n",
            "  warnings.warn(\n",
            "/usr/local/lib/python3.10/dist-packages/sklearn/cluster/_kmeans.py:870: FutureWarning: The default value of `n_init` will change from 10 to 'auto' in 1.4. Set the value of `n_init` explicitly to suppress the warning\n",
            "  warnings.warn(\n"
          ]
        },
        {
          "output_type": "execute_result",
          "data": {
            "text/plain": [
              "GridSearchCV(estimator=LogisticRegression(),\n",
              "             param_grid={'C': [0.001, 0.01, 0.1, 1, 10, 100, 1000]})"
            ],
            "text/html": [
              "<style>#sk-container-id-2 {color: black;background-color: white;}#sk-container-id-2 pre{padding: 0;}#sk-container-id-2 div.sk-toggleable {background-color: white;}#sk-container-id-2 label.sk-toggleable__label {cursor: pointer;display: block;width: 100%;margin-bottom: 0;padding: 0.3em;box-sizing: border-box;text-align: center;}#sk-container-id-2 label.sk-toggleable__label-arrow:before {content: \"▸\";float: left;margin-right: 0.25em;color: #696969;}#sk-container-id-2 label.sk-toggleable__label-arrow:hover:before {color: black;}#sk-container-id-2 div.sk-estimator:hover label.sk-toggleable__label-arrow:before {color: black;}#sk-container-id-2 div.sk-toggleable__content {max-height: 0;max-width: 0;overflow: hidden;text-align: left;background-color: #f0f8ff;}#sk-container-id-2 div.sk-toggleable__content pre {margin: 0.2em;color: black;border-radius: 0.25em;background-color: #f0f8ff;}#sk-container-id-2 input.sk-toggleable__control:checked~div.sk-toggleable__content {max-height: 200px;max-width: 100%;overflow: auto;}#sk-container-id-2 input.sk-toggleable__control:checked~label.sk-toggleable__label-arrow:before {content: \"▾\";}#sk-container-id-2 div.sk-estimator input.sk-toggleable__control:checked~label.sk-toggleable__label {background-color: #d4ebff;}#sk-container-id-2 div.sk-label input.sk-toggleable__control:checked~label.sk-toggleable__label {background-color: #d4ebff;}#sk-container-id-2 input.sk-hidden--visually {border: 0;clip: rect(1px 1px 1px 1px);clip: rect(1px, 1px, 1px, 1px);height: 1px;margin: -1px;overflow: hidden;padding: 0;position: absolute;width: 1px;}#sk-container-id-2 div.sk-estimator {font-family: monospace;background-color: #f0f8ff;border: 1px dotted black;border-radius: 0.25em;box-sizing: border-box;margin-bottom: 0.5em;}#sk-container-id-2 div.sk-estimator:hover {background-color: #d4ebff;}#sk-container-id-2 div.sk-parallel-item::after {content: \"\";width: 100%;border-bottom: 1px solid gray;flex-grow: 1;}#sk-container-id-2 div.sk-label:hover label.sk-toggleable__label {background-color: #d4ebff;}#sk-container-id-2 div.sk-serial::before {content: \"\";position: absolute;border-left: 1px solid gray;box-sizing: border-box;top: 0;bottom: 0;left: 50%;z-index: 0;}#sk-container-id-2 div.sk-serial {display: flex;flex-direction: column;align-items: center;background-color: white;padding-right: 0.2em;padding-left: 0.2em;position: relative;}#sk-container-id-2 div.sk-item {position: relative;z-index: 1;}#sk-container-id-2 div.sk-parallel {display: flex;align-items: stretch;justify-content: center;background-color: white;position: relative;}#sk-container-id-2 div.sk-item::before, #sk-container-id-2 div.sk-parallel-item::before {content: \"\";position: absolute;border-left: 1px solid gray;box-sizing: border-box;top: 0;bottom: 0;left: 50%;z-index: -1;}#sk-container-id-2 div.sk-parallel-item {display: flex;flex-direction: column;z-index: 1;position: relative;background-color: white;}#sk-container-id-2 div.sk-parallel-item:first-child::after {align-self: flex-end;width: 50%;}#sk-container-id-2 div.sk-parallel-item:last-child::after {align-self: flex-start;width: 50%;}#sk-container-id-2 div.sk-parallel-item:only-child::after {width: 0;}#sk-container-id-2 div.sk-dashed-wrapped {border: 1px dashed gray;margin: 0 0.4em 0.5em 0.4em;box-sizing: border-box;padding-bottom: 0.4em;background-color: white;}#sk-container-id-2 div.sk-label label {font-family: monospace;font-weight: bold;display: inline-block;line-height: 1.2em;}#sk-container-id-2 div.sk-label-container {text-align: center;}#sk-container-id-2 div.sk-container {/* jupyter's `normalize.less` sets `[hidden] { display: none; }` but bootstrap.min.css set `[hidden] { display: none !important; }` so we also need the `!important` here to be able to override the default hidden behavior on the sphinx rendered scikit-learn.org. See: https://github.com/scikit-learn/scikit-learn/issues/21755 */display: inline-block !important;position: relative;}#sk-container-id-2 div.sk-text-repr-fallback {display: none;}</style><div id=\"sk-container-id-2\" class=\"sk-top-container\"><div class=\"sk-text-repr-fallback\"><pre>GridSearchCV(estimator=LogisticRegression(),\n",
              "             param_grid={&#x27;C&#x27;: [0.001, 0.01, 0.1, 1, 10, 100, 1000]})</pre><b>In a Jupyter environment, please rerun this cell to show the HTML representation or trust the notebook. <br />On GitHub, the HTML representation is unable to render, please try loading this page with nbviewer.org.</b></div><div class=\"sk-container\" hidden><div class=\"sk-item sk-dashed-wrapped\"><div class=\"sk-label-container\"><div class=\"sk-label sk-toggleable\"><input class=\"sk-toggleable__control sk-hidden--visually\" id=\"sk-estimator-id-2\" type=\"checkbox\" ><label for=\"sk-estimator-id-2\" class=\"sk-toggleable__label sk-toggleable__label-arrow\">GridSearchCV</label><div class=\"sk-toggleable__content\"><pre>GridSearchCV(estimator=LogisticRegression(),\n",
              "             param_grid={&#x27;C&#x27;: [0.001, 0.01, 0.1, 1, 10, 100, 1000]})</pre></div></div></div><div class=\"sk-parallel\"><div class=\"sk-parallel-item\"><div class=\"sk-item\"><div class=\"sk-label-container\"><div class=\"sk-label sk-toggleable\"><input class=\"sk-toggleable__control sk-hidden--visually\" id=\"sk-estimator-id-3\" type=\"checkbox\" ><label for=\"sk-estimator-id-3\" class=\"sk-toggleable__label sk-toggleable__label-arrow\">estimator: LogisticRegression</label><div class=\"sk-toggleable__content\"><pre>LogisticRegression()</pre></div></div></div><div class=\"sk-serial\"><div class=\"sk-item\"><div class=\"sk-estimator sk-toggleable\"><input class=\"sk-toggleable__control sk-hidden--visually\" id=\"sk-estimator-id-4\" type=\"checkbox\" ><label for=\"sk-estimator-id-4\" class=\"sk-toggleable__label sk-toggleable__label-arrow\">LogisticRegression</label><div class=\"sk-toggleable__content\"><pre>LogisticRegression()</pre></div></div></div></div></div></div></div></div></div></div>"
            ]
          },
          "metadata": {},
          "execution_count": 59
        }
      ]
    },
    {
      "cell_type": "code",
      "source": [
        "# Define the hyperparameters for KMeans\n",
        "kmeans_params = {'n_clusters': [2, 3, 4, 5, 6]}\n",
        "\n",
        "# Initialize KMeans\n",
        "kmeans = KMeans()\n",
        "\n",
        "# Use GridSearchCV to find the best parameters for KMeans\n",
        "kmeans_gs = GridSearchCV(kmeans, kmeans_params)\n",
        "kmeans_gs.fit(X)\n",
        "\n",
        "# Use the best estimator from GridSearchCV to fit the data\n",
        "kmeans_best = kmeans_gs.best_estimator_\n",
        "clusters = kmeans_best.fit_predict(X)\n",
        "\n",
        "# Add the cluster labels as a new feature to your data\n",
        "X_new = np.column_stack((X, clusters))\n",
        "\n",
        "# Define the hyperparameters for Logistic Regression\n",
        "logreg_params = {'C': [0.01, 0.1, 1, 10, 100]}\n",
        "\n",
        "# Initialize Logistic Regression\n",
        "logreg = LogisticRegression()\n",
        "\n",
        "# Use GridSearchCV to find the best parameters for Logistic Regression\n",
        "logreg_gs = GridSearchCV(logreg, logreg_params)\n",
        "logreg_gs.fit(X_new, y)\n",
        "\n",
        "# Use the best estimator from GridSearchCV to fit the data\n",
        "logreg_best = logreg_gs.best_estimator_\n",
        "logreg_best.fit(X_new, y)"
      ],
      "metadata": {
        "colab": {
          "base_uri": "https://localhost:8080/",
          "height": 1000
        },
        "id": "fRhRHyrSQv9o",
        "outputId": "61151a10-3734-41ae-c90f-7a6b70e75cac"
      },
      "execution_count": 60,
      "outputs": [
        {
          "output_type": "stream",
          "name": "stderr",
          "text": [
            "/usr/local/lib/python3.10/dist-packages/sklearn/cluster/_kmeans.py:870: FutureWarning: The default value of `n_init` will change from 10 to 'auto' in 1.4. Set the value of `n_init` explicitly to suppress the warning\n",
            "  warnings.warn(\n",
            "/usr/local/lib/python3.10/dist-packages/sklearn/cluster/_kmeans.py:870: FutureWarning: The default value of `n_init` will change from 10 to 'auto' in 1.4. Set the value of `n_init` explicitly to suppress the warning\n",
            "  warnings.warn(\n",
            "/usr/local/lib/python3.10/dist-packages/sklearn/cluster/_kmeans.py:870: FutureWarning: The default value of `n_init` will change from 10 to 'auto' in 1.4. Set the value of `n_init` explicitly to suppress the warning\n",
            "  warnings.warn(\n",
            "/usr/local/lib/python3.10/dist-packages/sklearn/cluster/_kmeans.py:870: FutureWarning: The default value of `n_init` will change from 10 to 'auto' in 1.4. Set the value of `n_init` explicitly to suppress the warning\n",
            "  warnings.warn(\n",
            "/usr/local/lib/python3.10/dist-packages/sklearn/cluster/_kmeans.py:870: FutureWarning: The default value of `n_init` will change from 10 to 'auto' in 1.4. Set the value of `n_init` explicitly to suppress the warning\n",
            "  warnings.warn(\n",
            "/usr/local/lib/python3.10/dist-packages/sklearn/cluster/_kmeans.py:870: FutureWarning: The default value of `n_init` will change from 10 to 'auto' in 1.4. Set the value of `n_init` explicitly to suppress the warning\n",
            "  warnings.warn(\n",
            "/usr/local/lib/python3.10/dist-packages/sklearn/cluster/_kmeans.py:870: FutureWarning: The default value of `n_init` will change from 10 to 'auto' in 1.4. Set the value of `n_init` explicitly to suppress the warning\n",
            "  warnings.warn(\n",
            "/usr/local/lib/python3.10/dist-packages/sklearn/cluster/_kmeans.py:870: FutureWarning: The default value of `n_init` will change from 10 to 'auto' in 1.4. Set the value of `n_init` explicitly to suppress the warning\n",
            "  warnings.warn(\n",
            "/usr/local/lib/python3.10/dist-packages/sklearn/cluster/_kmeans.py:870: FutureWarning: The default value of `n_init` will change from 10 to 'auto' in 1.4. Set the value of `n_init` explicitly to suppress the warning\n",
            "  warnings.warn(\n",
            "/usr/local/lib/python3.10/dist-packages/sklearn/cluster/_kmeans.py:870: FutureWarning: The default value of `n_init` will change from 10 to 'auto' in 1.4. Set the value of `n_init` explicitly to suppress the warning\n",
            "  warnings.warn(\n",
            "/usr/local/lib/python3.10/dist-packages/sklearn/cluster/_kmeans.py:870: FutureWarning: The default value of `n_init` will change from 10 to 'auto' in 1.4. Set the value of `n_init` explicitly to suppress the warning\n",
            "  warnings.warn(\n",
            "/usr/local/lib/python3.10/dist-packages/sklearn/cluster/_kmeans.py:870: FutureWarning: The default value of `n_init` will change from 10 to 'auto' in 1.4. Set the value of `n_init` explicitly to suppress the warning\n",
            "  warnings.warn(\n",
            "/usr/local/lib/python3.10/dist-packages/sklearn/cluster/_kmeans.py:870: FutureWarning: The default value of `n_init` will change from 10 to 'auto' in 1.4. Set the value of `n_init` explicitly to suppress the warning\n",
            "  warnings.warn(\n",
            "/usr/local/lib/python3.10/dist-packages/sklearn/cluster/_kmeans.py:870: FutureWarning: The default value of `n_init` will change from 10 to 'auto' in 1.4. Set the value of `n_init` explicitly to suppress the warning\n",
            "  warnings.warn(\n",
            "/usr/local/lib/python3.10/dist-packages/sklearn/cluster/_kmeans.py:870: FutureWarning: The default value of `n_init` will change from 10 to 'auto' in 1.4. Set the value of `n_init` explicitly to suppress the warning\n",
            "  warnings.warn(\n",
            "/usr/local/lib/python3.10/dist-packages/sklearn/cluster/_kmeans.py:870: FutureWarning: The default value of `n_init` will change from 10 to 'auto' in 1.4. Set the value of `n_init` explicitly to suppress the warning\n",
            "  warnings.warn(\n",
            "/usr/local/lib/python3.10/dist-packages/sklearn/cluster/_kmeans.py:870: FutureWarning: The default value of `n_init` will change from 10 to 'auto' in 1.4. Set the value of `n_init` explicitly to suppress the warning\n",
            "  warnings.warn(\n",
            "/usr/local/lib/python3.10/dist-packages/sklearn/cluster/_kmeans.py:870: FutureWarning: The default value of `n_init` will change from 10 to 'auto' in 1.4. Set the value of `n_init` explicitly to suppress the warning\n",
            "  warnings.warn(\n",
            "/usr/local/lib/python3.10/dist-packages/sklearn/cluster/_kmeans.py:870: FutureWarning: The default value of `n_init` will change from 10 to 'auto' in 1.4. Set the value of `n_init` explicitly to suppress the warning\n",
            "  warnings.warn(\n",
            "/usr/local/lib/python3.10/dist-packages/sklearn/cluster/_kmeans.py:870: FutureWarning: The default value of `n_init` will change from 10 to 'auto' in 1.4. Set the value of `n_init` explicitly to suppress the warning\n",
            "  warnings.warn(\n",
            "/usr/local/lib/python3.10/dist-packages/sklearn/cluster/_kmeans.py:870: FutureWarning: The default value of `n_init` will change from 10 to 'auto' in 1.4. Set the value of `n_init` explicitly to suppress the warning\n",
            "  warnings.warn(\n",
            "/usr/local/lib/python3.10/dist-packages/sklearn/cluster/_kmeans.py:870: FutureWarning: The default value of `n_init` will change from 10 to 'auto' in 1.4. Set the value of `n_init` explicitly to suppress the warning\n",
            "  warnings.warn(\n",
            "/usr/local/lib/python3.10/dist-packages/sklearn/cluster/_kmeans.py:870: FutureWarning: The default value of `n_init` will change from 10 to 'auto' in 1.4. Set the value of `n_init` explicitly to suppress the warning\n",
            "  warnings.warn(\n",
            "/usr/local/lib/python3.10/dist-packages/sklearn/cluster/_kmeans.py:870: FutureWarning: The default value of `n_init` will change from 10 to 'auto' in 1.4. Set the value of `n_init` explicitly to suppress the warning\n",
            "  warnings.warn(\n",
            "/usr/local/lib/python3.10/dist-packages/sklearn/cluster/_kmeans.py:870: FutureWarning: The default value of `n_init` will change from 10 to 'auto' in 1.4. Set the value of `n_init` explicitly to suppress the warning\n",
            "  warnings.warn(\n",
            "/usr/local/lib/python3.10/dist-packages/sklearn/cluster/_kmeans.py:870: FutureWarning: The default value of `n_init` will change from 10 to 'auto' in 1.4. Set the value of `n_init` explicitly to suppress the warning\n",
            "  warnings.warn(\n",
            "/usr/local/lib/python3.10/dist-packages/sklearn/cluster/_kmeans.py:870: FutureWarning: The default value of `n_init` will change from 10 to 'auto' in 1.4. Set the value of `n_init` explicitly to suppress the warning\n",
            "  warnings.warn(\n"
          ]
        },
        {
          "output_type": "execute_result",
          "data": {
            "text/plain": [
              "LogisticRegression(C=1)"
            ],
            "text/html": [
              "<style>#sk-container-id-3 {color: black;background-color: white;}#sk-container-id-3 pre{padding: 0;}#sk-container-id-3 div.sk-toggleable {background-color: white;}#sk-container-id-3 label.sk-toggleable__label {cursor: pointer;display: block;width: 100%;margin-bottom: 0;padding: 0.3em;box-sizing: border-box;text-align: center;}#sk-container-id-3 label.sk-toggleable__label-arrow:before {content: \"▸\";float: left;margin-right: 0.25em;color: #696969;}#sk-container-id-3 label.sk-toggleable__label-arrow:hover:before {color: black;}#sk-container-id-3 div.sk-estimator:hover label.sk-toggleable__label-arrow:before {color: black;}#sk-container-id-3 div.sk-toggleable__content {max-height: 0;max-width: 0;overflow: hidden;text-align: left;background-color: #f0f8ff;}#sk-container-id-3 div.sk-toggleable__content pre {margin: 0.2em;color: black;border-radius: 0.25em;background-color: #f0f8ff;}#sk-container-id-3 input.sk-toggleable__control:checked~div.sk-toggleable__content {max-height: 200px;max-width: 100%;overflow: auto;}#sk-container-id-3 input.sk-toggleable__control:checked~label.sk-toggleable__label-arrow:before {content: \"▾\";}#sk-container-id-3 div.sk-estimator input.sk-toggleable__control:checked~label.sk-toggleable__label {background-color: #d4ebff;}#sk-container-id-3 div.sk-label input.sk-toggleable__control:checked~label.sk-toggleable__label {background-color: #d4ebff;}#sk-container-id-3 input.sk-hidden--visually {border: 0;clip: rect(1px 1px 1px 1px);clip: rect(1px, 1px, 1px, 1px);height: 1px;margin: -1px;overflow: hidden;padding: 0;position: absolute;width: 1px;}#sk-container-id-3 div.sk-estimator {font-family: monospace;background-color: #f0f8ff;border: 1px dotted black;border-radius: 0.25em;box-sizing: border-box;margin-bottom: 0.5em;}#sk-container-id-3 div.sk-estimator:hover {background-color: #d4ebff;}#sk-container-id-3 div.sk-parallel-item::after {content: \"\";width: 100%;border-bottom: 1px solid gray;flex-grow: 1;}#sk-container-id-3 div.sk-label:hover label.sk-toggleable__label {background-color: #d4ebff;}#sk-container-id-3 div.sk-serial::before {content: \"\";position: absolute;border-left: 1px solid gray;box-sizing: border-box;top: 0;bottom: 0;left: 50%;z-index: 0;}#sk-container-id-3 div.sk-serial {display: flex;flex-direction: column;align-items: center;background-color: white;padding-right: 0.2em;padding-left: 0.2em;position: relative;}#sk-container-id-3 div.sk-item {position: relative;z-index: 1;}#sk-container-id-3 div.sk-parallel {display: flex;align-items: stretch;justify-content: center;background-color: white;position: relative;}#sk-container-id-3 div.sk-item::before, #sk-container-id-3 div.sk-parallel-item::before {content: \"\";position: absolute;border-left: 1px solid gray;box-sizing: border-box;top: 0;bottom: 0;left: 50%;z-index: -1;}#sk-container-id-3 div.sk-parallel-item {display: flex;flex-direction: column;z-index: 1;position: relative;background-color: white;}#sk-container-id-3 div.sk-parallel-item:first-child::after {align-self: flex-end;width: 50%;}#sk-container-id-3 div.sk-parallel-item:last-child::after {align-self: flex-start;width: 50%;}#sk-container-id-3 div.sk-parallel-item:only-child::after {width: 0;}#sk-container-id-3 div.sk-dashed-wrapped {border: 1px dashed gray;margin: 0 0.4em 0.5em 0.4em;box-sizing: border-box;padding-bottom: 0.4em;background-color: white;}#sk-container-id-3 div.sk-label label {font-family: monospace;font-weight: bold;display: inline-block;line-height: 1.2em;}#sk-container-id-3 div.sk-label-container {text-align: center;}#sk-container-id-3 div.sk-container {/* jupyter's `normalize.less` sets `[hidden] { display: none; }` but bootstrap.min.css set `[hidden] { display: none !important; }` so we also need the `!important` here to be able to override the default hidden behavior on the sphinx rendered scikit-learn.org. See: https://github.com/scikit-learn/scikit-learn/issues/21755 */display: inline-block !important;position: relative;}#sk-container-id-3 div.sk-text-repr-fallback {display: none;}</style><div id=\"sk-container-id-3\" class=\"sk-top-container\"><div class=\"sk-text-repr-fallback\"><pre>LogisticRegression(C=1)</pre><b>In a Jupyter environment, please rerun this cell to show the HTML representation or trust the notebook. <br />On GitHub, the HTML representation is unable to render, please try loading this page with nbviewer.org.</b></div><div class=\"sk-container\" hidden><div class=\"sk-item\"><div class=\"sk-estimator sk-toggleable\"><input class=\"sk-toggleable__control sk-hidden--visually\" id=\"sk-estimator-id-5\" type=\"checkbox\" checked><label for=\"sk-estimator-id-5\" class=\"sk-toggleable__label sk-toggleable__label-arrow\">LogisticRegression</label><div class=\"sk-toggleable__content\"><pre>LogisticRegression(C=1)</pre></div></div></div></div></div>"
            ]
          },
          "metadata": {},
          "execution_count": 60
        }
      ]
    },
    {
      "cell_type": "markdown",
      "source": [
        "- En este código, primero estás utilizando GridSearchCV para encontrar los mejores hiperparámetros para K-means basándote en la función de puntuación predeterminada de K-means (inercia). Luego, estás utilizando el mejor estimador de K-means para ajustar los datos y predecir los clusters. Después, estás añadiendo las etiquetas de los clusters como una nueva característica a los datos. Finalmente, estás utilizando GridSearchCV para encontrar los mejores hiperparámetros para la Regresión Logística y ajustar el modelo con lostus datos ampliados."
      ],
      "metadata": {
        "id": "q_LVq3qLSHQG"
      }
    },
    {
      "cell_type": "markdown",
      "source": [
        "Combinación 2: DBSCAN + Random Forest\n",
        "\n",
        "---\n",
        "\n"
      ],
      "metadata": {
        "id": "ryqlOa7teYcn"
      }
    },
    {
      "cell_type": "code",
      "source": [
        "eps_values = np.linspace(0.1, 1, 10)  # o cualquier otro rango de tu elección\n",
        "min_samples_values = range(1, 10)  # o cualquier otro rango de tu elección\n",
        "best_score = -1\n",
        "best_params = None\n",
        "\n",
        "for eps in eps_values:\n",
        "    for min_samples in min_samples_values:\n",
        "        dbscan = DBSCAN(eps=eps, min_samples=min_samples)\n",
        "        labels = dbscan.fit_predict(X)\n",
        "        if len(set(labels)) > 1:  # debe haber al menos 2 grupos para calcular silhouette_score\n",
        "            score = silhouette_score(X, labels)\n",
        "            if score > best_score:\n",
        "                best_score = score\n",
        "                best_params = {'eps': eps, 'min_samples': min_samples}\n",
        "\n",
        "print('Mejor puntuación:', best_score)\n",
        "print('Mejores parámetros:', best_params)"
      ],
      "metadata": {
        "colab": {
          "base_uri": "https://localhost:8080/"
        },
        "id": "efhRcrfzIxlf",
        "outputId": "1019bf8a-cc7e-456f-b8e2-411d8ea2452d"
      },
      "execution_count": 61,
      "outputs": [
        {
          "output_type": "stream",
          "name": "stdout",
          "text": [
            "Mejor puntuación: 0.08385057924926065\n",
            "Mejores parámetros: {'eps': 1.0, 'min_samples': 1}\n"
          ]
        }
      ]
    },
    {
      "cell_type": "code",
      "source": [
        "from sklearn.model_selection import GridSearchCV\n",
        "from sklearn.metrics import make_scorer, silhouette_score\n",
        "\n",
        "# Define your own scoring function\n",
        "def custom_scorer(*args, **kwargs):\n",
        "    score = silhouette_score(*args, **kwargs)\n",
        "    return score\n",
        "\n",
        "# Create a scorer using your custom scoring function\n",
        "scorer = make_scorer(custom_scorer)\n",
        "\n",
        "# Define the hyperparameters for DBSCAN\n",
        "dbscan_params = {'eps': [0.5, 1, 1.5, 2], 'min_samples': [5, 10, 15, 20]}\n",
        "\n",
        "# Initialize DBSCAN\n",
        "dbscan = DBSCAN()\n",
        "\n",
        "# Use GridSearchCV to find the best parameters for DBSCAN\n",
        "dbscan_gs = GridSearchCV(dbscan, dbscan_params, scoring=scorer)\n",
        "dbscan_gs.fit(X)\n",
        "\n",
        "# Use the best estimator from GridSearchCV to fit the data\n",
        "dbscan_best = dbscan_gs.best_estimator_\n",
        "clusters = dbscan_best.fit_predict(X)\n",
        "\n",
        "# Add the cluster labels as a new feature to your data\n",
        "X_new = np.column_stack((X, clusters))\n",
        "\n",
        "# Define the hyperparameters for Random Forest\n",
        "rf_params = {'n_estimators': [10, 50, 100, 200], 'max_depth': [None, 10, 20, 30, 40, 50]}\n",
        "\n",
        "# Initialize Random Forest\n",
        "rf = RandomForestClassifier()\n",
        "\n",
        "# Use GridSearchCV to find the best parameters for Random Forest\n",
        "rf_gs = GridSearchCV(rf, rf_params)\n",
        "rf_gs.fit(X_new, y)\n",
        "\n",
        "# Use the best estimator from GridSearchCV to fit the data\n",
        "rf_best = rf_gs.best_estimator_\n",
        "rf_best.fit(X_new, y)"
      ],
      "metadata": {
        "colab": {
          "base_uri": "https://localhost:8080/",
          "height": 1000
        },
        "id": "kRUKxiOcFIui",
        "outputId": "d7383357-36c8-4fe7-bb6e-340b9cb094ff"
      },
      "execution_count": 62,
      "outputs": [
        {
          "output_type": "stream",
          "name": "stderr",
          "text": [
            "/usr/local/lib/python3.10/dist-packages/sklearn/model_selection/_validation.py:778: UserWarning: Scoring failed. The score on this train-test partition for these parameters will be set to nan. Details: \n",
            "Traceback (most recent call last):\n",
            "  File \"/usr/local/lib/python3.10/dist-packages/sklearn/model_selection/_validation.py\", line 765, in _score\n",
            "    scores = scorer(estimator, X_test)\n",
            "TypeError: _BaseScorer.__call__() missing 1 required positional argument: 'y_true'\n",
            "\n",
            "  warnings.warn(\n",
            "/usr/local/lib/python3.10/dist-packages/sklearn/model_selection/_validation.py:778: UserWarning: Scoring failed. The score on this train-test partition for these parameters will be set to nan. Details: \n",
            "Traceback (most recent call last):\n",
            "  File \"/usr/local/lib/python3.10/dist-packages/sklearn/model_selection/_validation.py\", line 765, in _score\n",
            "    scores = scorer(estimator, X_test)\n",
            "TypeError: _BaseScorer.__call__() missing 1 required positional argument: 'y_true'\n",
            "\n",
            "  warnings.warn(\n",
            "/usr/local/lib/python3.10/dist-packages/sklearn/model_selection/_validation.py:778: UserWarning: Scoring failed. The score on this train-test partition for these parameters will be set to nan. Details: \n",
            "Traceback (most recent call last):\n",
            "  File \"/usr/local/lib/python3.10/dist-packages/sklearn/model_selection/_validation.py\", line 765, in _score\n",
            "    scores = scorer(estimator, X_test)\n",
            "TypeError: _BaseScorer.__call__() missing 1 required positional argument: 'y_true'\n",
            "\n",
            "  warnings.warn(\n",
            "/usr/local/lib/python3.10/dist-packages/sklearn/model_selection/_validation.py:778: UserWarning: Scoring failed. The score on this train-test partition for these parameters will be set to nan. Details: \n",
            "Traceback (most recent call last):\n",
            "  File \"/usr/local/lib/python3.10/dist-packages/sklearn/model_selection/_validation.py\", line 765, in _score\n",
            "    scores = scorer(estimator, X_test)\n",
            "TypeError: _BaseScorer.__call__() missing 1 required positional argument: 'y_true'\n",
            "\n",
            "  warnings.warn(\n",
            "/usr/local/lib/python3.10/dist-packages/sklearn/model_selection/_validation.py:778: UserWarning: Scoring failed. The score on this train-test partition for these parameters will be set to nan. Details: \n",
            "Traceback (most recent call last):\n",
            "  File \"/usr/local/lib/python3.10/dist-packages/sklearn/model_selection/_validation.py\", line 765, in _score\n",
            "    scores = scorer(estimator, X_test)\n",
            "TypeError: _BaseScorer.__call__() missing 1 required positional argument: 'y_true'\n",
            "\n",
            "  warnings.warn(\n",
            "/usr/local/lib/python3.10/dist-packages/sklearn/model_selection/_validation.py:778: UserWarning: Scoring failed. The score on this train-test partition for these parameters will be set to nan. Details: \n",
            "Traceback (most recent call last):\n",
            "  File \"/usr/local/lib/python3.10/dist-packages/sklearn/model_selection/_validation.py\", line 765, in _score\n",
            "    scores = scorer(estimator, X_test)\n",
            "TypeError: _BaseScorer.__call__() missing 1 required positional argument: 'y_true'\n",
            "\n",
            "  warnings.warn(\n",
            "/usr/local/lib/python3.10/dist-packages/sklearn/model_selection/_validation.py:778: UserWarning: Scoring failed. The score on this train-test partition for these parameters will be set to nan. Details: \n",
            "Traceback (most recent call last):\n",
            "  File \"/usr/local/lib/python3.10/dist-packages/sklearn/model_selection/_validation.py\", line 765, in _score\n",
            "    scores = scorer(estimator, X_test)\n",
            "TypeError: _BaseScorer.__call__() missing 1 required positional argument: 'y_true'\n",
            "\n",
            "  warnings.warn(\n",
            "/usr/local/lib/python3.10/dist-packages/sklearn/model_selection/_validation.py:778: UserWarning: Scoring failed. The score on this train-test partition for these parameters will be set to nan. Details: \n",
            "Traceback (most recent call last):\n",
            "  File \"/usr/local/lib/python3.10/dist-packages/sklearn/model_selection/_validation.py\", line 765, in _score\n",
            "    scores = scorer(estimator, X_test)\n",
            "TypeError: _BaseScorer.__call__() missing 1 required positional argument: 'y_true'\n",
            "\n",
            "  warnings.warn(\n",
            "/usr/local/lib/python3.10/dist-packages/sklearn/model_selection/_validation.py:778: UserWarning: Scoring failed. The score on this train-test partition for these parameters will be set to nan. Details: \n",
            "Traceback (most recent call last):\n",
            "  File \"/usr/local/lib/python3.10/dist-packages/sklearn/model_selection/_validation.py\", line 765, in _score\n",
            "    scores = scorer(estimator, X_test)\n",
            "TypeError: _BaseScorer.__call__() missing 1 required positional argument: 'y_true'\n",
            "\n",
            "  warnings.warn(\n",
            "/usr/local/lib/python3.10/dist-packages/sklearn/model_selection/_validation.py:778: UserWarning: Scoring failed. The score on this train-test partition for these parameters will be set to nan. Details: \n",
            "Traceback (most recent call last):\n",
            "  File \"/usr/local/lib/python3.10/dist-packages/sklearn/model_selection/_validation.py\", line 765, in _score\n",
            "    scores = scorer(estimator, X_test)\n",
            "TypeError: _BaseScorer.__call__() missing 1 required positional argument: 'y_true'\n",
            "\n",
            "  warnings.warn(\n",
            "/usr/local/lib/python3.10/dist-packages/sklearn/model_selection/_validation.py:778: UserWarning: Scoring failed. The score on this train-test partition for these parameters will be set to nan. Details: \n",
            "Traceback (most recent call last):\n",
            "  File \"/usr/local/lib/python3.10/dist-packages/sklearn/model_selection/_validation.py\", line 765, in _score\n",
            "    scores = scorer(estimator, X_test)\n",
            "TypeError: _BaseScorer.__call__() missing 1 required positional argument: 'y_true'\n",
            "\n",
            "  warnings.warn(\n",
            "/usr/local/lib/python3.10/dist-packages/sklearn/model_selection/_validation.py:778: UserWarning: Scoring failed. The score on this train-test partition for these parameters will be set to nan. Details: \n",
            "Traceback (most recent call last):\n",
            "  File \"/usr/local/lib/python3.10/dist-packages/sklearn/model_selection/_validation.py\", line 765, in _score\n",
            "    scores = scorer(estimator, X_test)\n",
            "TypeError: _BaseScorer.__call__() missing 1 required positional argument: 'y_true'\n",
            "\n",
            "  warnings.warn(\n",
            "/usr/local/lib/python3.10/dist-packages/sklearn/model_selection/_validation.py:778: UserWarning: Scoring failed. The score on this train-test partition for these parameters will be set to nan. Details: \n",
            "Traceback (most recent call last):\n",
            "  File \"/usr/local/lib/python3.10/dist-packages/sklearn/model_selection/_validation.py\", line 765, in _score\n",
            "    scores = scorer(estimator, X_test)\n",
            "TypeError: _BaseScorer.__call__() missing 1 required positional argument: 'y_true'\n",
            "\n",
            "  warnings.warn(\n",
            "/usr/local/lib/python3.10/dist-packages/sklearn/model_selection/_validation.py:778: UserWarning: Scoring failed. The score on this train-test partition for these parameters will be set to nan. Details: \n",
            "Traceback (most recent call last):\n",
            "  File \"/usr/local/lib/python3.10/dist-packages/sklearn/model_selection/_validation.py\", line 765, in _score\n",
            "    scores = scorer(estimator, X_test)\n",
            "TypeError: _BaseScorer.__call__() missing 1 required positional argument: 'y_true'\n",
            "\n",
            "  warnings.warn(\n",
            "/usr/local/lib/python3.10/dist-packages/sklearn/model_selection/_validation.py:778: UserWarning: Scoring failed. The score on this train-test partition for these parameters will be set to nan. Details: \n",
            "Traceback (most recent call last):\n",
            "  File \"/usr/local/lib/python3.10/dist-packages/sklearn/model_selection/_validation.py\", line 765, in _score\n",
            "    scores = scorer(estimator, X_test)\n",
            "TypeError: _BaseScorer.__call__() missing 1 required positional argument: 'y_true'\n",
            "\n",
            "  warnings.warn(\n",
            "/usr/local/lib/python3.10/dist-packages/sklearn/model_selection/_validation.py:778: UserWarning: Scoring failed. The score on this train-test partition for these parameters will be set to nan. Details: \n",
            "Traceback (most recent call last):\n",
            "  File \"/usr/local/lib/python3.10/dist-packages/sklearn/model_selection/_validation.py\", line 765, in _score\n",
            "    scores = scorer(estimator, X_test)\n",
            "TypeError: _BaseScorer.__call__() missing 1 required positional argument: 'y_true'\n",
            "\n",
            "  warnings.warn(\n",
            "/usr/local/lib/python3.10/dist-packages/sklearn/model_selection/_validation.py:778: UserWarning: Scoring failed. The score on this train-test partition for these parameters will be set to nan. Details: \n",
            "Traceback (most recent call last):\n",
            "  File \"/usr/local/lib/python3.10/dist-packages/sklearn/model_selection/_validation.py\", line 765, in _score\n",
            "    scores = scorer(estimator, X_test)\n",
            "TypeError: _BaseScorer.__call__() missing 1 required positional argument: 'y_true'\n",
            "\n",
            "  warnings.warn(\n",
            "/usr/local/lib/python3.10/dist-packages/sklearn/model_selection/_validation.py:778: UserWarning: Scoring failed. The score on this train-test partition for these parameters will be set to nan. Details: \n",
            "Traceback (most recent call last):\n",
            "  File \"/usr/local/lib/python3.10/dist-packages/sklearn/model_selection/_validation.py\", line 765, in _score\n",
            "    scores = scorer(estimator, X_test)\n",
            "TypeError: _BaseScorer.__call__() missing 1 required positional argument: 'y_true'\n",
            "\n",
            "  warnings.warn(\n",
            "/usr/local/lib/python3.10/dist-packages/sklearn/model_selection/_validation.py:778: UserWarning: Scoring failed. The score on this train-test partition for these parameters will be set to nan. Details: \n",
            "Traceback (most recent call last):\n",
            "  File \"/usr/local/lib/python3.10/dist-packages/sklearn/model_selection/_validation.py\", line 765, in _score\n",
            "    scores = scorer(estimator, X_test)\n",
            "TypeError: _BaseScorer.__call__() missing 1 required positional argument: 'y_true'\n",
            "\n",
            "  warnings.warn(\n",
            "/usr/local/lib/python3.10/dist-packages/sklearn/model_selection/_validation.py:778: UserWarning: Scoring failed. The score on this train-test partition for these parameters will be set to nan. Details: \n",
            "Traceback (most recent call last):\n",
            "  File \"/usr/local/lib/python3.10/dist-packages/sklearn/model_selection/_validation.py\", line 765, in _score\n",
            "    scores = scorer(estimator, X_test)\n",
            "TypeError: _BaseScorer.__call__() missing 1 required positional argument: 'y_true'\n",
            "\n",
            "  warnings.warn(\n",
            "/usr/local/lib/python3.10/dist-packages/sklearn/model_selection/_validation.py:778: UserWarning: Scoring failed. The score on this train-test partition for these parameters will be set to nan. Details: \n",
            "Traceback (most recent call last):\n",
            "  File \"/usr/local/lib/python3.10/dist-packages/sklearn/model_selection/_validation.py\", line 765, in _score\n",
            "    scores = scorer(estimator, X_test)\n",
            "TypeError: _BaseScorer.__call__() missing 1 required positional argument: 'y_true'\n",
            "\n",
            "  warnings.warn(\n",
            "/usr/local/lib/python3.10/dist-packages/sklearn/model_selection/_validation.py:778: UserWarning: Scoring failed. The score on this train-test partition for these parameters will be set to nan. Details: \n",
            "Traceback (most recent call last):\n",
            "  File \"/usr/local/lib/python3.10/dist-packages/sklearn/model_selection/_validation.py\", line 765, in _score\n",
            "    scores = scorer(estimator, X_test)\n",
            "TypeError: _BaseScorer.__call__() missing 1 required positional argument: 'y_true'\n",
            "\n",
            "  warnings.warn(\n",
            "/usr/local/lib/python3.10/dist-packages/sklearn/model_selection/_validation.py:778: UserWarning: Scoring failed. The score on this train-test partition for these parameters will be set to nan. Details: \n",
            "Traceback (most recent call last):\n",
            "  File \"/usr/local/lib/python3.10/dist-packages/sklearn/model_selection/_validation.py\", line 765, in _score\n",
            "    scores = scorer(estimator, X_test)\n",
            "TypeError: _BaseScorer.__call__() missing 1 required positional argument: 'y_true'\n",
            "\n",
            "  warnings.warn(\n",
            "/usr/local/lib/python3.10/dist-packages/sklearn/model_selection/_validation.py:778: UserWarning: Scoring failed. The score on this train-test partition for these parameters will be set to nan. Details: \n",
            "Traceback (most recent call last):\n",
            "  File \"/usr/local/lib/python3.10/dist-packages/sklearn/model_selection/_validation.py\", line 765, in _score\n",
            "    scores = scorer(estimator, X_test)\n",
            "TypeError: _BaseScorer.__call__() missing 1 required positional argument: 'y_true'\n",
            "\n",
            "  warnings.warn(\n",
            "/usr/local/lib/python3.10/dist-packages/sklearn/model_selection/_validation.py:778: UserWarning: Scoring failed. The score on this train-test partition for these parameters will be set to nan. Details: \n",
            "Traceback (most recent call last):\n",
            "  File \"/usr/local/lib/python3.10/dist-packages/sklearn/model_selection/_validation.py\", line 765, in _score\n",
            "    scores = scorer(estimator, X_test)\n",
            "TypeError: _BaseScorer.__call__() missing 1 required positional argument: 'y_true'\n",
            "\n",
            "  warnings.warn(\n",
            "/usr/local/lib/python3.10/dist-packages/sklearn/model_selection/_validation.py:778: UserWarning: Scoring failed. The score on this train-test partition for these parameters will be set to nan. Details: \n",
            "Traceback (most recent call last):\n",
            "  File \"/usr/local/lib/python3.10/dist-packages/sklearn/model_selection/_validation.py\", line 765, in _score\n",
            "    scores = scorer(estimator, X_test)\n",
            "TypeError: _BaseScorer.__call__() missing 1 required positional argument: 'y_true'\n",
            "\n",
            "  warnings.warn(\n",
            "/usr/local/lib/python3.10/dist-packages/sklearn/model_selection/_validation.py:778: UserWarning: Scoring failed. The score on this train-test partition for these parameters will be set to nan. Details: \n",
            "Traceback (most recent call last):\n",
            "  File \"/usr/local/lib/python3.10/dist-packages/sklearn/model_selection/_validation.py\", line 765, in _score\n",
            "    scores = scorer(estimator, X_test)\n",
            "TypeError: _BaseScorer.__call__() missing 1 required positional argument: 'y_true'\n",
            "\n",
            "  warnings.warn(\n",
            "/usr/local/lib/python3.10/dist-packages/sklearn/model_selection/_validation.py:778: UserWarning: Scoring failed. The score on this train-test partition for these parameters will be set to nan. Details: \n",
            "Traceback (most recent call last):\n",
            "  File \"/usr/local/lib/python3.10/dist-packages/sklearn/model_selection/_validation.py\", line 765, in _score\n",
            "    scores = scorer(estimator, X_test)\n",
            "TypeError: _BaseScorer.__call__() missing 1 required positional argument: 'y_true'\n",
            "\n",
            "  warnings.warn(\n",
            "/usr/local/lib/python3.10/dist-packages/sklearn/model_selection/_validation.py:778: UserWarning: Scoring failed. The score on this train-test partition for these parameters will be set to nan. Details: \n",
            "Traceback (most recent call last):\n",
            "  File \"/usr/local/lib/python3.10/dist-packages/sklearn/model_selection/_validation.py\", line 765, in _score\n",
            "    scores = scorer(estimator, X_test)\n",
            "TypeError: _BaseScorer.__call__() missing 1 required positional argument: 'y_true'\n",
            "\n",
            "  warnings.warn(\n",
            "/usr/local/lib/python3.10/dist-packages/sklearn/model_selection/_validation.py:778: UserWarning: Scoring failed. The score on this train-test partition for these parameters will be set to nan. Details: \n",
            "Traceback (most recent call last):\n",
            "  File \"/usr/local/lib/python3.10/dist-packages/sklearn/model_selection/_validation.py\", line 765, in _score\n",
            "    scores = scorer(estimator, X_test)\n",
            "TypeError: _BaseScorer.__call__() missing 1 required positional argument: 'y_true'\n",
            "\n",
            "  warnings.warn(\n",
            "/usr/local/lib/python3.10/dist-packages/sklearn/model_selection/_validation.py:778: UserWarning: Scoring failed. The score on this train-test partition for these parameters will be set to nan. Details: \n",
            "Traceback (most recent call last):\n",
            "  File \"/usr/local/lib/python3.10/dist-packages/sklearn/model_selection/_validation.py\", line 765, in _score\n",
            "    scores = scorer(estimator, X_test)\n",
            "TypeError: _BaseScorer.__call__() missing 1 required positional argument: 'y_true'\n",
            "\n",
            "  warnings.warn(\n",
            "/usr/local/lib/python3.10/dist-packages/sklearn/model_selection/_validation.py:778: UserWarning: Scoring failed. The score on this train-test partition for these parameters will be set to nan. Details: \n",
            "Traceback (most recent call last):\n",
            "  File \"/usr/local/lib/python3.10/dist-packages/sklearn/model_selection/_validation.py\", line 765, in _score\n",
            "    scores = scorer(estimator, X_test)\n",
            "TypeError: _BaseScorer.__call__() missing 1 required positional argument: 'y_true'\n",
            "\n",
            "  warnings.warn(\n",
            "/usr/local/lib/python3.10/dist-packages/sklearn/model_selection/_validation.py:778: UserWarning: Scoring failed. The score on this train-test partition for these parameters will be set to nan. Details: \n",
            "Traceback (most recent call last):\n",
            "  File \"/usr/local/lib/python3.10/dist-packages/sklearn/model_selection/_validation.py\", line 765, in _score\n",
            "    scores = scorer(estimator, X_test)\n",
            "TypeError: _BaseScorer.__call__() missing 1 required positional argument: 'y_true'\n",
            "\n",
            "  warnings.warn(\n",
            "/usr/local/lib/python3.10/dist-packages/sklearn/model_selection/_validation.py:778: UserWarning: Scoring failed. The score on this train-test partition for these parameters will be set to nan. Details: \n",
            "Traceback (most recent call last):\n",
            "  File \"/usr/local/lib/python3.10/dist-packages/sklearn/model_selection/_validation.py\", line 765, in _score\n",
            "    scores = scorer(estimator, X_test)\n",
            "TypeError: _BaseScorer.__call__() missing 1 required positional argument: 'y_true'\n",
            "\n",
            "  warnings.warn(\n",
            "/usr/local/lib/python3.10/dist-packages/sklearn/model_selection/_validation.py:778: UserWarning: Scoring failed. The score on this train-test partition for these parameters will be set to nan. Details: \n",
            "Traceback (most recent call last):\n",
            "  File \"/usr/local/lib/python3.10/dist-packages/sklearn/model_selection/_validation.py\", line 765, in _score\n",
            "    scores = scorer(estimator, X_test)\n",
            "TypeError: _BaseScorer.__call__() missing 1 required positional argument: 'y_true'\n",
            "\n",
            "  warnings.warn(\n",
            "/usr/local/lib/python3.10/dist-packages/sklearn/model_selection/_validation.py:778: UserWarning: Scoring failed. The score on this train-test partition for these parameters will be set to nan. Details: \n",
            "Traceback (most recent call last):\n",
            "  File \"/usr/local/lib/python3.10/dist-packages/sklearn/model_selection/_validation.py\", line 765, in _score\n",
            "    scores = scorer(estimator, X_test)\n",
            "TypeError: _BaseScorer.__call__() missing 1 required positional argument: 'y_true'\n",
            "\n",
            "  warnings.warn(\n",
            "/usr/local/lib/python3.10/dist-packages/sklearn/model_selection/_validation.py:778: UserWarning: Scoring failed. The score on this train-test partition for these parameters will be set to nan. Details: \n",
            "Traceback (most recent call last):\n",
            "  File \"/usr/local/lib/python3.10/dist-packages/sklearn/model_selection/_validation.py\", line 765, in _score\n",
            "    scores = scorer(estimator, X_test)\n",
            "TypeError: _BaseScorer.__call__() missing 1 required positional argument: 'y_true'\n",
            "\n",
            "  warnings.warn(\n",
            "/usr/local/lib/python3.10/dist-packages/sklearn/model_selection/_validation.py:778: UserWarning: Scoring failed. The score on this train-test partition for these parameters will be set to nan. Details: \n",
            "Traceback (most recent call last):\n",
            "  File \"/usr/local/lib/python3.10/dist-packages/sklearn/model_selection/_validation.py\", line 765, in _score\n",
            "    scores = scorer(estimator, X_test)\n",
            "TypeError: _BaseScorer.__call__() missing 1 required positional argument: 'y_true'\n",
            "\n",
            "  warnings.warn(\n",
            "/usr/local/lib/python3.10/dist-packages/sklearn/model_selection/_validation.py:778: UserWarning: Scoring failed. The score on this train-test partition for these parameters will be set to nan. Details: \n",
            "Traceback (most recent call last):\n",
            "  File \"/usr/local/lib/python3.10/dist-packages/sklearn/model_selection/_validation.py\", line 765, in _score\n",
            "    scores = scorer(estimator, X_test)\n",
            "TypeError: _BaseScorer.__call__() missing 1 required positional argument: 'y_true'\n",
            "\n",
            "  warnings.warn(\n",
            "/usr/local/lib/python3.10/dist-packages/sklearn/model_selection/_validation.py:778: UserWarning: Scoring failed. The score on this train-test partition for these parameters will be set to nan. Details: \n",
            "Traceback (most recent call last):\n",
            "  File \"/usr/local/lib/python3.10/dist-packages/sklearn/model_selection/_validation.py\", line 765, in _score\n",
            "    scores = scorer(estimator, X_test)\n",
            "TypeError: _BaseScorer.__call__() missing 1 required positional argument: 'y_true'\n",
            "\n",
            "  warnings.warn(\n",
            "/usr/local/lib/python3.10/dist-packages/sklearn/model_selection/_validation.py:778: UserWarning: Scoring failed. The score on this train-test partition for these parameters will be set to nan. Details: \n",
            "Traceback (most recent call last):\n",
            "  File \"/usr/local/lib/python3.10/dist-packages/sklearn/model_selection/_validation.py\", line 765, in _score\n",
            "    scores = scorer(estimator, X_test)\n",
            "TypeError: _BaseScorer.__call__() missing 1 required positional argument: 'y_true'\n",
            "\n",
            "  warnings.warn(\n",
            "/usr/local/lib/python3.10/dist-packages/sklearn/model_selection/_validation.py:778: UserWarning: Scoring failed. The score on this train-test partition for these parameters will be set to nan. Details: \n",
            "Traceback (most recent call last):\n",
            "  File \"/usr/local/lib/python3.10/dist-packages/sklearn/model_selection/_validation.py\", line 765, in _score\n",
            "    scores = scorer(estimator, X_test)\n",
            "TypeError: _BaseScorer.__call__() missing 1 required positional argument: 'y_true'\n",
            "\n",
            "  warnings.warn(\n",
            "/usr/local/lib/python3.10/dist-packages/sklearn/model_selection/_validation.py:778: UserWarning: Scoring failed. The score on this train-test partition for these parameters will be set to nan. Details: \n",
            "Traceback (most recent call last):\n",
            "  File \"/usr/local/lib/python3.10/dist-packages/sklearn/model_selection/_validation.py\", line 765, in _score\n",
            "    scores = scorer(estimator, X_test)\n",
            "TypeError: _BaseScorer.__call__() missing 1 required positional argument: 'y_true'\n",
            "\n",
            "  warnings.warn(\n",
            "/usr/local/lib/python3.10/dist-packages/sklearn/model_selection/_validation.py:778: UserWarning: Scoring failed. The score on this train-test partition for these parameters will be set to nan. Details: \n",
            "Traceback (most recent call last):\n",
            "  File \"/usr/local/lib/python3.10/dist-packages/sklearn/model_selection/_validation.py\", line 765, in _score\n",
            "    scores = scorer(estimator, X_test)\n",
            "TypeError: _BaseScorer.__call__() missing 1 required positional argument: 'y_true'\n",
            "\n",
            "  warnings.warn(\n",
            "/usr/local/lib/python3.10/dist-packages/sklearn/model_selection/_validation.py:778: UserWarning: Scoring failed. The score on this train-test partition for these parameters will be set to nan. Details: \n",
            "Traceback (most recent call last):\n",
            "  File \"/usr/local/lib/python3.10/dist-packages/sklearn/model_selection/_validation.py\", line 765, in _score\n",
            "    scores = scorer(estimator, X_test)\n",
            "TypeError: _BaseScorer.__call__() missing 1 required positional argument: 'y_true'\n",
            "\n",
            "  warnings.warn(\n",
            "/usr/local/lib/python3.10/dist-packages/sklearn/model_selection/_validation.py:778: UserWarning: Scoring failed. The score on this train-test partition for these parameters will be set to nan. Details: \n",
            "Traceback (most recent call last):\n",
            "  File \"/usr/local/lib/python3.10/dist-packages/sklearn/model_selection/_validation.py\", line 765, in _score\n",
            "    scores = scorer(estimator, X_test)\n",
            "TypeError: _BaseScorer.__call__() missing 1 required positional argument: 'y_true'\n",
            "\n",
            "  warnings.warn(\n",
            "/usr/local/lib/python3.10/dist-packages/sklearn/model_selection/_validation.py:778: UserWarning: Scoring failed. The score on this train-test partition for these parameters will be set to nan. Details: \n",
            "Traceback (most recent call last):\n",
            "  File \"/usr/local/lib/python3.10/dist-packages/sklearn/model_selection/_validation.py\", line 765, in _score\n",
            "    scores = scorer(estimator, X_test)\n",
            "TypeError: _BaseScorer.__call__() missing 1 required positional argument: 'y_true'\n",
            "\n",
            "  warnings.warn(\n",
            "/usr/local/lib/python3.10/dist-packages/sklearn/model_selection/_validation.py:778: UserWarning: Scoring failed. The score on this train-test partition for these parameters will be set to nan. Details: \n",
            "Traceback (most recent call last):\n",
            "  File \"/usr/local/lib/python3.10/dist-packages/sklearn/model_selection/_validation.py\", line 765, in _score\n",
            "    scores = scorer(estimator, X_test)\n",
            "TypeError: _BaseScorer.__call__() missing 1 required positional argument: 'y_true'\n",
            "\n",
            "  warnings.warn(\n",
            "/usr/local/lib/python3.10/dist-packages/sklearn/model_selection/_validation.py:778: UserWarning: Scoring failed. The score on this train-test partition for these parameters will be set to nan. Details: \n",
            "Traceback (most recent call last):\n",
            "  File \"/usr/local/lib/python3.10/dist-packages/sklearn/model_selection/_validation.py\", line 765, in _score\n",
            "    scores = scorer(estimator, X_test)\n",
            "TypeError: _BaseScorer.__call__() missing 1 required positional argument: 'y_true'\n",
            "\n",
            "  warnings.warn(\n",
            "/usr/local/lib/python3.10/dist-packages/sklearn/model_selection/_validation.py:778: UserWarning: Scoring failed. The score on this train-test partition for these parameters will be set to nan. Details: \n",
            "Traceback (most recent call last):\n",
            "  File \"/usr/local/lib/python3.10/dist-packages/sklearn/model_selection/_validation.py\", line 765, in _score\n",
            "    scores = scorer(estimator, X_test)\n",
            "TypeError: _BaseScorer.__call__() missing 1 required positional argument: 'y_true'\n",
            "\n",
            "  warnings.warn(\n",
            "/usr/local/lib/python3.10/dist-packages/sklearn/model_selection/_validation.py:778: UserWarning: Scoring failed. The score on this train-test partition for these parameters will be set to nan. Details: \n",
            "Traceback (most recent call last):\n",
            "  File \"/usr/local/lib/python3.10/dist-packages/sklearn/model_selection/_validation.py\", line 765, in _score\n",
            "    scores = scorer(estimator, X_test)\n",
            "TypeError: _BaseScorer.__call__() missing 1 required positional argument: 'y_true'\n",
            "\n",
            "  warnings.warn(\n",
            "/usr/local/lib/python3.10/dist-packages/sklearn/model_selection/_validation.py:778: UserWarning: Scoring failed. The score on this train-test partition for these parameters will be set to nan. Details: \n",
            "Traceback (most recent call last):\n",
            "  File \"/usr/local/lib/python3.10/dist-packages/sklearn/model_selection/_validation.py\", line 765, in _score\n",
            "    scores = scorer(estimator, X_test)\n",
            "TypeError: _BaseScorer.__call__() missing 1 required positional argument: 'y_true'\n",
            "\n",
            "  warnings.warn(\n",
            "/usr/local/lib/python3.10/dist-packages/sklearn/model_selection/_validation.py:778: UserWarning: Scoring failed. The score on this train-test partition for these parameters will be set to nan. Details: \n",
            "Traceback (most recent call last):\n",
            "  File \"/usr/local/lib/python3.10/dist-packages/sklearn/model_selection/_validation.py\", line 765, in _score\n",
            "    scores = scorer(estimator, X_test)\n",
            "TypeError: _BaseScorer.__call__() missing 1 required positional argument: 'y_true'\n",
            "\n",
            "  warnings.warn(\n",
            "/usr/local/lib/python3.10/dist-packages/sklearn/model_selection/_validation.py:778: UserWarning: Scoring failed. The score on this train-test partition for these parameters will be set to nan. Details: \n",
            "Traceback (most recent call last):\n",
            "  File \"/usr/local/lib/python3.10/dist-packages/sklearn/model_selection/_validation.py\", line 765, in _score\n",
            "    scores = scorer(estimator, X_test)\n",
            "TypeError: _BaseScorer.__call__() missing 1 required positional argument: 'y_true'\n",
            "\n",
            "  warnings.warn(\n",
            "/usr/local/lib/python3.10/dist-packages/sklearn/model_selection/_validation.py:778: UserWarning: Scoring failed. The score on this train-test partition for these parameters will be set to nan. Details: \n",
            "Traceback (most recent call last):\n",
            "  File \"/usr/local/lib/python3.10/dist-packages/sklearn/model_selection/_validation.py\", line 765, in _score\n",
            "    scores = scorer(estimator, X_test)\n",
            "TypeError: _BaseScorer.__call__() missing 1 required positional argument: 'y_true'\n",
            "\n",
            "  warnings.warn(\n",
            "/usr/local/lib/python3.10/dist-packages/sklearn/model_selection/_validation.py:778: UserWarning: Scoring failed. The score on this train-test partition for these parameters will be set to nan. Details: \n",
            "Traceback (most recent call last):\n",
            "  File \"/usr/local/lib/python3.10/dist-packages/sklearn/model_selection/_validation.py\", line 765, in _score\n",
            "    scores = scorer(estimator, X_test)\n",
            "TypeError: _BaseScorer.__call__() missing 1 required positional argument: 'y_true'\n",
            "\n",
            "  warnings.warn(\n",
            "/usr/local/lib/python3.10/dist-packages/sklearn/model_selection/_validation.py:778: UserWarning: Scoring failed. The score on this train-test partition for these parameters will be set to nan. Details: \n",
            "Traceback (most recent call last):\n",
            "  File \"/usr/local/lib/python3.10/dist-packages/sklearn/model_selection/_validation.py\", line 765, in _score\n",
            "    scores = scorer(estimator, X_test)\n",
            "TypeError: _BaseScorer.__call__() missing 1 required positional argument: 'y_true'\n",
            "\n",
            "  warnings.warn(\n",
            "/usr/local/lib/python3.10/dist-packages/sklearn/model_selection/_validation.py:778: UserWarning: Scoring failed. The score on this train-test partition for these parameters will be set to nan. Details: \n",
            "Traceback (most recent call last):\n",
            "  File \"/usr/local/lib/python3.10/dist-packages/sklearn/model_selection/_validation.py\", line 765, in _score\n",
            "    scores = scorer(estimator, X_test)\n",
            "TypeError: _BaseScorer.__call__() missing 1 required positional argument: 'y_true'\n",
            "\n",
            "  warnings.warn(\n",
            "/usr/local/lib/python3.10/dist-packages/sklearn/model_selection/_validation.py:778: UserWarning: Scoring failed. The score on this train-test partition for these parameters will be set to nan. Details: \n",
            "Traceback (most recent call last):\n",
            "  File \"/usr/local/lib/python3.10/dist-packages/sklearn/model_selection/_validation.py\", line 765, in _score\n",
            "    scores = scorer(estimator, X_test)\n",
            "TypeError: _BaseScorer.__call__() missing 1 required positional argument: 'y_true'\n",
            "\n",
            "  warnings.warn(\n",
            "/usr/local/lib/python3.10/dist-packages/sklearn/model_selection/_validation.py:778: UserWarning: Scoring failed. The score on this train-test partition for these parameters will be set to nan. Details: \n",
            "Traceback (most recent call last):\n",
            "  File \"/usr/local/lib/python3.10/dist-packages/sklearn/model_selection/_validation.py\", line 765, in _score\n",
            "    scores = scorer(estimator, X_test)\n",
            "TypeError: _BaseScorer.__call__() missing 1 required positional argument: 'y_true'\n",
            "\n",
            "  warnings.warn(\n",
            "/usr/local/lib/python3.10/dist-packages/sklearn/model_selection/_validation.py:778: UserWarning: Scoring failed. The score on this train-test partition for these parameters will be set to nan. Details: \n",
            "Traceback (most recent call last):\n",
            "  File \"/usr/local/lib/python3.10/dist-packages/sklearn/model_selection/_validation.py\", line 765, in _score\n",
            "    scores = scorer(estimator, X_test)\n",
            "TypeError: _BaseScorer.__call__() missing 1 required positional argument: 'y_true'\n",
            "\n",
            "  warnings.warn(\n",
            "/usr/local/lib/python3.10/dist-packages/sklearn/model_selection/_validation.py:778: UserWarning: Scoring failed. The score on this train-test partition for these parameters will be set to nan. Details: \n",
            "Traceback (most recent call last):\n",
            "  File \"/usr/local/lib/python3.10/dist-packages/sklearn/model_selection/_validation.py\", line 765, in _score\n",
            "    scores = scorer(estimator, X_test)\n",
            "TypeError: _BaseScorer.__call__() missing 1 required positional argument: 'y_true'\n",
            "\n",
            "  warnings.warn(\n",
            "/usr/local/lib/python3.10/dist-packages/sklearn/model_selection/_validation.py:778: UserWarning: Scoring failed. The score on this train-test partition for these parameters will be set to nan. Details: \n",
            "Traceback (most recent call last):\n",
            "  File \"/usr/local/lib/python3.10/dist-packages/sklearn/model_selection/_validation.py\", line 765, in _score\n",
            "    scores = scorer(estimator, X_test)\n",
            "TypeError: _BaseScorer.__call__() missing 1 required positional argument: 'y_true'\n",
            "\n",
            "  warnings.warn(\n",
            "/usr/local/lib/python3.10/dist-packages/sklearn/model_selection/_validation.py:778: UserWarning: Scoring failed. The score on this train-test partition for these parameters will be set to nan. Details: \n",
            "Traceback (most recent call last):\n",
            "  File \"/usr/local/lib/python3.10/dist-packages/sklearn/model_selection/_validation.py\", line 765, in _score\n",
            "    scores = scorer(estimator, X_test)\n",
            "TypeError: _BaseScorer.__call__() missing 1 required positional argument: 'y_true'\n",
            "\n",
            "  warnings.warn(\n",
            "/usr/local/lib/python3.10/dist-packages/sklearn/model_selection/_validation.py:778: UserWarning: Scoring failed. The score on this train-test partition for these parameters will be set to nan. Details: \n",
            "Traceback (most recent call last):\n",
            "  File \"/usr/local/lib/python3.10/dist-packages/sklearn/model_selection/_validation.py\", line 765, in _score\n",
            "    scores = scorer(estimator, X_test)\n",
            "TypeError: _BaseScorer.__call__() missing 1 required positional argument: 'y_true'\n",
            "\n",
            "  warnings.warn(\n",
            "/usr/local/lib/python3.10/dist-packages/sklearn/model_selection/_validation.py:778: UserWarning: Scoring failed. The score on this train-test partition for these parameters will be set to nan. Details: \n",
            "Traceback (most recent call last):\n",
            "  File \"/usr/local/lib/python3.10/dist-packages/sklearn/model_selection/_validation.py\", line 765, in _score\n",
            "    scores = scorer(estimator, X_test)\n",
            "TypeError: _BaseScorer.__call__() missing 1 required positional argument: 'y_true'\n",
            "\n",
            "  warnings.warn(\n",
            "/usr/local/lib/python3.10/dist-packages/sklearn/model_selection/_validation.py:778: UserWarning: Scoring failed. The score on this train-test partition for these parameters will be set to nan. Details: \n",
            "Traceback (most recent call last):\n",
            "  File \"/usr/local/lib/python3.10/dist-packages/sklearn/model_selection/_validation.py\", line 765, in _score\n",
            "    scores = scorer(estimator, X_test)\n",
            "TypeError: _BaseScorer.__call__() missing 1 required positional argument: 'y_true'\n",
            "\n",
            "  warnings.warn(\n",
            "/usr/local/lib/python3.10/dist-packages/sklearn/model_selection/_validation.py:778: UserWarning: Scoring failed. The score on this train-test partition for these parameters will be set to nan. Details: \n",
            "Traceback (most recent call last):\n",
            "  File \"/usr/local/lib/python3.10/dist-packages/sklearn/model_selection/_validation.py\", line 765, in _score\n",
            "    scores = scorer(estimator, X_test)\n",
            "TypeError: _BaseScorer.__call__() missing 1 required positional argument: 'y_true'\n",
            "\n",
            "  warnings.warn(\n",
            "/usr/local/lib/python3.10/dist-packages/sklearn/model_selection/_validation.py:778: UserWarning: Scoring failed. The score on this train-test partition for these parameters will be set to nan. Details: \n",
            "Traceback (most recent call last):\n",
            "  File \"/usr/local/lib/python3.10/dist-packages/sklearn/model_selection/_validation.py\", line 765, in _score\n",
            "    scores = scorer(estimator, X_test)\n",
            "TypeError: _BaseScorer.__call__() missing 1 required positional argument: 'y_true'\n",
            "\n",
            "  warnings.warn(\n",
            "/usr/local/lib/python3.10/dist-packages/sklearn/model_selection/_validation.py:778: UserWarning: Scoring failed. The score on this train-test partition for these parameters will be set to nan. Details: \n",
            "Traceback (most recent call last):\n",
            "  File \"/usr/local/lib/python3.10/dist-packages/sklearn/model_selection/_validation.py\", line 765, in _score\n",
            "    scores = scorer(estimator, X_test)\n",
            "TypeError: _BaseScorer.__call__() missing 1 required positional argument: 'y_true'\n",
            "\n",
            "  warnings.warn(\n",
            "/usr/local/lib/python3.10/dist-packages/sklearn/model_selection/_validation.py:778: UserWarning: Scoring failed. The score on this train-test partition for these parameters will be set to nan. Details: \n",
            "Traceback (most recent call last):\n",
            "  File \"/usr/local/lib/python3.10/dist-packages/sklearn/model_selection/_validation.py\", line 765, in _score\n",
            "    scores = scorer(estimator, X_test)\n",
            "TypeError: _BaseScorer.__call__() missing 1 required positional argument: 'y_true'\n",
            "\n",
            "  warnings.warn(\n",
            "/usr/local/lib/python3.10/dist-packages/sklearn/model_selection/_validation.py:778: UserWarning: Scoring failed. The score on this train-test partition for these parameters will be set to nan. Details: \n",
            "Traceback (most recent call last):\n",
            "  File \"/usr/local/lib/python3.10/dist-packages/sklearn/model_selection/_validation.py\", line 765, in _score\n",
            "    scores = scorer(estimator, X_test)\n",
            "TypeError: _BaseScorer.__call__() missing 1 required positional argument: 'y_true'\n",
            "\n",
            "  warnings.warn(\n",
            "/usr/local/lib/python3.10/dist-packages/sklearn/model_selection/_validation.py:778: UserWarning: Scoring failed. The score on this train-test partition for these parameters will be set to nan. Details: \n",
            "Traceback (most recent call last):\n",
            "  File \"/usr/local/lib/python3.10/dist-packages/sklearn/model_selection/_validation.py\", line 765, in _score\n",
            "    scores = scorer(estimator, X_test)\n",
            "TypeError: _BaseScorer.__call__() missing 1 required positional argument: 'y_true'\n",
            "\n",
            "  warnings.warn(\n",
            "/usr/local/lib/python3.10/dist-packages/sklearn/model_selection/_validation.py:778: UserWarning: Scoring failed. The score on this train-test partition for these parameters will be set to nan. Details: \n",
            "Traceback (most recent call last):\n",
            "  File \"/usr/local/lib/python3.10/dist-packages/sklearn/model_selection/_validation.py\", line 765, in _score\n",
            "    scores = scorer(estimator, X_test)\n",
            "TypeError: _BaseScorer.__call__() missing 1 required positional argument: 'y_true'\n",
            "\n",
            "  warnings.warn(\n",
            "/usr/local/lib/python3.10/dist-packages/sklearn/model_selection/_validation.py:778: UserWarning: Scoring failed. The score on this train-test partition for these parameters will be set to nan. Details: \n",
            "Traceback (most recent call last):\n",
            "  File \"/usr/local/lib/python3.10/dist-packages/sklearn/model_selection/_validation.py\", line 765, in _score\n",
            "    scores = scorer(estimator, X_test)\n",
            "TypeError: _BaseScorer.__call__() missing 1 required positional argument: 'y_true'\n",
            "\n",
            "  warnings.warn(\n",
            "/usr/local/lib/python3.10/dist-packages/sklearn/model_selection/_validation.py:778: UserWarning: Scoring failed. The score on this train-test partition for these parameters will be set to nan. Details: \n",
            "Traceback (most recent call last):\n",
            "  File \"/usr/local/lib/python3.10/dist-packages/sklearn/model_selection/_validation.py\", line 765, in _score\n",
            "    scores = scorer(estimator, X_test)\n",
            "TypeError: _BaseScorer.__call__() missing 1 required positional argument: 'y_true'\n",
            "\n",
            "  warnings.warn(\n",
            "/usr/local/lib/python3.10/dist-packages/sklearn/model_selection/_validation.py:778: UserWarning: Scoring failed. The score on this train-test partition for these parameters will be set to nan. Details: \n",
            "Traceback (most recent call last):\n",
            "  File \"/usr/local/lib/python3.10/dist-packages/sklearn/model_selection/_validation.py\", line 765, in _score\n",
            "    scores = scorer(estimator, X_test)\n",
            "TypeError: _BaseScorer.__call__() missing 1 required positional argument: 'y_true'\n",
            "\n",
            "  warnings.warn(\n",
            "/usr/local/lib/python3.10/dist-packages/sklearn/model_selection/_validation.py:778: UserWarning: Scoring failed. The score on this train-test partition for these parameters will be set to nan. Details: \n",
            "Traceback (most recent call last):\n",
            "  File \"/usr/local/lib/python3.10/dist-packages/sklearn/model_selection/_validation.py\", line 765, in _score\n",
            "    scores = scorer(estimator, X_test)\n",
            "TypeError: _BaseScorer.__call__() missing 1 required positional argument: 'y_true'\n",
            "\n",
            "  warnings.warn(\n",
            "/usr/local/lib/python3.10/dist-packages/sklearn/model_selection/_validation.py:778: UserWarning: Scoring failed. The score on this train-test partition for these parameters will be set to nan. Details: \n",
            "Traceback (most recent call last):\n",
            "  File \"/usr/local/lib/python3.10/dist-packages/sklearn/model_selection/_validation.py\", line 765, in _score\n",
            "    scores = scorer(estimator, X_test)\n",
            "TypeError: _BaseScorer.__call__() missing 1 required positional argument: 'y_true'\n",
            "\n",
            "  warnings.warn(\n",
            "/usr/local/lib/python3.10/dist-packages/sklearn/model_selection/_validation.py:778: UserWarning: Scoring failed. The score on this train-test partition for these parameters will be set to nan. Details: \n",
            "Traceback (most recent call last):\n",
            "  File \"/usr/local/lib/python3.10/dist-packages/sklearn/model_selection/_validation.py\", line 765, in _score\n",
            "    scores = scorer(estimator, X_test)\n",
            "TypeError: _BaseScorer.__call__() missing 1 required positional argument: 'y_true'\n",
            "\n",
            "  warnings.warn(\n",
            "/usr/local/lib/python3.10/dist-packages/sklearn/model_selection/_search.py:952: UserWarning: One or more of the test scores are non-finite: [nan nan nan nan nan nan nan nan nan nan nan nan nan nan nan nan]\n",
            "  warnings.warn(\n"
          ]
        },
        {
          "output_type": "execute_result",
          "data": {
            "text/plain": [
              "RandomForestClassifier(n_estimators=50)"
            ],
            "text/html": [
              "<style>#sk-container-id-4 {color: black;background-color: white;}#sk-container-id-4 pre{padding: 0;}#sk-container-id-4 div.sk-toggleable {background-color: white;}#sk-container-id-4 label.sk-toggleable__label {cursor: pointer;display: block;width: 100%;margin-bottom: 0;padding: 0.3em;box-sizing: border-box;text-align: center;}#sk-container-id-4 label.sk-toggleable__label-arrow:before {content: \"▸\";float: left;margin-right: 0.25em;color: #696969;}#sk-container-id-4 label.sk-toggleable__label-arrow:hover:before {color: black;}#sk-container-id-4 div.sk-estimator:hover label.sk-toggleable__label-arrow:before {color: black;}#sk-container-id-4 div.sk-toggleable__content {max-height: 0;max-width: 0;overflow: hidden;text-align: left;background-color: #f0f8ff;}#sk-container-id-4 div.sk-toggleable__content pre {margin: 0.2em;color: black;border-radius: 0.25em;background-color: #f0f8ff;}#sk-container-id-4 input.sk-toggleable__control:checked~div.sk-toggleable__content {max-height: 200px;max-width: 100%;overflow: auto;}#sk-container-id-4 input.sk-toggleable__control:checked~label.sk-toggleable__label-arrow:before {content: \"▾\";}#sk-container-id-4 div.sk-estimator input.sk-toggleable__control:checked~label.sk-toggleable__label {background-color: #d4ebff;}#sk-container-id-4 div.sk-label input.sk-toggleable__control:checked~label.sk-toggleable__label {background-color: #d4ebff;}#sk-container-id-4 input.sk-hidden--visually {border: 0;clip: rect(1px 1px 1px 1px);clip: rect(1px, 1px, 1px, 1px);height: 1px;margin: -1px;overflow: hidden;padding: 0;position: absolute;width: 1px;}#sk-container-id-4 div.sk-estimator {font-family: monospace;background-color: #f0f8ff;border: 1px dotted black;border-radius: 0.25em;box-sizing: border-box;margin-bottom: 0.5em;}#sk-container-id-4 div.sk-estimator:hover {background-color: #d4ebff;}#sk-container-id-4 div.sk-parallel-item::after {content: \"\";width: 100%;border-bottom: 1px solid gray;flex-grow: 1;}#sk-container-id-4 div.sk-label:hover label.sk-toggleable__label {background-color: #d4ebff;}#sk-container-id-4 div.sk-serial::before {content: \"\";position: absolute;border-left: 1px solid gray;box-sizing: border-box;top: 0;bottom: 0;left: 50%;z-index: 0;}#sk-container-id-4 div.sk-serial {display: flex;flex-direction: column;align-items: center;background-color: white;padding-right: 0.2em;padding-left: 0.2em;position: relative;}#sk-container-id-4 div.sk-item {position: relative;z-index: 1;}#sk-container-id-4 div.sk-parallel {display: flex;align-items: stretch;justify-content: center;background-color: white;position: relative;}#sk-container-id-4 div.sk-item::before, #sk-container-id-4 div.sk-parallel-item::before {content: \"\";position: absolute;border-left: 1px solid gray;box-sizing: border-box;top: 0;bottom: 0;left: 50%;z-index: -1;}#sk-container-id-4 div.sk-parallel-item {display: flex;flex-direction: column;z-index: 1;position: relative;background-color: white;}#sk-container-id-4 div.sk-parallel-item:first-child::after {align-self: flex-end;width: 50%;}#sk-container-id-4 div.sk-parallel-item:last-child::after {align-self: flex-start;width: 50%;}#sk-container-id-4 div.sk-parallel-item:only-child::after {width: 0;}#sk-container-id-4 div.sk-dashed-wrapped {border: 1px dashed gray;margin: 0 0.4em 0.5em 0.4em;box-sizing: border-box;padding-bottom: 0.4em;background-color: white;}#sk-container-id-4 div.sk-label label {font-family: monospace;font-weight: bold;display: inline-block;line-height: 1.2em;}#sk-container-id-4 div.sk-label-container {text-align: center;}#sk-container-id-4 div.sk-container {/* jupyter's `normalize.less` sets `[hidden] { display: none; }` but bootstrap.min.css set `[hidden] { display: none !important; }` so we also need the `!important` here to be able to override the default hidden behavior on the sphinx rendered scikit-learn.org. See: https://github.com/scikit-learn/scikit-learn/issues/21755 */display: inline-block !important;position: relative;}#sk-container-id-4 div.sk-text-repr-fallback {display: none;}</style><div id=\"sk-container-id-4\" class=\"sk-top-container\"><div class=\"sk-text-repr-fallback\"><pre>RandomForestClassifier(n_estimators=50)</pre><b>In a Jupyter environment, please rerun this cell to show the HTML representation or trust the notebook. <br />On GitHub, the HTML representation is unable to render, please try loading this page with nbviewer.org.</b></div><div class=\"sk-container\" hidden><div class=\"sk-item\"><div class=\"sk-estimator sk-toggleable\"><input class=\"sk-toggleable__control sk-hidden--visually\" id=\"sk-estimator-id-6\" type=\"checkbox\" checked><label for=\"sk-estimator-id-6\" class=\"sk-toggleable__label sk-toggleable__label-arrow\">RandomForestClassifier</label><div class=\"sk-toggleable__content\"><pre>RandomForestClassifier(n_estimators=50)</pre></div></div></div></div></div>"
            ]
          },
          "metadata": {},
          "execution_count": 62
        }
      ]
    },
    {
      "cell_type": "markdown",
      "source": [
        "- En este código, primero estás utilizando GridSearchCV para encontrar los mejores hiperparámetros para DBSCAN basándote en la función de puntuación personalizada. Luego, estás utilizando el mejor estimador de DBSCAN para ajustar los datos y predecir los clusters. Después, estás añadiendo las etiquetas de los clusters como una nueva característica a los datos. Finalmente, estás utilizando GridSearchCV para encontrar los mejores hiperparámetros para Random Forest y ajustar el modelo con los datos ampliados."
      ],
      "metadata": {
        "id": "FeSLKVZLSdnl"
      }
    },
    {
      "cell_type": "markdown",
      "source": [
        "# Evaluación diagnóstica"
      ],
      "metadata": {
        "id": "sqwMaUWCUrlL"
      }
    },
    {
      "cell_type": "markdown",
      "source": [
        "## Diagnóstico de overfitting/bias\n",
        "\n",
        "---\n",
        "\n"
      ],
      "metadata": {
        "id": "mpdaMt9PX3dA"
      }
    },
    {
      "cell_type": "markdown",
      "source": [
        "- En este código, primero se esta realizando la validación cruzada en el modelo para obtener una estimación del **rendimiento del modelo**. Luego, se esta generando las curvas de aprendizaje, que muestran el **rendimiento del modelo en los conjuntos de entrenamiento y prueba** en función del tamaño del conjunto de entrenamiento."
      ],
      "metadata": {
        "id": "vA47GWG9WaFj"
      }
    },
    {
      "cell_type": "code",
      "source": [
        "from sklearn.model_selection import cross_val_score, learning_curve\n",
        "import matplotlib.pyplot as plt\n",
        "import numpy as np\n",
        "\n",
        "# 'model' es el modelo supervisado (p.ej., LogisticRegression, RandomForest)\n",
        "# y 'X' e 'y' son los datos y etiquetas, respectivamente\n",
        "\n",
        "# Realiza la validación cruzada\n",
        "scores = cross_val_score(model, X, y, cv=5)\n",
        "\n",
        "# Imprime los scores de la validación cruzada\n",
        "print(\"Scores de la validación cruzada: \", scores)\n",
        "print(\"Media de los scores: \", np.mean(scores))\n",
        "\n",
        "# Genera las curvas de aprendizaje\n",
        "train_sizes, train_scores, test_scores = learning_curve(model, X, y, cv=5)\n",
        "\n",
        "# Calcula la media y la desviación estándar de los scores de entrenamiento y prueba\n",
        "train_scores_mean = np.mean(train_scores, axis=1)\n",
        "train_scores_std = np.std(train_scores, axis=1)\n",
        "test_scores_mean = np.mean(test_scores, axis=1)\n",
        "test_scores_std = np.std(test_scores, axis=1)\n",
        "\n",
        "# Grafica las curvas de aprendizaje\n",
        "plt.fill_between(train_sizes, train_scores_mean - train_scores_std,\n",
        "                 train_scores_mean + train_scores_std, alpha=0.1, color=\"r\")\n",
        "plt.fill_between(train_sizes, test_scores_mean - test_scores_std,\n",
        "                 test_scores_mean + test_scores_std, alpha=0.1, color=\"g\")\n",
        "plt.plot(train_sizes, train_scores_mean, 'o-', color=\"r\", label=\"Training score\")\n",
        "plt.plot(train_sizes, test_scores_mean, 'o-', color=\"g\", label=\"Cross-validation score\")\n",
        "plt.legend(loc=\"best\")\n",
        "plt.show()\n"
      ],
      "metadata": {
        "colab": {
          "base_uri": "https://localhost:8080/",
          "height": 465
        },
        "id": "1xSIS2PKUsSR",
        "outputId": "78c03b2a-d616-4577-be24-4f79abd221a7"
      },
      "execution_count": 63,
      "outputs": [
        {
          "output_type": "stream",
          "name": "stdout",
          "text": [
            "Scores de la validación cruzada:  [1. 1. 1. 1. 1.]\n",
            "Media de los scores:  1.0\n"
          ]
        },
        {
          "output_type": "display_data",
          "data": {
            "text/plain": [
              "<Figure size 640x480 with 1 Axes>"
            ],
            "image/png": "[encoded data removed]"
          },
          "metadata": {}
        }
      ]
    },
    {
      "cell_type": "markdown",
      "source": [
        "- La línea roja representa el “**Training score**”, es decir, el rendimiento del modelo en el conjunto de entrenamiento. Si esta línea es alta, significa que el modelo está aprendiendo bien de los datos de entrenamiento.\n",
        "\n",
        "- La línea verde representa el “**Cross-validation score**”, es decir, el rendimiento del modelo en un conjunto de validación que no se utiliza para el entrenamiento. Esta línea da una buena idea de cómo el modelo generalizará a nuevos datos.\n",
        "\n",
        "- En este caso, ambas líneas están en el valor máximo de 1.0, lo que indica que el modelo tiene un rendimiento excelente tanto en el conjunto de entrenamiento como en el de validación. Esto podría ser una señal de que el modelo está sobreajustando los datos, especialmente si se tiene un conjunto de datos pequeño."
      ],
      "metadata": {
        "id": "RYprmY_oW2AO"
      }
    },
    {
      "cell_type": "markdown",
      "source": [
        "## Recomendaciones\n",
        "\n",
        "---\n",
        "\n"
      ],
      "metadata": {
        "id": "O8gb5SekYhwF"
      }
    },
    {
      "cell_type": "markdown",
      "source": [
        "Observando los resultados obtenidos, se puede deducir que el modelo está teniendo un rendimiento excelente en los datos de entrenamiento y validación. Aunque esto puede parecer ideal, también podría ser una señal de que el modelo está sobreajustando los datos. El sobreajuste ocurre cuando un modelo aprende tan bien los datos de entrenamiento que no generaliza bien a nuevos datos. Aquí se mencionan algunas recomendaciones para mejorar el rendimiento del modelo:\n",
        "\n",
        "1. **Reducir la complejidad del modelo**: Si el modelo está sobreajustado, se puede intentar reducir la complejidad del modelo. Esto podría implicar eliminar algunas características, utilizar un modelo más simple o aumentar la regularización.\n",
        "\n",
        "2. **Recopilar más datos**: Si es posible, recopilar más datos puede ayudar a mejorar el rendimiento del modelo. Los modelos de machine learning suelen obtener mejor rendimiento con mayor cantidad de datos.\n",
        "\n",
        "3. **Probar diferentes algoritmos**: Cada algoritmo de machine learning tiene sus propias fortalezas y debilidades, y algunos algoritmos pueden funcionar mejor en ciertos tipos de datos o problemas que otros."
      ],
      "metadata": {
        "id": "wURmuGMAZCdN"
      }
    },
    {
      "cell_type": "markdown",
      "source": [
        "## Evaluación Sobre el Despliegue del Modelo en Producción\n",
        "\n",
        "---\n",
        "\n"
      ],
      "metadata": {
        "id": "_c7yfzxFbhF_"
      }
    },
    {
      "cell_type": "markdown",
      "source": [
        "Desplegar un modelo de machine learning en producción puede ser un desafío, pero también es un paso crucial para obtener valor de tus modelos. Aquí se enumerarán algunas consideraciones que se podrían tener en cuenta:\n",
        "\n",
        "1. **Establecer un nivel de rendimiento mínimo**: Antes de desplegar un modelo en producción, se debe establecer un nivel de rendimiento mínimo que el modelo debe alcanzar. Este nivel dependerá de las necesidades específicas de la aplicación. Por ejemplo, si se esta intentado conocer si una cantidad determinanda de clientes abandonarán o no una compañia de telocuminicaciones según información demográfica y personal, se podría decidir que el modelo debe ser capaz de predecir correctamente la tasa de abandono de los clientes al menos el 70% de las veces.\n",
        "\n",
        "2. **Despliegue del modelo**: El proceso de despliegue del modelo puede variar dependiendo de la infraestructura. Algunas empresas utilizan servidores en la nube para alojar sus modelos, mientras que otras pueden tener sus propios servidores locales. Independientemente de la infraestructura que se utilice, es importante asegurarse de que el modelo esté alojado en un entorno que pueda manejar la carga de trabajo prevista.\n",
        "\n",
        "3. **Monitoreo del rendimiento en producción**: Una vez que el modelo está en producción, es importante seguir monitorizando su rendimiento para asegurarse de que sigue funcionando como se espera. se puede hacer esto recogiendo regularmente datos de retroalimentación y utilizándolos para evaluar el rendimiento del modelo. Si el rendimiento del modelo comienza a disminuir, puede ser necesario reentrenarlo con nuevos datos.\n",
        "\n",
        "4. **Actualización del modelo**: Los modelos de machine learning no son estáticos. A medida que se recogen más datos, es probable que se necesite reentrenar y actualizar el modelo para asegurarse de que sigue siendo relevante. Esto puede implicar ajustar los hiperparámetros del modelo, añadir nuevas características o incluso cambiar a un tipo de modelo completamente diferente."
      ],
      "metadata": {
        "id": "TXYxbrJHbotu"
      }
    },
    {
      "cell_type": "code",
      "source": [
        "print(X.columns)\n",
        "print('\\n',X.shape)"
      ],
      "metadata": {
        "colab": {
          "base_uri": "https://localhost:8080/"
        },
        "id": "gxOQEElIvG4r",
        "outputId": "5feec222-eb5b-42f7-856d-30af91c12189"
      },
      "execution_count": 64,
      "outputs": [
        {
          "output_type": "stream",
          "name": "stdout",
          "text": [
            "Index(['CLTV', 'Churn Score', 'Churn Value', 'City', 'Contract', 'Dependents',\n",
            "       'Device Protection', 'Gender', 'Internet Service', 'Monthly Charges',\n",
            "       'Multiple Lines', 'Online Backup', 'Online Security',\n",
            "       'Paperless Billing', 'Partner', 'Payment Method', 'Phone Service',\n",
            "       'Senior Citizen', 'Streaming Movies', 'Streaming TV', 'Tech Support',\n",
            "       'Tenure Months', 'KMeans_Clusters'],\n",
            "      dtype='object')\n",
            "\n",
            " (7043, 23)\n"
          ]
        }
      ]
    }
  ]
}