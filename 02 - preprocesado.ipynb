{
  "nbformat": 4,
  "nbformat_minor": 0,
  "metadata": {
    "colab": {
      "provenance": [],
      "collapsed_sections": [
        "uAobqiYNIpHG",
        "GIsKwgljb86S",
        "g9m7y-Ogr9I-",
        "9vRdJLkixciV",
        "GNcKrYyvrwl-",
        "KRBmX-NYWfHu",
        "IhGu5TbHZ6ux"
      ],
      "authorship_tag": "ABX9TyOsVKyr0JqgUZ6kZ5VtS9rR",
      "include_colab_link": true
    },
    "kernelspec": {
      "name": "python3",
      "display_name": "Python 3"
    },
    "language_info": {
      "name": "python"
    }
  },
  "cells": [
    {
      "cell_type": "markdown",
      "metadata": {
        "id": "view-in-github",
        "colab_type": "text"
      },
      "source": [
        "<a href=\"https://colab.research.google.com/github/Camilo899/IntroduccionIA/blob/main/02%20-%20preprocesado.ipynb\" target=\"_parent\"><img src=\"https://colab.research.google.com/assets/colab-badge.svg\" alt=\"Open In Colab\"/></a>"
      ]
    },
    {
      "cell_type": "markdown",
      "source": [
        "# **Exploración de Datos**\n",
        "\n",
        "\n",
        "---\n",
        "\n",
        "\n",
        "---\n",
        "\n"
      ],
      "metadata": {
        "id": "GaFnOqh3eyCm"
      }
    },
    {
      "cell_type": "markdown",
      "source": [
        "# **Importando Librearías**\n",
        "\n",
        "---\n",
        "\n"
      ],
      "metadata": {
        "id": "2XBXhvdlH9w-"
      }
    },
    {
      "cell_type": "code",
      "execution_count": null,
      "metadata": {
        "id": "c0ReK1oSH44D"
      },
      "outputs": [],
      "source": [
        "import numpy as np\n",
        "import pandas as pd\n",
        "import matplotlib.pyplot as plt\n",
        "from sklearn.cluster import KMeans\n",
        "import seaborn as sns\n",
        "\n",
        "from sklearn.preprocessing import MinMaxScaler\n",
        "\n",
        "from sklearn.model_selection import train_test_split\n",
        "from sklearn.linear_model import LogisticRegression\n",
        "from sklearn.metrics import accuracy_score, recall_score, precision_score, f1_score, roc_auc_score\n"
      ]
    },
    {
      "cell_type": "markdown",
      "source": [
        "# Aq**uisición de Datos**\n",
        "\n",
        "---\n",
        "\n"
      ],
      "metadata": {
        "id": "INWeT9ycIIZy"
      }
    },
    {
      "cell_type": "markdown",
      "source": [
        "## Accediendo al Drive"
      ],
      "metadata": {
        "id": "cizSQKElIPdk"
      }
    },
    {
      "cell_type": "code",
      "source": [
        "from google.colab import drive\n",
        "drive.mount('/content/drive')"
      ],
      "metadata": {
        "colab": {
          "base_uri": "https://localhost:8080/"
        },
        "id": "fk3oqPOvISqC",
        "outputId": "77102558-011a-4967-d482-15714a7776c5"
      },
      "execution_count": null,
      "outputs": [
        {
          "output_type": "stream",
          "name": "stdout",
          "text": [
            "Drive already mounted at /content/drive; to attempt to forcibly remount, call drive.mount(\"/content/drive\", force_remount=True).\n"
          ]
        }
      ]
    },
    {
      "cell_type": "markdown",
      "source": [
        "## Cargando Base de Datos (Drive)"
      ],
      "metadata": {
        "id": "Pl-C9AImIXq9"
      }
    },
    {
      "cell_type": "code",
      "source": [
        "data = pd.read_excel('/content/drive/MyDrive/UDEA/2023-02/IntroduccionIA/Proyecto/Telco_customer_churn.xlsx')"
      ],
      "metadata": {
        "id": "0CLcod0UIdFw"
      },
      "execution_count": null,
      "outputs": []
    },
    {
      "cell_type": "markdown",
      "source": [
        "## ***Cargando de Forma Local***"
      ],
      "metadata": {
        "id": "QPL2qtFvQGeH"
      }
    },
    {
      "cell_type": "code",
      "source": [
        "# Cargar el archivo Excel en un data_2Frame\n",
        "data = pd.read_excel('/content/Telco_customer_churn.xlsx')"
      ],
      "metadata": {
        "id": "na0WwcKcLs8H"
      },
      "execution_count": null,
      "outputs": []
    },
    {
      "cell_type": "markdown",
      "source": [
        "- **Nota**: Los datos de la Base de Datos Provienen de : https://www.kaggle.com/datasets/yeanzc/telco-customer-churn-ibm-dataset"
      ],
      "metadata": {
        "id": "2OaSwR5YPz5t"
      }
    },
    {
      "cell_type": "markdown",
      "source": [
        "## **Revisión Inicial**\n",
        "\n",
        "---\n",
        "\n"
      ],
      "metadata": {
        "id": "uAobqiYNIpHG"
      }
    },
    {
      "cell_type": "code",
      "source": [
        "data.head()"
      ],
      "metadata": {
        "colab": {
          "base_uri": "https://localhost:8080/",
          "height": 394
        },
        "id": "rnhOAOnWI1nd",
        "outputId": "db95261c-f156-451a-ed2f-ba00029cde82"
      },
      "execution_count": null,
      "outputs": [
        {
          "output_type": "execute_result",
          "data": {
            "text/plain": [
              "   CustomerID  Count        Country       State         City  Zip Code  \\\n",
              "0  3668-QPYBK      1  United States  California  Los Angeles     90003   \n",
              "1  9237-HQITU      1  United States  California  Los Angeles     90005   \n",
              "2  9305-CDSKC      1  United States  California  Los Angeles     90006   \n",
              "3  7892-POOKP      1  United States  California  Los Angeles     90010   \n",
              "4  0280-XJGEX      1  United States  California  Los Angeles     90015   \n",
              "\n",
              "                 Lat Long   Latitude   Longitude  Gender  ...        Contract  \\\n",
              "0  33.964131, -118.272783  33.964131 -118.272783    Male  ...  Month-to-month   \n",
              "1   34.059281, -118.30742  34.059281 -118.307420  Female  ...  Month-to-month   \n",
              "2  34.048013, -118.293953  34.048013 -118.293953  Female  ...  Month-to-month   \n",
              "3  34.062125, -118.315709  34.062125 -118.315709  Female  ...  Month-to-month   \n",
              "4  34.039224, -118.266293  34.039224 -118.266293    Male  ...  Month-to-month   \n",
              "\n",
              "  Paperless Billing             Payment Method  Monthly Charges Total Charges  \\\n",
              "0               Yes               Mailed check            53.85        108.15   \n",
              "1               Yes           Electronic check            70.70        151.65   \n",
              "2               Yes           Electronic check            99.65         820.5   \n",
              "3               Yes           Electronic check           104.80       3046.05   \n",
              "4               Yes  Bank transfer (automatic)           103.70        5036.3   \n",
              "\n",
              "  Churn Label Churn Value Churn Score  CLTV                   Churn Reason  \n",
              "0         Yes           1          86  3239   Competitor made better offer  \n",
              "1         Yes           1          67  2701                          Moved  \n",
              "2         Yes           1          86  5372                          Moved  \n",
              "3         Yes           1          84  5003                          Moved  \n",
              "4         Yes           1          89  5340  Competitor had better devices  \n",
              "\n",
              "[5 rows x 33 columns]"
            ],
            "text/html": [
              "\n",
              "  <div id=\"df-6e2d2e04-acc8-4da2-83c3-bf07135e2a13\" class=\"colab-df-container\">\n",
              "    <div>\n",
              "<style scoped>\n",
              "    .dataframe tbody tr th:only-of-type {\n",
              "        vertical-align: middle;\n",
              "    }\n",
              "\n",
              "    .dataframe tbody tr th {\n",
              "        vertical-align: top;\n",
              "    }\n",
              "\n",
              "    .dataframe thead th {\n",
              "        text-align: right;\n",
              "    }\n",
              "</style>\n",
              "<table border=\"1\" class=\"dataframe\">\n",
              "  <thead>\n",
              "    <tr style=\"text-align: right;\">\n",
              "      <th></th>\n",
              "      <th>CustomerID</th>\n",
              "      <th>Count</th>\n",
              "      <th>Country</th>\n",
              "      <th>State</th>\n",
              "      <th>City</th>\n",
              "      <th>Zip Code</th>\n",
              "      <th>Lat Long</th>\n",
              "      <th>Latitude</th>\n",
              "      <th>Longitude</th>\n",
              "      <th>Gender</th>\n",
              "      <th>...</th>\n",
              "      <th>Contract</th>\n",
              "      <th>Paperless Billing</th>\n",
              "      <th>Payment Method</th>\n",
              "      <th>Monthly Charges</th>\n",
              "      <th>Total Charges</th>\n",
              "      <th>Churn Label</th>\n",
              "      <th>Churn Value</th>\n",
              "      <th>Churn Score</th>\n",
              "      <th>CLTV</th>\n",
              "      <th>Churn Reason</th>\n",
              "    </tr>\n",
              "  </thead>\n",
              "  <tbody>\n",
              "    <tr>\n",
              "      <th>0</th>\n",
              "      <td>3668-QPYBK</td>\n",
              "      <td>1</td>\n",
              "      <td>United States</td>\n",
              "      <td>California</td>\n",
              "      <td>Los Angeles</td>\n",
              "      <td>90003</td>\n",
              "      <td>33.964131, -118.272783</td>\n",
              "      <td>33.964131</td>\n",
              "      <td>-118.272783</td>\n",
              "      <td>Male</td>\n",
              "      <td>...</td>\n",
              "      <td>Month-to-month</td>\n",
              "      <td>Yes</td>\n",
              "      <td>Mailed check</td>\n",
              "      <td>53.85</td>\n",
              "      <td>108.15</td>\n",
              "      <td>Yes</td>\n",
              "      <td>1</td>\n",
              "      <td>86</td>\n",
              "      <td>3239</td>\n",
              "      <td>Competitor made better offer</td>\n",
              "    </tr>\n",
              "    <tr>\n",
              "      <th>1</th>\n",
              "      <td>9237-HQITU</td>\n",
              "      <td>1</td>\n",
              "      <td>United States</td>\n",
              "      <td>California</td>\n",
              "      <td>Los Angeles</td>\n",
              "      <td>90005</td>\n",
              "      <td>34.059281, -118.30742</td>\n",
              "      <td>34.059281</td>\n",
              "      <td>-118.307420</td>\n",
              "      <td>Female</td>\n",
              "      <td>...</td>\n",
              "      <td>Month-to-month</td>\n",
              "      <td>Yes</td>\n",
              "      <td>Electronic check</td>\n",
              "      <td>70.70</td>\n",
              "      <td>151.65</td>\n",
              "      <td>Yes</td>\n",
              "      <td>1</td>\n",
              "      <td>67</td>\n",
              "      <td>2701</td>\n",
              "      <td>Moved</td>\n",
              "    </tr>\n",
              "    <tr>\n",
              "      <th>2</th>\n",
              "      <td>9305-CDSKC</td>\n",
              "      <td>1</td>\n",
              "      <td>United States</td>\n",
              "      <td>California</td>\n",
              "      <td>Los Angeles</td>\n",
              "      <td>90006</td>\n",
              "      <td>34.048013, -118.293953</td>\n",
              "      <td>34.048013</td>\n",
              "      <td>-118.293953</td>\n",
              "      <td>Female</td>\n",
              "      <td>...</td>\n",
              "      <td>Month-to-month</td>\n",
              "      <td>Yes</td>\n",
              "      <td>Electronic check</td>\n",
              "      <td>99.65</td>\n",
              "      <td>820.5</td>\n",
              "      <td>Yes</td>\n",
              "      <td>1</td>\n",
              "      <td>86</td>\n",
              "      <td>5372</td>\n",
              "      <td>Moved</td>\n",
              "    </tr>\n",
              "    <tr>\n",
              "      <th>3</th>\n",
              "      <td>7892-POOKP</td>\n",
              "      <td>1</td>\n",
              "      <td>United States</td>\n",
              "      <td>California</td>\n",
              "      <td>Los Angeles</td>\n",
              "      <td>90010</td>\n",
              "      <td>34.062125, -118.315709</td>\n",
              "      <td>34.062125</td>\n",
              "      <td>-118.315709</td>\n",
              "      <td>Female</td>\n",
              "      <td>...</td>\n",
              "      <td>Month-to-month</td>\n",
              "      <td>Yes</td>\n",
              "      <td>Electronic check</td>\n",
              "      <td>104.80</td>\n",
              "      <td>3046.05</td>\n",
              "      <td>Yes</td>\n",
              "      <td>1</td>\n",
              "      <td>84</td>\n",
              "      <td>5003</td>\n",
              "      <td>Moved</td>\n",
              "    </tr>\n",
              "    <tr>\n",
              "      <th>4</th>\n",
              "      <td>0280-XJGEX</td>\n",
              "      <td>1</td>\n",
              "      <td>United States</td>\n",
              "      <td>California</td>\n",
              "      <td>Los Angeles</td>\n",
              "      <td>90015</td>\n",
              "      <td>34.039224, -118.266293</td>\n",
              "      <td>34.039224</td>\n",
              "      <td>-118.266293</td>\n",
              "      <td>Male</td>\n",
              "      <td>...</td>\n",
              "      <td>Month-to-month</td>\n",
              "      <td>Yes</td>\n",
              "      <td>Bank transfer (automatic)</td>\n",
              "      <td>103.70</td>\n",
              "      <td>5036.3</td>\n",
              "      <td>Yes</td>\n",
              "      <td>1</td>\n",
              "      <td>89</td>\n",
              "      <td>5340</td>\n",
              "      <td>Competitor had better devices</td>\n",
              "    </tr>\n",
              "  </tbody>\n",
              "</table>\n",
              "<p>5 rows × 33 columns</p>\n",
              "</div>\n",
              "    <div class=\"colab-df-buttons\">\n",
              "\n",
              "  <div class=\"colab-df-container\">\n",
              "    <button class=\"colab-df-convert\" onclick=\"convertToInteractive('df-6e2d2e04-acc8-4da2-83c3-bf07135e2a13')\"\n",
              "            title=\"Convert this dataframe to an interactive table.\"\n",
              "            style=\"display:none;\">\n",
              "\n",
              "  <svg xmlns=\"http://www.w3.org/2000/svg\" height=\"24px\" viewBox=\"0 -960 960 960\">\n",
              "    <path d=\"M120-120v-720h720v720H120Zm60-500h600v-160H180v160Zm220 220h160v-160H400v160Zm0 220h160v-160H400v160ZM180-400h160v-160H180v160Zm440 0h160v-160H620v160ZM180-180h160v-160H180v160Zm440 0h160v-160H620v160Z\"/>\n",
              "  </svg>\n",
              "    </button>\n",
              "\n",
              "  <style>\n",
              "    .colab-df-container {\n",
              "      display:flex;\n",
              "      gap: 12px;\n",
              "    }\n",
              "\n",
              "    .colab-df-convert {\n",
              "      background-color: #E8F0FE;\n",
              "      border: none;\n",
              "      border-radius: 50%;\n",
              "      cursor: pointer;\n",
              "      display: none;\n",
              "      fill: #1967D2;\n",
              "      height: 32px;\n",
              "      padding: 0 0 0 0;\n",
              "      width: 32px;\n",
              "    }\n",
              "\n",
              "    .colab-df-convert:hover {\n",
              "      background-color: #E2EBFA;\n",
              "      box-shadow: 0px 1px 2px rgba(60, 64, 67, 0.3), 0px 1px 3px 1px rgba(60, 64, 67, 0.15);\n",
              "      fill: #174EA6;\n",
              "    }\n",
              "\n",
              "    .colab-df-buttons div {\n",
              "      margin-bottom: 4px;\n",
              "    }\n",
              "\n",
              "    [theme=dark] .colab-df-convert {\n",
              "      background-color: #3B4455;\n",
              "      fill: #D2E3FC;\n",
              "    }\n",
              "\n",
              "    [theme=dark] .colab-df-convert:hover {\n",
              "      background-color: #434B5C;\n",
              "      box-shadow: 0px 1px 3px 1px rgba(0, 0, 0, 0.15);\n",
              "      filter: drop-shadow(0px 1px 2px rgba(0, 0, 0, 0.3));\n",
              "      fill: #FFFFFF;\n",
              "    }\n",
              "  </style>\n",
              "\n",
              "    <script>\n",
              "      const buttonEl =\n",
              "        document.querySelector('#df-6e2d2e04-acc8-4da2-83c3-bf07135e2a13 button.colab-df-convert');\n",
              "      buttonEl.style.display =\n",
              "        google.colab.kernel.accessAllowed ? 'block' : 'none';\n",
              "\n",
              "      async function convertToInteractive(key) {\n",
              "        const element = document.querySelector('#df-6e2d2e04-acc8-4da2-83c3-bf07135e2a13');\n",
              "        const dataTable =\n",
              "          await google.colab.kernel.invokeFunction('convertToInteractive',\n",
              "                                                    [key], {});\n",
              "        if (!dataTable) return;\n",
              "\n",
              "        const docLinkHtml = 'Like what you see? Visit the ' +\n",
              "          '<a target=\"_blank\" href=https://colab.research.google.com/notebooks/data_table.ipynb>data table notebook</a>'\n",
              "          + ' to learn more about interactive tables.';\n",
              "        element.innerHTML = '';\n",
              "        dataTable['output_type'] = 'display_data';\n",
              "        await google.colab.output.renderOutput(dataTable, element);\n",
              "        const docLink = document.createElement('div');\n",
              "        docLink.innerHTML = docLinkHtml;\n",
              "        element.appendChild(docLink);\n",
              "      }\n",
              "    </script>\n",
              "  </div>\n",
              "\n",
              "\n",
              "<div id=\"df-72cba9f7-f3b5-4400-b27d-f3d7edde1d5f\">\n",
              "  <button class=\"colab-df-quickchart\" onclick=\"quickchart('df-72cba9f7-f3b5-4400-b27d-f3d7edde1d5f')\"\n",
              "            title=\"Suggest charts.\"\n",
              "            style=\"display:none;\">\n",
              "\n",
              "<svg xmlns=\"http://www.w3.org/2000/svg\" height=\"24px\"viewBox=\"0 0 24 24\"\n",
              "     width=\"24px\">\n",
              "    <g>\n",
              "        <path d=\"M19 3H5c-1.1 0-2 .9-2 2v14c0 1.1.9 2 2 2h14c1.1 0 2-.9 2-2V5c0-1.1-.9-2-2-2zM9 17H7v-7h2v7zm4 0h-2V7h2v10zm4 0h-2v-4h2v4z\"/>\n",
              "    </g>\n",
              "</svg>\n",
              "  </button>\n",
              "\n",
              "<style>\n",
              "  .colab-df-quickchart {\n",
              "      --bg-color: #E8F0FE;\n",
              "      --fill-color: #1967D2;\n",
              "      --hover-bg-color: #E2EBFA;\n",
              "      --hover-fill-color: #174EA6;\n",
              "      --disabled-fill-color: #AAA;\n",
              "      --disabled-bg-color: #DDD;\n",
              "  }\n",
              "\n",
              "  [theme=dark] .colab-df-quickchart {\n",
              "      --bg-color: #3B4455;\n",
              "      --fill-color: #D2E3FC;\n",
              "      --hover-bg-color: #434B5C;\n",
              "      --hover-fill-color: #FFFFFF;\n",
              "      --disabled-bg-color: #3B4455;\n",
              "      --disabled-fill-color: #666;\n",
              "  }\n",
              "\n",
              "  .colab-df-quickchart {\n",
              "    background-color: var(--bg-color);\n",
              "    border: none;\n",
              "    border-radius: 50%;\n",
              "    cursor: pointer;\n",
              "    display: none;\n",
              "    fill: var(--fill-color);\n",
              "    height: 32px;\n",
              "    padding: 0;\n",
              "    width: 32px;\n",
              "  }\n",
              "\n",
              "  .colab-df-quickchart:hover {\n",
              "    background-color: var(--hover-bg-color);\n",
              "    box-shadow: 0 1px 2px rgba(60, 64, 67, 0.3), 0 1px 3px 1px rgba(60, 64, 67, 0.15);\n",
              "    fill: var(--button-hover-fill-color);\n",
              "  }\n",
              "\n",
              "  .colab-df-quickchart-complete:disabled,\n",
              "  .colab-df-quickchart-complete:disabled:hover {\n",
              "    background-color: var(--disabled-bg-color);\n",
              "    fill: var(--disabled-fill-color);\n",
              "    box-shadow: none;\n",
              "  }\n",
              "\n",
              "  .colab-df-spinner {\n",
              "    border: 2px solid var(--fill-color);\n",
              "    border-color: transparent;\n",
              "    border-bottom-color: var(--fill-color);\n",
              "    animation:\n",
              "      spin 1s steps(1) infinite;\n",
              "  }\n",
              "\n",
              "  @keyframes spin {\n",
              "    0% {\n",
              "      border-color: transparent;\n",
              "      border-bottom-color: var(--fill-color);\n",
              "      border-left-color: var(--fill-color);\n",
              "    }\n",
              "    20% {\n",
              "      border-color: transparent;\n",
              "      border-left-color: var(--fill-color);\n",
              "      border-top-color: var(--fill-color);\n",
              "    }\n",
              "    30% {\n",
              "      border-color: transparent;\n",
              "      border-left-color: var(--fill-color);\n",
              "      border-top-color: var(--fill-color);\n",
              "      border-right-color: var(--fill-color);\n",
              "    }\n",
              "    40% {\n",
              "      border-color: transparent;\n",
              "      border-right-color: var(--fill-color);\n",
              "      border-top-color: var(--fill-color);\n",
              "    }\n",
              "    60% {\n",
              "      border-color: transparent;\n",
              "      border-right-color: var(--fill-color);\n",
              "    }\n",
              "    80% {\n",
              "      border-color: transparent;\n",
              "      border-right-color: var(--fill-color);\n",
              "      border-bottom-color: var(--fill-color);\n",
              "    }\n",
              "    90% {\n",
              "      border-color: transparent;\n",
              "      border-bottom-color: var(--fill-color);\n",
              "    }\n",
              "  }\n",
              "</style>\n",
              "\n",
              "  <script>\n",
              "    async function quickchart(key) {\n",
              "      const quickchartButtonEl =\n",
              "        document.querySelector('#' + key + ' button');\n",
              "      quickchartButtonEl.disabled = true;  // To prevent multiple clicks.\n",
              "      quickchartButtonEl.classList.add('colab-df-spinner');\n",
              "      try {\n",
              "        const charts = await google.colab.kernel.invokeFunction(\n",
              "            'suggestCharts', [key], {});\n",
              "      } catch (error) {\n",
              "        console.error('Error during call to suggestCharts:', error);\n",
              "      }\n",
              "      quickchartButtonEl.classList.remove('colab-df-spinner');\n",
              "      quickchartButtonEl.classList.add('colab-df-quickchart-complete');\n",
              "    }\n",
              "    (() => {\n",
              "      let quickchartButtonEl =\n",
              "        document.querySelector('#df-72cba9f7-f3b5-4400-b27d-f3d7edde1d5f button');\n",
              "      quickchartButtonEl.style.display =\n",
              "        google.colab.kernel.accessAllowed ? 'block' : 'none';\n",
              "    })();\n",
              "  </script>\n",
              "</div>\n",
              "    </div>\n",
              "  </div>\n"
            ]
          },
          "metadata": {},
          "execution_count": 3
        }
      ]
    },
    {
      "cell_type": "code",
      "source": [
        "data.info()"
      ],
      "metadata": {
        "colab": {
          "base_uri": "https://localhost:8080/"
        },
        "id": "HsjfhbeGI3I2",
        "outputId": "e80829f3-a43f-432b-d195-eb6e9b5a9401"
      },
      "execution_count": null,
      "outputs": [
        {
          "output_type": "stream",
          "name": "stdout",
          "text": [
            "<class 'pandas.core.frame.DataFrame'>\n",
            "RangeIndex: 7043 entries, 0 to 7042\n",
            "Data columns (total 33 columns):\n",
            " #   Column             Non-Null Count  Dtype  \n",
            "---  ------             --------------  -----  \n",
            " 0   CustomerID         7043 non-null   object \n",
            " 1   Count              7043 non-null   int64  \n",
            " 2   Country            7043 non-null   object \n",
            " 3   State              7043 non-null   object \n",
            " 4   City               7043 non-null   object \n",
            " 5   Zip Code           7043 non-null   int64  \n",
            " 6   Lat Long           7043 non-null   object \n",
            " 7   Latitude           7043 non-null   float64\n",
            " 8   Longitude          7043 non-null   float64\n",
            " 9   Gender             7043 non-null   object \n",
            " 10  Senior Citizen     7043 non-null   object \n",
            " 11  Partner            7043 non-null   object \n",
            " 12  Dependents         7043 non-null   object \n",
            " 13  Tenure Months      7043 non-null   int64  \n",
            " 14  Phone Service      7043 non-null   object \n",
            " 15  Multiple Lines     7043 non-null   object \n",
            " 16  Internet Service   7043 non-null   object \n",
            " 17  Online Security    7043 non-null   object \n",
            " 18  Online Backup      7043 non-null   object \n",
            " 19  Device Protection  7043 non-null   object \n",
            " 20  Tech Support       7043 non-null   object \n",
            " 21  Streaming TV       7043 non-null   object \n",
            " 22  Streaming Movies   7043 non-null   object \n",
            " 23  Contract           7043 non-null   object \n",
            " 24  Paperless Billing  7043 non-null   object \n",
            " 25  Payment Method     7043 non-null   object \n",
            " 26  Monthly Charges    7043 non-null   float64\n",
            " 27  Total Charges      7043 non-null   object \n",
            " 28  Churn Label        7043 non-null   object \n",
            " 29  Churn Value        7043 non-null   int64  \n",
            " 30  Churn Score        7043 non-null   int64  \n",
            " 31  CLTV               7043 non-null   int64  \n",
            " 32  Churn Reason       1869 non-null   object \n",
            "dtypes: float64(3), int64(6), object(24)\n",
            "memory usage: 1.8+ MB\n"
          ]
        }
      ]
    },
    {
      "cell_type": "markdown",
      "source": [
        "## Desccripción de Columnas"
      ],
      "metadata": {
        "id": "GIsKwgljb86S"
      }
    },
    {
      "cell_type": "code",
      "source": [
        "print(data.columns)\n",
        "print('\\n',data.shape)"
      ],
      "metadata": {
        "colab": {
          "base_uri": "https://localhost:8080/"
        },
        "id": "BhnyxDqhcAi1",
        "outputId": "ed714aec-66fe-4b21-d62a-897b17130023"
      },
      "execution_count": null,
      "outputs": [
        {
          "output_type": "stream",
          "name": "stdout",
          "text": [
            "Index(['CustomerID', 'Count', 'Country', 'State', 'City', 'Zip Code',\n",
            "       'Lat Long', 'Latitude', 'Longitude', 'Gender', 'Senior Citizen',\n",
            "       'Partner', 'Dependents', 'Tenure Months', 'Phone Service',\n",
            "       'Multiple Lines', 'Internet Service', 'Online Security',\n",
            "       'Online Backup', 'Device Protection', 'Tech Support', 'Streaming TV',\n",
            "       'Streaming Movies', 'Contract', 'Paperless Billing', 'Payment Method',\n",
            "       'Monthly Charges', 'Total Charges', 'Churn Label', 'Churn Value',\n",
            "       'Churn Score', 'CLTV', 'Churn Reason'],\n",
            "      dtype='object')\n",
            "\n",
            " (7043, 33)\n"
          ]
        }
      ]
    },
    {
      "cell_type": "markdown",
      "source": [
        "## Imprimiendo data 2 (Excluyendo algunas Columnas)"
      ],
      "metadata": {
        "id": "g9m7y-Ogr9I-"
      }
    },
    {
      "cell_type": "code",
      "source": [
        "columnas_a_excluir = ['CustomerID', 'Count', 'Country', 'State', 'Zip Code', 'Lat Long', 'Latitude', 'Longitude',...]\n",
        "\n",
        "# Selecciona solo las columnas que no están en la lista de columnas a excluir\n",
        "data_2= data[data.columns.difference(columnas_a_excluir)]\n",
        "\n",
        "# Imprime el dataFrame filtrado\n",
        "print(data_2)"
      ],
      "metadata": {
        "colab": {
          "base_uri": "https://localhost:8080/"
        },
        "id": "cNu4N-tUsKRq",
        "outputId": "dd339c17-5d5e-4be9-ddfd-0e461929d022"
      },
      "execution_count": null,
      "outputs": [
        {
          "output_type": "stream",
          "name": "stdout",
          "text": [
            "      CLTV Churn Label                   Churn Reason  Churn Score  \\\n",
            "0     3239         Yes   Competitor made better offer           86   \n",
            "1     2701         Yes                          Moved           67   \n",
            "2     5372         Yes                          Moved           86   \n",
            "3     5003         Yes                          Moved           84   \n",
            "4     5340         Yes  Competitor had better devices           89   \n",
            "...    ...         ...                            ...          ...   \n",
            "7038  5306          No                            NaN           45   \n",
            "7039  2140          No                            NaN           59   \n",
            "7040  5560          No                            NaN           71   \n",
            "7041  2793          No                            NaN           59   \n",
            "7042  5097          No                            NaN           38   \n",
            "\n",
            "      Churn Value          City        Contract Dependents  \\\n",
            "0               1   Los Angeles  Month-to-month         No   \n",
            "1               1   Los Angeles  Month-to-month        Yes   \n",
            "2               1   Los Angeles  Month-to-month        Yes   \n",
            "3               1   Los Angeles  Month-to-month        Yes   \n",
            "4               1   Los Angeles  Month-to-month        Yes   \n",
            "...           ...           ...             ...        ...   \n",
            "7038            0       Landers        Two year         No   \n",
            "7039            0      Adelanto        One year        Yes   \n",
            "7040            0         Amboy        One year        Yes   \n",
            "7041            0  Angelus Oaks  Month-to-month        Yes   \n",
            "7042            0  Apple Valley        Two year         No   \n",
            "\n",
            "        Device Protection  Gender  ... Paperless Billing  Partner  \\\n",
            "0                      No    Male  ...               Yes       No   \n",
            "1                      No  Female  ...               Yes       No   \n",
            "2                     Yes  Female  ...               Yes       No   \n",
            "3                     Yes  Female  ...               Yes      Yes   \n",
            "4                     Yes    Male  ...               Yes       No   \n",
            "...                   ...     ...  ...               ...      ...   \n",
            "7038  No internet service  Female  ...               Yes       No   \n",
            "7039                  Yes    Male  ...               Yes      Yes   \n",
            "7040                  Yes  Female  ...               Yes      Yes   \n",
            "7041                   No  Female  ...               Yes      Yes   \n",
            "7042                  Yes    Male  ...               Yes       No   \n",
            "\n",
            "                 Payment Method Phone Service Senior Citizen  \\\n",
            "0                  Mailed check           Yes             No   \n",
            "1              Electronic check           Yes             No   \n",
            "2              Electronic check           Yes             No   \n",
            "3              Electronic check           Yes             No   \n",
            "4     Bank transfer (automatic)           Yes             No   \n",
            "...                         ...           ...            ...   \n",
            "7038  Bank transfer (automatic)           Yes             No   \n",
            "7039               Mailed check           Yes             No   \n",
            "7040    Credit card (automatic)           Yes             No   \n",
            "7041           Electronic check            No             No   \n",
            "7042  Bank transfer (automatic)           Yes             No   \n",
            "\n",
            "         Streaming Movies         Streaming TV         Tech Support  \\\n",
            "0                      No                   No                   No   \n",
            "1                      No                   No                   No   \n",
            "2                     Yes                  Yes                   No   \n",
            "3                     Yes                  Yes                  Yes   \n",
            "4                     Yes                  Yes                   No   \n",
            "...                   ...                  ...                  ...   \n",
            "7038  No internet service  No internet service  No internet service   \n",
            "7039                  Yes                  Yes                  Yes   \n",
            "7040                  Yes                  Yes                   No   \n",
            "7041                   No                   No                   No   \n",
            "7042                  Yes                  Yes                  Yes   \n",
            "\n",
            "     Tenure Months Total Charges  \n",
            "0                2        108.15  \n",
            "1                2        151.65  \n",
            "2                8         820.5  \n",
            "3               28       3046.05  \n",
            "4               49        5036.3  \n",
            "...            ...           ...  \n",
            "7038            72        1419.4  \n",
            "7039            24        1990.5  \n",
            "7040            72        7362.9  \n",
            "7041            11        346.45  \n",
            "7042            66        6844.5  \n",
            "\n",
            "[7043 rows x 25 columns]\n"
          ]
        }
      ]
    },
    {
      "cell_type": "markdown",
      "source": [
        "# ***Valores Faltantes***\n"
      ],
      "metadata": {
        "id": "uQnDP4_NsaRi"
      }
    },
    {
      "cell_type": "code",
      "source": [
        "valores_faltantes = data_2.isnull().sum()\n",
        "porcentaje_faltantes = data_2.isnull().sum() * 100 / len(data_2)\n",
        "\n",
        "# Creando un dataFrame con los resultados\n",
        "df_faltantes = pd.DataFrame({'Valores Faltantes': valores_faltantes, 'Porcentaje Faltantes (%)': porcentaje_faltantes})\n",
        "\n",
        "df_faltantes.reset_index(inplace=True)\n",
        "df_faltantes.rename(columns={'index': 'ID'}, inplace=True)\n",
        "\n",
        "# Imprimiendo los resultados\n",
        "print(df_faltantes)"
      ],
      "metadata": {
        "colab": {
          "base_uri": "https://localhost:8080/"
        },
        "id": "Yit-GUsdshMO",
        "outputId": "ef77cf27-cb87-430a-b6a3-c81c70f6e3b8"
      },
      "execution_count": null,
      "outputs": [
        {
          "output_type": "stream",
          "name": "stdout",
          "text": [
            "                   ID  Valores Faltantes  Porcentaje Faltantes (%)\n",
            "0                CLTV                  0                  0.000000\n",
            "1         Churn Label                  0                  0.000000\n",
            "2        Churn Reason               5174                 73.463013\n",
            "3         Churn Score                  0                  0.000000\n",
            "4         Churn Value                  0                  0.000000\n",
            "5                City                  0                  0.000000\n",
            "6            Contract                  0                  0.000000\n",
            "7          Dependents                  0                  0.000000\n",
            "8   Device Protection                  0                  0.000000\n",
            "9              Gender                  0                  0.000000\n",
            "10   Internet Service                  0                  0.000000\n",
            "11    Monthly Charges                  0                  0.000000\n",
            "12     Multiple Lines                  0                  0.000000\n",
            "13      Online Backup                  0                  0.000000\n",
            "14    Online Security                  0                  0.000000\n",
            "15  Paperless Billing                  0                  0.000000\n",
            "16            Partner                  0                  0.000000\n",
            "17     Payment Method                  0                  0.000000\n",
            "18      Phone Service                  0                  0.000000\n",
            "19     Senior Citizen                  0                  0.000000\n",
            "20   Streaming Movies                  0                  0.000000\n",
            "21       Streaming TV                  0                  0.000000\n",
            "22       Tech Support                  0                  0.000000\n",
            "23      Tenure Months                  0                  0.000000\n",
            "24      Total Charges                  0                  0.000000\n"
          ]
        }
      ]
    },
    {
      "cell_type": "code",
      "source": [
        "\n",
        "# Reemplazando valores faltantes\n",
        "data_2['Churn Reason'] = data_2['Churn Reason'].fillna('No proporcionado')\n",
        "\n",
        "valores_faltantes = data_2.isnull().sum()\n",
        "porcentaje_faltantes = data_2.isnull().sum() * 100 / len(data_2)\n",
        "\n",
        "# Creando un dataFrame con los resultados\n",
        "df_faltantes = pd.DataFrame({'Valores Faltantes': valores_faltantes, 'Porcentaje Faltantes (%)': porcentaje_faltantes})\n",
        "\n",
        "df_faltantes.reset_index(inplace=True)\n",
        "df_faltantes.rename(columns={'index': 'ID'}, inplace=True)\n",
        "\n",
        "# Imprimiendo los resultados\n",
        "print(df_faltantes)"
      ],
      "metadata": {
        "colab": {
          "base_uri": "https://localhost:8080/"
        },
        "id": "bq5oOl4bjUuU",
        "outputId": "55d4cf76-9985-4de8-c3a9-acfab9f8b660"
      },
      "execution_count": null,
      "outputs": [
        {
          "output_type": "stream",
          "name": "stdout",
          "text": [
            "                   ID  Valores Faltantes  Porcentaje Faltantes (%)\n",
            "0                CLTV                  0                       0.0\n",
            "1         Churn Label                  0                       0.0\n",
            "2        Churn Reason                  0                       0.0\n",
            "3         Churn Score                  0                       0.0\n",
            "4         Churn Value                  0                       0.0\n",
            "5                City                  0                       0.0\n",
            "6            Contract                  0                       0.0\n",
            "7          Dependents                  0                       0.0\n",
            "8   Device Protection                  0                       0.0\n",
            "9              Gender                  0                       0.0\n",
            "10   Internet Service                  0                       0.0\n",
            "11    Monthly Charges                  0                       0.0\n",
            "12     Multiple Lines                  0                       0.0\n",
            "13      Online Backup                  0                       0.0\n",
            "14    Online Security                  0                       0.0\n",
            "15  Paperless Billing                  0                       0.0\n",
            "16            Partner                  0                       0.0\n",
            "17     Payment Method                  0                       0.0\n",
            "18      Phone Service                  0                       0.0\n",
            "19     Senior Citizen                  0                       0.0\n",
            "20   Streaming Movies                  0                       0.0\n",
            "21       Streaming TV                  0                       0.0\n",
            "22       Tech Support                  0                       0.0\n",
            "23      Tenure Months                  0                       0.0\n",
            "24      Total Charges                  0                       0.0\n"
          ]
        },
        {
          "output_type": "stream",
          "name": "stderr",
          "text": [
            "<ipython-input-11-b67a1c9ddabe>:2: SettingWithCopyWarning: \n",
            "A value is trying to be set on a copy of a slice from a DataFrame.\n",
            "Try using .loc[row_indexer,col_indexer] = value instead\n",
            "\n",
            "See the caveats in the documentation: https://pandas.pydata.org/pandas-docs/stable/user_guide/indexing.html#returning-a-view-versus-a-copy\n",
            "  data_2['Churn Reason'] = data_2['Churn Reason'].fillna('No proporcionado')\n"
          ]
        }
      ]
    },
    {
      "cell_type": "markdown",
      "source": [
        "## Simulación de Datos Faltantes"
      ],
      "metadata": {
        "id": "9vRdJLkixciV"
      }
    },
    {
      "cell_type": "code",
      "source": [
        "# Seleccionando Columnas para aplicar datos faltantes\n",
        "columns = ['Online Backup', 'Streaming TV', 'Phone Service']\n",
        "\n",
        "for col in columns:\n",
        "    # Selecciona el 5% de los datos para ser reemplazados\n",
        "    num_missing = int(len(data_2[col]) * 0.05)\n",
        "\n",
        "    # Genera índices aleatorios para datos a ser reemplazados\n",
        "    missing_indices = pd.Index(np.random.choice(data_2[col].index, replace=False, size=num_missing))\n",
        "\n",
        "    # Reemplaza los datos en los índices seleccionados con NaN\n",
        "    data_2.loc[missing_indices, col] = np.nan\n",
        "\n",
        "\n",
        "# Procenjate de datos faltantes\n",
        "missing_values = data_2.isnull().sum().sum()\n",
        "total_values = data_2.size\n",
        "\n",
        "missing_percentage = (missing_values / total_values) * 100\n",
        "\n",
        "print(\"Porcentaje de datos faltantes: \", missing_percentage)"
      ],
      "metadata": {
        "colab": {
          "base_uri": "https://localhost:8080/"
        },
        "id": "JJOTjKy_xhVs",
        "outputId": "283def70-cc2a-4d90-bae4-6cd34f0ccc23"
      },
      "execution_count": null,
      "outputs": [
        {
          "output_type": "stream",
          "name": "stdout",
          "text": [
            "Porcentaje de datos faltantes:  0.5997444270907284\n"
          ]
        }
      ]
    },
    {
      "cell_type": "code",
      "source": [
        "missing_values = data_2.isnull().sum()\n",
        "print(\"\\nValores faltantes por columna:\")\n",
        "print(missing_values)"
      ],
      "metadata": {
        "colab": {
          "base_uri": "https://localhost:8080/"
        },
        "id": "Ofj5Np2f3G1X",
        "outputId": "e262e543-5ff8-4fe7-a859-7adc86234626"
      },
      "execution_count": null,
      "outputs": [
        {
          "output_type": "stream",
          "name": "stdout",
          "text": [
            "\n",
            "Valores faltantes por columna:\n",
            "CLTV                   0\n",
            "Churn Label            0\n",
            "Churn Reason           0\n",
            "Churn Score            0\n",
            "Churn Value            0\n",
            "City                   0\n",
            "Contract               0\n",
            "Dependents             0\n",
            "Device Protection      0\n",
            "Gender                 0\n",
            "Internet Service       0\n",
            "Monthly Charges        0\n",
            "Multiple Lines         0\n",
            "Online Backup        352\n",
            "Online Security        0\n",
            "Paperless Billing      0\n",
            "Partner                0\n",
            "Payment Method         0\n",
            "Phone Service        352\n",
            "Senior Citizen         0\n",
            "Streaming Movies       0\n",
            "Streaming TV         352\n",
            "Tech Support           0\n",
            "Tenure Months          0\n",
            "Total Charges          0\n",
            "dtype: int64\n"
          ]
        }
      ]
    },
    {
      "cell_type": "markdown",
      "source": [
        "## Reemplazo de Variables Categóricas por Númericas"
      ],
      "metadata": {
        "id": "GNcKrYyvrwl-"
      }
    },
    {
      "cell_type": "code",
      "source": [
        "from sklearn.preprocessing import LabelEncoder\n",
        "\n",
        "# Crear un objeto LabelEncoder\n",
        "le = LabelEncoder()\n",
        "\n",
        "# Ajustar y transformar los datos de la columna 'City' a numéricos\n",
        "data_2['City'] = le.fit_transform(data_2['City'])\n",
        "data_2['Gender'] = le.fit_transform(data_2['Gender'])\n",
        "data_2['Senior Citizen'] = le.fit_transform(data_2['Senior Citizen'])\n",
        "data_2['Partner'] = le.fit_transform(data_2['Partner'])\n",
        "data_2['Dependents'] = le.fit_transform(data_2['Dependents'])\n",
        "data_2['Phone Service'] = le.fit_transform(data_2['Phone Service'])\n",
        "# Ajustar y transformar los datos de la columna 'City' a numéricos\n",
        "data_2['Multiple Lines'] = le.fit_transform(data_2['Multiple Lines'])\n",
        "data_2['Internet Service'] = le.fit_transform(data_2['Internet Service'])\n",
        "data_2['Online Security'] = le.fit_transform(data_2['Online Security'])\n",
        "data_2['Online Backup'] = le.fit_transform(data_2['Online Backup'])\n",
        "data_2['Device Protection'] = le.fit_transform(data_2['Device Protection'])\n",
        "data_2['Tech Support'] = le.fit_transform(data_2['Tech Support'])\n",
        "# Ajustar y transformar los datos de la columna 'City' a numéricos\n",
        "data_2['Streaming TV'] = le.fit_transform(data_2['Streaming TV'])\n",
        "data_2['Streaming Movies'] = le.fit_transform(data_2['City'])\n",
        "data_2['Contract'] = le.fit_transform(data_2['Contract'])\n",
        "data_2['Paperless Billing'] = le.fit_transform(data_2['Paperless Billing'])\n",
        "data_2['Payment Method'] = le.fit_transform(data_2['Payment Method'])\n",
        "data_2['Churn Label'] = le.fit_transform(data_2['Churn Label'])"
      ],
      "metadata": {
        "id": "iLP39YnLr1mN"
      },
      "execution_count": null,
      "outputs": []
    },
    {
      "cell_type": "markdown",
      "source": [
        "## Limpieza de Datos\n",
        "\n",
        "---\n",
        "\n"
      ],
      "metadata": {
        "id": "KRBmX-NYWfHu"
      }
    },
    {
      "cell_type": "code",
      "source": [
        "\n",
        "# Paso 3: Eliminar filas con valores faltantes\n",
        "df_sin_filas_faltantes = data_2.dropna()\n",
        "\n",
        "# Paso 4: Rellenar valores faltantes con un valor específico (por ejemplo, el promedio de la columna)\n",
        "promedio_columna_A = data_2['Online Backup'].mean()\n",
        "#promedio_columna_B = data['Churn Score'].mean()\n",
        "promedio_columna_C = data_2['Phone Service'].mean()\n",
        "df_rellenado = data_2.fillna({'Online Backup': promedio_columna_A, 'Streaming TV': 0, 'Phone Service': promedio_columna_C,})  # Rellena CA y CC con el promedio y CB con 0\n",
        "\n",
        "# Paso 5: Eliminar columnas con valores faltantes\n",
        "#df_sin_columnas_faltantes = data.dropna(axis=1)\n",
        "\n",
        "# Paso 6: Interpolación (relleno basado en valores cercanos)\n",
        "df_interpolado = data_2.interpolate()\n",
        "\n",
        "# Paso 7: Eliminar duplicados (si es necesario)\n",
        "df_sin_duplicados = data_2.drop_duplicates()\n",
        "\n",
        "# Paso 8: Guardar los resultados en un nuevo DataFrame o sobrescribir el original si es apropiado\n",
        "df = df_sin_filas_faltantes  # Por ejemplo, reemplazar el DataFrame original con uno limpio\n",
        "\n",
        "\n",
        "# 2. Contar valores faltantes por columna\n",
        "missing_values = df.isnull().sum()\n",
        "print(\"\\nValores faltantes por columna:\")\n",
        "print(missing_values)"
      ],
      "metadata": {
        "colab": {
          "base_uri": "https://localhost:8080/"
        },
        "id": "hUcHn5qNWjGP",
        "outputId": "37ee1de0-b789-4a81-cef9-07241c12ecc4"
      },
      "execution_count": null,
      "outputs": [
        {
          "output_type": "stream",
          "name": "stdout",
          "text": [
            "\n",
            "Valores faltantes por columna:\n",
            "CLTV                 0\n",
            "Churn Label          0\n",
            "Churn Reason         0\n",
            "Churn Score          0\n",
            "Churn Value          0\n",
            "City                 0\n",
            "Contract             0\n",
            "Dependents           0\n",
            "Device Protection    0\n",
            "Gender               0\n",
            "Internet Service     0\n",
            "Monthly Charges      0\n",
            "Multiple Lines       0\n",
            "Online Backup        0\n",
            "Online Security      0\n",
            "Paperless Billing    0\n",
            "Partner              0\n",
            "Payment Method       0\n",
            "Phone Service        0\n",
            "Senior Citizen       0\n",
            "Streaming Movies     0\n",
            "Streaming TV         0\n",
            "Tech Support         0\n",
            "Tenure Months        0\n",
            "Total Charges        0\n",
            "dtype: int64\n"
          ]
        }
      ]
    },
    {
      "cell_type": "markdown",
      "source": [
        "## Exploración Inicial\n",
        "\n",
        "---\n",
        "\n"
      ],
      "metadata": {
        "id": "IhGu5TbHZ6ux"
      }
    },
    {
      "cell_type": "code",
      "source": [
        "import pandas as pd\n",
        "\n",
        "# Mostrar las primeras filas del dataset\n",
        "print(\"Primeras filas del dataset:\")\n",
        "print(df.head())\n",
        "\n",
        "# Obtener información general del dataset\n",
        "print(\"\\n----------Información general del dataset:\")\n",
        "print(df.info())\n",
        "\n",
        "# Resumen estadístico de las variables numéricas\n",
        "print(\"\\n----------Resumen estadístico de las variables numéricas:\")\n",
        "print(df.describe())\n",
        "\n",
        "# Conteo de valores únicos en variables categóricas\n",
        "print(\"\\n------------Conteo de valores únicos en variables categóricas:\")\n",
        "categoricas = df.select_dtypes(include=['object'])  # Seleccionar variables categóricas\n",
        "for columna in categoricas.columns:\n",
        "    print(f\"Variable: {columna}\")\n",
        "    print(df[columna].value_counts())\n",
        "\n",
        "# Histogramas de variables numéricas\n",
        "import matplotlib.pyplot as plt\n",
        "\n",
        "print(\"\\nHistogramas de variables numéricas:\")\n",
        "df.hist(bins=20, figsize=(12, 8))\n",
        "plt.show()\n",
        "\n",
        "# Boxplots de variables numéricas\n",
        "print(\"\\nBoxplots de variables numéricas:\")\n",
        "df.boxplot(column=['Churn Score', 'CLTV'], figsize=(10, 6))\n",
        "plt.show()\n",
        "\n",
        "# Gráfico de barras de variables categóricas\n",
        "print(\"\\nGráfico de barras de variables categóricas:\")\n",
        "for columna in categoricas.columns:\n",
        "    plt.figure(figsize=(8, 6))\n",
        "    df[columna].value_counts().plot(kind='bar', title=columna)\n",
        "    plt.show()\n"
      ],
      "metadata": {
        "colab": {
          "base_uri": "https://localhost:8080/",
          "height": 1000
        },
        "id": "IyYWEl0BaDTH",
        "outputId": "2c0ef1b2-4cd7-4427-e4cb-b2605d0e1def"
      },
      "execution_count": null,
      "outputs": [
        {
          "output_type": "stream",
          "name": "stdout",
          "text": [
            "Primeras filas del dataset:\n",
            "   CLTV  Churn Label                   Churn Reason  Churn Score  Churn Value  \\\n",
            "0  3239            1   Competitor made better offer           86            1   \n",
            "1  2701            1                          Moved           67            1   \n",
            "2  5372            1                          Moved           86            1   \n",
            "3  5003            1                          Moved           84            1   \n",
            "4  5340            1  Competitor had better devices           89            1   \n",
            "\n",
            "   City  Contract  Dependents  Device Protection  Gender  ...  \\\n",
            "0   562         0           0                  0       1  ...   \n",
            "1   562         0           1                  0       0  ...   \n",
            "2   562         0           1                  2       0  ...   \n",
            "3   562         0           1                  2       0  ...   \n",
            "4   562         0           1                  2       1  ...   \n",
            "\n",
            "   Paperless Billing  Partner  Payment Method  Phone Service  Senior Citizen  \\\n",
            "0                  1        0               3              2               0   \n",
            "1                  1        0               2              1               0   \n",
            "2                  1        0               2              1               0   \n",
            "3                  1        1               2              1               0   \n",
            "4                  1        0               0              1               0   \n",
            "\n",
            "   Streaming Movies  Streaming TV  Tech Support  Tenure Months  Total Charges  \n",
            "0               562             0             0              2         108.15  \n",
            "1               562             0             0              2         151.65  \n",
            "2               562             2             0              8          820.5  \n",
            "3               562             2             2             28        3046.05  \n",
            "4               562             2             0             49         5036.3  \n",
            "\n",
            "[5 rows x 25 columns]\n",
            "\n",
            "----------Información general del dataset:\n",
            "<class 'pandas.core.frame.DataFrame'>\n",
            "RangeIndex: 7043 entries, 0 to 7042\n",
            "Data columns (total 25 columns):\n",
            " #   Column             Non-Null Count  Dtype  \n",
            "---  ------             --------------  -----  \n",
            " 0   CLTV               7043 non-null   int64  \n",
            " 1   Churn Label        7043 non-null   int64  \n",
            " 2   Churn Reason       7043 non-null   object \n",
            " 3   Churn Score        7043 non-null   int64  \n",
            " 4   Churn Value        7043 non-null   int64  \n",
            " 5   City               7043 non-null   int64  \n",
            " 6   Contract           7043 non-null   int64  \n",
            " 7   Dependents         7043 non-null   int64  \n",
            " 8   Device Protection  7043 non-null   int64  \n",
            " 9   Gender             7043 non-null   int64  \n",
            " 10  Internet Service   7043 non-null   int64  \n",
            " 11  Monthly Charges    7043 non-null   float64\n",
            " 12  Multiple Lines     7043 non-null   int64  \n",
            " 13  Online Backup      7043 non-null   int64  \n",
            " 14  Online Security    7043 non-null   int64  \n",
            " 15  Paperless Billing  7043 non-null   int64  \n",
            " 16  Partner            7043 non-null   int64  \n",
            " 17  Payment Method     7043 non-null   int64  \n",
            " 18  Phone Service      7043 non-null   int64  \n",
            " 19  Senior Citizen     7043 non-null   int64  \n",
            " 20  Streaming Movies   7043 non-null   int64  \n",
            " 21  Streaming TV       7043 non-null   int64  \n",
            " 22  Tech Support       7043 non-null   int64  \n",
            " 23  Tenure Months      7043 non-null   int64  \n",
            " 24  Total Charges      7043 non-null   object \n",
            "dtypes: float64(1), int64(22), object(2)\n",
            "memory usage: 1.3+ MB\n",
            "None\n",
            "\n",
            "----------Resumen estadístico de las variables numéricas:\n",
            "              CLTV  Churn Label  Churn Score  Churn Value         City  \\\n",
            "count  7043.000000  7043.000000  7043.000000  7043.000000  7043.000000   \n",
            "mean   4400.295755     0.265370    58.699418     0.265370   593.713616   \n",
            "std    1183.057152     0.441561    21.525131     0.441561   314.990288   \n",
            "min    2003.000000     0.000000     5.000000     0.000000     0.000000   \n",
            "25%    3469.000000     0.000000    40.000000     0.000000   337.000000   \n",
            "50%    4527.000000     0.000000    61.000000     0.000000   601.000000   \n",
            "75%    5380.500000     1.000000    75.000000     1.000000   869.000000   \n",
            "max    6500.000000     1.000000   100.000000     1.000000  1128.000000   \n",
            "\n",
            "          Contract   Dependents  Device Protection       Gender  \\\n",
            "count  7043.000000  7043.000000        7043.000000  7043.000000   \n",
            "mean      0.690473     0.231010           0.904444     0.504756   \n",
            "std       0.833755     0.421508           0.879949     0.500013   \n",
            "min       0.000000     0.000000           0.000000     0.000000   \n",
            "25%       0.000000     0.000000           0.000000     0.000000   \n",
            "50%       0.000000     0.000000           1.000000     1.000000   \n",
            "75%       1.000000     0.000000           2.000000     1.000000   \n",
            "max       2.000000     1.000000           2.000000     1.000000   \n",
            "\n",
            "       Internet Service  ...  Online Security  Paperless Billing      Partner  \\\n",
            "count       7043.000000  ...      7043.000000        7043.000000  7043.000000   \n",
            "mean           0.872923  ...         0.790004           0.592219     0.483033   \n",
            "std            0.737796  ...         0.859848           0.491457     0.499748   \n",
            "min            0.000000  ...         0.000000           0.000000     0.000000   \n",
            "25%            0.000000  ...         0.000000           0.000000     0.000000   \n",
            "50%            1.000000  ...         1.000000           1.000000     0.000000   \n",
            "75%            1.000000  ...         2.000000           1.000000     1.000000   \n",
            "max            2.000000  ...         2.000000           1.000000     1.000000   \n",
            "\n",
            "       Payment Method  Phone Service  Senior Citizen  Streaming Movies  \\\n",
            "count     7043.000000    7043.000000     7043.000000       7043.000000   \n",
            "mean         1.574329       0.959250        0.162147        593.713616   \n",
            "std          1.068104       0.372916        0.368612        314.990288   \n",
            "min          0.000000       0.000000        0.000000          0.000000   \n",
            "25%          1.000000       1.000000        0.000000        337.000000   \n",
            "50%          2.000000       1.000000        0.000000        601.000000   \n",
            "75%          2.000000       1.000000        0.000000        869.000000   \n",
            "max          3.000000       2.000000        1.000000       1128.000000   \n",
            "\n",
            "       Streaming TV  Tech Support  Tenure Months  \n",
            "count   7043.000000   7043.000000    7043.000000  \n",
            "mean       1.086895      0.797104      32.371149  \n",
            "std        0.968315      0.861551      24.559481  \n",
            "min        0.000000      0.000000       0.000000  \n",
            "25%        0.000000      0.000000       9.000000  \n",
            "50%        1.000000      1.000000      29.000000  \n",
            "75%        2.000000      2.000000      55.000000  \n",
            "max        3.000000      2.000000      72.000000  \n",
            "\n",
            "[8 rows x 23 columns]\n",
            "\n",
            "------------Conteo de valores únicos en variables categóricas:\n",
            "Variable: Churn Reason\n",
            "No proporcionado                             5174\n",
            "Attitude of support person                    192\n",
            "Competitor offered higher download speeds     189\n",
            "Competitor offered more data                  162\n",
            "Don't know                                    154\n",
            "Competitor made better offer                  140\n",
            "Attitude of service provider                  135\n",
            "Competitor had better devices                 130\n",
            "Network reliability                           103\n",
            "Product dissatisfaction                       102\n",
            "Price too high                                 98\n",
            "Service dissatisfaction                        89\n",
            "Lack of self-service on Website                88\n",
            "Extra data charges                             57\n",
            "Moved                                          53\n",
            "Lack of affordable download/upload speed       44\n",
            "Long distance charges                          44\n",
            "Limited range of services                      44\n",
            "Poor expertise of phone support                20\n",
            "Poor expertise of online support               19\n",
            "Deceased                                        6\n",
            "Name: Churn Reason, dtype: int64\n",
            "Variable: Total Charges\n",
            "20.2      11\n",
            "          11\n",
            "19.75      9\n",
            "19.65      8\n",
            "20.05      8\n",
            "          ..\n",
            "444.75     1\n",
            "5459.2     1\n",
            "295.95     1\n",
            "394.1      1\n",
            "6844.5     1\n",
            "Name: Total Charges, Length: 6531, dtype: int64\n",
            "\n",
            "Histogramas de variables numéricas:\n"
          ]
        },
        {
          "output_type": "display_data",
          "data": {
            "text/plain": [
              "<Figure size 1200x800 with 25 Axes>"
            ],
            "image/png": "[encoded data removed]"
          },
          "metadata": {}
        },
        {
          "output_type": "stream",
          "name": "stdout",
          "text": [
            "\n",
            "Boxplots de variables numéricas:\n"
          ]
        },
        {
          "output_type": "display_data",
          "data": {
            "text/plain": [
              "<Figure size 1000x600 with 1 Axes>"
            ],
            "image/png": "[encoded data removed]"
          },
          "metadata": {}
        },
        {
          "output_type": "stream",
          "name": "stdout",
          "text": [
            "\n",
            "Gráfico de barras de variables categóricas:\n"
          ]
        },
        {
          "output_type": "display_data",
          "data": {
            "text/plain": [
              "<Figure size 800x600 with 1 Axes>"
            ],
            "image/png": "[encoded data removed]"
          },
          "metadata": {}
        },
        {
          "output_type": "display_data",
          "data": {
            "text/plain": [
              "<Figure size 800x600 with 1 Axes>"
            ],
            "image/png": "[encoded data removed]"
          },
          "metadata": {}
        }
      ]
    },
    {
      "cell_type": "markdown",
      "source": [
        "## ***Normalizando Variables Númericas***\n",
        "\n",
        "---\n",
        "\n"
      ],
      "metadata": {
        "id": "xew_WlIlp_-V"
      }
    },
    {
      "cell_type": "code",
      "source": [
        "# Creando el normalizador\n",
        "scaler = MinMaxScaler()\n",
        "\n",
        "# Seleccionando solo las columnas numéricas para normalizar\n",
        "num_cols = data_2.select_dtypes(include=[np.number]).columns\n",
        "\n",
        "# Normalizando las columnas numéricas\n",
        "data_2[num_cols] = scaler.fit_transform(data_2[num_cols])\n",
        "\n",
        "# Imprimiendo los resultados\n",
        "print(data_2)\n"
      ],
      "metadata": {
        "colab": {
          "base_uri": "https://localhost:8080/"
        },
        "id": "uSMqY4Q2qFP6",
        "outputId": "9c4bca86-b573-42e5-d3c7-98e760f3fb2b"
      },
      "execution_count": null,
      "outputs": [
        {
          "output_type": "stream",
          "name": "stdout",
          "text": [
            "          CLTV  Churn Label                   Churn Reason  Churn Score  \\\n",
            "0     0.274850          1.0   Competitor made better offer     0.852632   \n",
            "1     0.155215          1.0                          Moved     0.652632   \n",
            "2     0.749166          1.0                          Moved     0.852632   \n",
            "3     0.667111          1.0                          Moved     0.831579   \n",
            "4     0.742050          1.0  Competitor had better devices     0.884211   \n",
            "...        ...          ...                            ...          ...   \n",
            "7038  0.734490          0.0               No proporcionado     0.421053   \n",
            "7039  0.030465          0.0               No proporcionado     0.568421   \n",
            "7040  0.790972          0.0               No proporcionado     0.694737   \n",
            "7041  0.175673          0.0               No proporcionado     0.568421   \n",
            "7042  0.688014          0.0               No proporcionado     0.347368   \n",
            "\n",
            "      Churn Value      City  Contract  Dependents  Device Protection  Gender  \\\n",
            "0             1.0  0.498227       0.0         0.0                0.0     1.0   \n",
            "1             1.0  0.498227       0.0         1.0                0.0     0.0   \n",
            "2             1.0  0.498227       0.0         1.0                1.0     0.0   \n",
            "3             1.0  0.498227       0.0         1.0                1.0     0.0   \n",
            "4             1.0  0.498227       0.0         1.0                1.0     1.0   \n",
            "...           ...       ...       ...         ...                ...     ...   \n",
            "7038          0.0  0.461879       1.0         0.0                0.5     0.0   \n",
            "7039          0.0  0.001773       0.5         1.0                1.0     1.0   \n",
            "7040          0.0  0.019504       0.5         1.0                1.0     0.0   \n",
            "7041          0.0  0.023050       0.0         1.0                0.0     0.0   \n",
            "7042          0.0  0.028369       1.0         0.0                1.0     1.0   \n",
            "\n",
            "      ...  Paperless Billing  Partner  Payment Method  Phone Service  \\\n",
            "0     ...                1.0      0.0        1.000000            1.0   \n",
            "1     ...                1.0      0.0        0.666667            0.5   \n",
            "2     ...                1.0      0.0        0.666667            0.5   \n",
            "3     ...                1.0      1.0        0.666667            0.5   \n",
            "4     ...                1.0      0.0        0.000000            0.5   \n",
            "...   ...                ...      ...             ...            ...   \n",
            "7038  ...                1.0      0.0        0.000000            0.5   \n",
            "7039  ...                1.0      1.0        1.000000            0.5   \n",
            "7040  ...                1.0      1.0        0.333333            0.5   \n",
            "7041  ...                1.0      1.0        0.666667            0.0   \n",
            "7042  ...                1.0      0.0        0.000000            0.5   \n",
            "\n",
            "      Senior Citizen  Streaming Movies  Streaming TV  Tech Support  \\\n",
            "0                0.0          0.498227      0.000000           0.0   \n",
            "1                0.0          0.498227      0.000000           0.0   \n",
            "2                0.0          0.498227      0.666667           0.0   \n",
            "3                0.0          0.498227      0.666667           1.0   \n",
            "4                0.0          0.498227      0.666667           0.0   \n",
            "...              ...               ...           ...           ...   \n",
            "7038             0.0          0.461879      0.333333           0.5   \n",
            "7039             0.0          0.001773      0.666667           1.0   \n",
            "7040             0.0          0.019504      0.666667           0.0   \n",
            "7041             0.0          0.023050      0.000000           0.0   \n",
            "7042             0.0          0.028369      0.666667           1.0   \n",
            "\n",
            "      Tenure Months  Total Charges  \n",
            "0          0.027778         108.15  \n",
            "1          0.027778         151.65  \n",
            "2          0.111111          820.5  \n",
            "3          0.388889        3046.05  \n",
            "4          0.680556         5036.3  \n",
            "...             ...            ...  \n",
            "7038       1.000000         1419.4  \n",
            "7039       0.333333         1990.5  \n",
            "7040       1.000000         7362.9  \n",
            "7041       0.152778         346.45  \n",
            "7042       0.916667         6844.5  \n",
            "\n",
            "[7043 rows x 25 columns]\n"
          ]
        },
        {
          "output_type": "stream",
          "name": "stderr",
          "text": [
            "<ipython-input-18-f9e13727209c>:12: SettingWithCopyWarning: \n",
            "A value is trying to be set on a copy of a slice from a DataFrame.\n",
            "Try using .loc[row_indexer,col_indexer] = value instead\n",
            "\n",
            "See the caveats in the documentation: https://pandas.pydata.org/pandas-docs/stable/user_guide/indexing.html#returning-a-view-versus-a-copy\n",
            "  data_2[num_cols] = scaler.fit_transform(data_2[num_cols])\n"
          ]
        }
      ]
    },
    {
      "cell_type": "markdown",
      "source": [
        "## ***Generando un primer Modelo de Predicción según Churn Score y CLTV`***\n",
        "\n",
        "---\n",
        "\n"
      ],
      "metadata": {
        "id": "BfRjTq0jtQ-6"
      }
    },
    {
      "cell_type": "code",
      "source": [
        "# Seleccionando las características y la variable objetivo\n",
        "X = data_2[['Churn Score', 'CLTV']]\n",
        "y = data_2['Churn Value']\n",
        "\n",
        "# Dividiendo los datos en conjuntos de entrenamiento y prueba\n",
        "X_train, X_test, y_train, y_test = train_test_split(X, y, test_size=0.2, random_state=42)\n"
      ],
      "metadata": {
        "id": "TL2iz2nntcPl"
      },
      "execution_count": null,
      "outputs": []
    },
    {
      "cell_type": "code",
      "source": [
        "# Creando el modelo\n",
        "model = LogisticRegression()"
      ],
      "metadata": {
        "id": "jEhRB3ydt6rz"
      },
      "execution_count": null,
      "outputs": []
    },
    {
      "cell_type": "code",
      "source": [
        "# Entrenando el modelo\n",
        "model.fit(X_train, y_train)"
      ],
      "metadata": {
        "id": "RSYiQfDQuIAj"
      },
      "execution_count": null,
      "outputs": []
    },
    {
      "cell_type": "code",
      "source": [
        "# Haciendo predicciones\n",
        "y_pred = model.predict(X_test)"
      ],
      "metadata": {
        "id": "O1FoUvsDuO5H"
      },
      "execution_count": null,
      "outputs": []
    },
    {
      "cell_type": "code",
      "source": [
        "# Evaluando el modelo\n",
        "print('Precisión del modelo:', accuracy_score(y_test, y_pred))\n",
        "print('Sensibilidad del modelo:', recall_score(y_test, y_pred))\n",
        "print('Precisión del modelo:', precision_score(y_test, y_pred))\n",
        "print('F1 del modelo:', f1_score(y_test, y_pred))\n",
        "print('ROC del modelo:', roc_auc_score(y_test, y_pred))"
      ],
      "metadata": {
        "colab": {
          "base_uri": "https://localhost:8080/"
        },
        "id": "83SzNWWruTiW",
        "outputId": "68104a32-a23d-4dbc-8278-11a0212a2496"
      },
      "execution_count": null,
      "outputs": [
        {
          "output_type": "stream",
          "name": "stdout",
          "text": [
            "Precisión del modelo: 0.8445706174591909\n",
            "Sensibilidad del modelo: 0.6525\n",
            "Precisión del modelo: 0.7653958944281525\n",
            "F1 del modelo: 0.7044534412955464\n",
            "ROC del modelo: 0.7866067888999009\n"
          ]
        }
      ]
    },
    {
      "cell_type": "markdown",
      "source": [
        "- Precisión (Accuracy): Esta métrica es útil para tener una visión general de cuántas predicciones son correctas, independientemente de si son positivas o negativas.\n",
        "\n",
        "- Recall (Sensibilidad): Esta métrica es especialmente útil en este contexto porque se quiere identificar a los clientes que probablemente abandonarán. Un recall alto significa que se está identificando correctamente a la mayoría de los clientes que abandonarán.\n",
        "\n",
        "- Precision: Esta métrica también es útil porque se quiere asegurar de que los clientes que se identifican como propensos a abandonar realmente lo hagan. Una precisión alta significa que la mayoría de los clientes que se identifican como propensos a abandonar realmente lo hacen.\n",
        "\n",
        "- F1 Score: Esta métrica combina la precisión y el recall en un solo número, lo cual es útil si se quiere equilibrar estos dos aspectos.\n",
        "\n",
        "- AUC-ROC: Esta métrica es útil para evaluar el rendimiento general del modelo, independientemente del umbral de clasificación que se elija."
      ],
      "metadata": {
        "id": "4JkGVcnGyQFQ"
      }
    },
    {
      "cell_type": "code",
      "source": [
        "# Identificando a los clientes de alto valor que probablemente abandonarán\n",
        "clientes_alto_valor = data_2[(data_2['CLTV'] > data_2['CLTV'].mean()) & (data_2['Churn Score'] > 50)]\n",
        "print('Clientes de alto valor que probablemente abandonarán:', len(clientes_alto_valor))"
      ],
      "metadata": {
        "colab": {
          "base_uri": "https://localhost:8080/"
        },
        "id": "2rZjcGsauZTt",
        "outputId": "bbe24ab4-337f-47bf-a857-1593b6157e5d"
      },
      "execution_count": null,
      "outputs": [
        {
          "output_type": "stream",
          "name": "stdout",
          "text": [
            "Clientes de alto valor que probablemente abandonarán: 0\n"
          ]
        }
      ]
    },
    {
      "cell_type": "markdown",
      "source": [
        "- En este código, además de entrenar un modelo para predecir el abandono del cliente, también identificamos a los clientes de alto valor (aquellos con un CLTV mayor que la media) que tienen una alta probabilidad de abandonar (aquellos con un Churn Score mayor que 50)"
      ],
      "metadata": {
        "id": "M9HFXgCuwGnB"
      }
    }
  ]
}